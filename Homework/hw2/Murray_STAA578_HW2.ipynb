{
 "cells": [
  {
   "cell_type": "markdown",
   "metadata": {},
   "source": [
    "# Homework 2\n",
    "\n",
    "**Rodney Murray**"
   ]
  },
  {
   "cell_type": "code",
   "execution_count": 1,
   "metadata": {},
   "outputs": [],
   "source": [
    "# Import packages\n",
    "import numpy as np\n",
    "import pandas as pd"
   ]
  },
  {
   "cell_type": "code",
   "execution_count": 2,
   "metadata": {},
   "outputs": [],
   "source": [
    "class SimpleLinearModel:\n",
    "    def __init__(self):\n",
    "        \"\"\"\n",
    "        Initializes a new instance of the SimpleLinearModel. Default values of w and b are set to 0, and should be updated by calling the fit method.\n",
    "        \"\"\"\n",
    "        self.w = 0\n",
    "        self.b = 0\n",
    "    \n",
    "    def __call__(self, x_new: float | np.ndarray) -> float | np.ndarray:\n",
    "        \"\"\"\n",
    "        Calculates the predicted values for new values of X as a linear model.\n",
    "\n",
    "        Parameters:\n",
    "        x_new (float): New input values to calculate predictions for.\n",
    "\n",
    "        Returns:\n",
    "        float: The output value of the linear function at the given input.\n",
    "        \"\"\"\n",
    "        y_new = self.w * x_new + self.b\n",
    "\n",
    "        return y_new\n",
    "\n",
    "    def fit(self, y: float | np.ndarray, x: float | np.ndarray) -> None:\n",
    "        \"\"\"\n",
    "        Fits the linear model to the given data.\n",
    "\n",
    "        Parameters:\n",
    "        - y (float or np.ndarray): The dependent variable.\n",
    "        - x (float or np.ndarray): The independent variable.\n",
    "\n",
    "        Returns:\n",
    "        - None\n",
    "\n",
    "        This method calculates the slope (w) and intercept (b) of the linear regression model\n",
    "        using the least squares method. It fits the model to the given data by minimizing the\n",
    "        sum of squared residuals.\n",
    "\n",
    "        \"\"\"\n",
    "        x_mean = x.mean()\n",
    "        y_mean = y.mean()\n",
    "\n",
    "        self.w = np.sum((x - x_mean) * (y - y_mean)) / np.sum((x - x_mean)**2)\n",
    "        self.b = y_mean - self.w * x_mean"
   ]
  },
  {
   "cell_type": "code",
   "execution_count": 3,
   "metadata": {},
   "outputs": [
    {
     "data": {
      "text/html": [
       "<div>\n",
       "<style scoped>\n",
       "    .dataframe tbody tr th:only-of-type {\n",
       "        vertical-align: middle;\n",
       "    }\n",
       "\n",
       "    .dataframe tbody tr th {\n",
       "        vertical-align: top;\n",
       "    }\n",
       "\n",
       "    .dataframe thead th {\n",
       "        text-align: right;\n",
       "    }\n",
       "</style>\n",
       "<table border=\"1\" class=\"dataframe\">\n",
       "  <thead>\n",
       "    <tr style=\"text-align: right;\">\n",
       "      <th></th>\n",
       "      <th>Unnamed: 0</th>\n",
       "      <th>TV</th>\n",
       "      <th>sales</th>\n",
       "    </tr>\n",
       "  </thead>\n",
       "  <tbody>\n",
       "    <tr>\n",
       "      <th>0</th>\n",
       "      <td>1</td>\n",
       "      <td>230.1</td>\n",
       "      <td>22.1</td>\n",
       "    </tr>\n",
       "    <tr>\n",
       "      <th>1</th>\n",
       "      <td>2</td>\n",
       "      <td>44.5</td>\n",
       "      <td>10.4</td>\n",
       "    </tr>\n",
       "    <tr>\n",
       "      <th>2</th>\n",
       "      <td>3</td>\n",
       "      <td>17.2</td>\n",
       "      <td>9.3</td>\n",
       "    </tr>\n",
       "    <tr>\n",
       "      <th>3</th>\n",
       "      <td>4</td>\n",
       "      <td>151.5</td>\n",
       "      <td>18.5</td>\n",
       "    </tr>\n",
       "    <tr>\n",
       "      <th>4</th>\n",
       "      <td>5</td>\n",
       "      <td>180.8</td>\n",
       "      <td>12.9</td>\n",
       "    </tr>\n",
       "  </tbody>\n",
       "</table>\n",
       "</div>"
      ],
      "text/plain": [
       "   Unnamed: 0     TV  sales\n",
       "0           1  230.1   22.1\n",
       "1           2   44.5   10.4\n",
       "2           3   17.2    9.3\n",
       "3           4  151.5   18.5\n",
       "4           5  180.8   12.9"
      ]
     },
     "execution_count": 3,
     "metadata": {},
     "output_type": "execute_result"
    }
   ],
   "source": [
    "advertising = pd.read_csv('./Homework/hw2/Advertising.csv')\n",
    "advertising.head()"
   ]
  },
  {
   "cell_type": "code",
   "execution_count": 4,
   "metadata": {},
   "outputs": [
    {
     "name": "stdout",
     "output_type": "stream",
     "text": [
      "Model Intercept: 7.033\n",
      "Model Slope: 0.048\n"
     ]
    },
    {
     "data": {
      "text/plain": [
       "0      17.970775\n",
       "1       9.147974\n",
       "2       7.850224\n",
       "3      14.234395\n",
       "4      15.627218\n",
       "         ...    \n",
       "195     8.848493\n",
       "196    11.510545\n",
       "197    15.446579\n",
       "198    20.513985\n",
       "199    18.065848\n",
       "Name: TV, Length: 200, dtype: float64"
      ]
     },
     "execution_count": 4,
     "metadata": {},
     "output_type": "execute_result"
    }
   ],
   "source": [
    "model = SimpleLinearModel()\n",
    "model.fit(advertising['sales'], advertising['TV'])\n",
    "\n",
    "print(f'Model Intercept: {model.b:0.3f}')\n",
    "print(f'Model Slope: {model.w:0.3f}')\n",
    "\n",
    "model(advertising['TV'])"
   ]
  },
  {
   "cell_type": "code",
   "execution_count": null,
   "metadata": {},
   "outputs": [],
   "source": []
  }
 ],
 "metadata": {
  "kernelspec": {
   "display_name": ".venv",
   "language": "python",
   "name": "python3"
  },
  "language_info": {
   "codemirror_mode": {
    "name": "ipython",
    "version": 3
   },
   "file_extension": ".py",
   "mimetype": "text/x-python",
   "name": "python",
   "nbconvert_exporter": "python",
   "pygments_lexer": "ipython3",
   "version": "3.12.0"
  }
 },
 "nbformat": 4,
 "nbformat_minor": 2
}
