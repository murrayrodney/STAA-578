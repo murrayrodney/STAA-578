{
 "cells": [
  {
   "cell_type": "markdown",
   "metadata": {},
   "source": [
    "# STAA HW1\n",
    "**Rodney Murray**\n",
    "\n",
    "# Problem 1"
   ]
  },
  {
   "cell_type": "code",
   "execution_count": 11,
   "metadata": {},
   "outputs": [
    {
     "data": {
      "text/plain": [
       "['apple', 'banana', 'cherry', 'kiwi', 'orange', 'pear']"
      ]
     },
     "execution_count": 11,
     "metadata": {},
     "output_type": "execute_result"
    }
   ],
   "source": [
    "fruits = [\n",
    "    \"orange\",\n",
    "    \"banana\",\n",
    "    \"banana\",\n",
    "    \"apple\",\n",
    "    \"kiwi\",\n",
    "    \"banana\",\n",
    "    \"kiwi\",\n",
    "    \"banana\",\n",
    "    \"pear\",\n",
    "    \"apple\",\n",
    "    \"apple\",\n",
    "    \"cherry\",\n",
    "    \"orange\",\n",
    "    \"apple\",\n",
    "    \"pear\",\n",
    "    \"cherry\",\n",
    "]\n",
    "\n",
    "sorted_fruits = sorted(set(fruits))\n",
    "sorted_fruits"
   ]
  },
  {
   "cell_type": "markdown",
   "metadata": {},
   "source": [
    "# Problem 2"
   ]
  },
  {
   "cell_type": "code",
   "execution_count": 12,
   "metadata": {},
   "outputs": [
    {
     "name": "stdout",
     "output_type": "stream",
     "text": [
      "Area: 10.00\n",
      "Perimeter:14.00\n"
     ]
    }
   ],
   "source": [
    "class Rectangle:\n",
    "    def __init__(self, length, width):\n",
    "        self.length = length\n",
    "        self.width = width\n",
    "\n",
    "    def calculate_area(self):\n",
    "        return self.length * self.width\n",
    "\n",
    "    def calculate_perimeter(self):\n",
    "        return 2 * (self.length + self.width)\n",
    "\n",
    "\n",
    "rec = Rectangle(length=5.0, width=2.0)\n",
    "area = rec.calculate_area()\n",
    "perimeter = rec.calculate_perimeter()\n",
    "\n",
    "print(f\"Area: {area:0.2f}\\nPerimeter:{perimeter:0.2f}\")"
   ]
  },
  {
   "cell_type": "markdown",
   "metadata": {},
   "source": [
    "# Problem 3"
   ]
  },
  {
   "cell_type": "code",
   "execution_count": 21,
   "metadata": {},
   "outputs": [
    {
     "name": "stdout",
     "output_type": "stream",
     "text": [
      "Initial_list: ['a', 'b', 'c']\n",
      "Appended value 'd': ['a', 'b', 'c', 'd']\n",
      "Removed first element: ['b', 'c', 'd']\n",
      "Removed last element: ['b', 'c']\n"
     ]
    }
   ],
   "source": [
    "class UserList:\n",
    "    def __init__(self, data: list):\n",
    "        self.data=data\n",
    "\n",
    "    def __repr__(self):\n",
    "        return str(self.data)\n",
    "\n",
    "    def append(self, new_value) -> None:\n",
    "        self.data.append(new_value)\n",
    "\n",
    "    def pop_head(self) -> None:\n",
    "        del self.data[0]\n",
    "\n",
    "    def pop_rear(self) -> None:\n",
    "        del self.data[-1]\n",
    "\n",
    "data = ['a', 'b', 'c']\n",
    "user_list = UserList(data=data)\n",
    "print(f'Initial_list: {user_list}')\n",
    "\n",
    "# Test appending a value\n",
    "user_list.append('d')\n",
    "print(f\"Appended value 'd': {user_list}\")\n",
    "\n",
    "# Test pop head\n",
    "user_list.pop_head()\n",
    "print(f'Removed first element: {user_list}')\n",
    "\n",
    "# Test pop rear\n",
    "user_list.pop_rear()\n",
    "print(f'Removed last element: {user_list}')"
   ]
  },
  {
   "cell_type": "code",
   "execution_count": null,
   "metadata": {},
   "outputs": [],
   "source": []
  }
 ],
 "metadata": {
  "kernelspec": {
   "display_name": ".venv",
   "language": "python",
   "name": "python3"
  },
  "language_info": {
   "codemirror_mode": {
    "name": "ipython",
    "version": 3
   },
   "file_extension": ".py",
   "mimetype": "text/x-python",
   "name": "python",
   "nbconvert_exporter": "python",
   "pygments_lexer": "ipython3",
   "version": "3.12.0"
  }
 },
 "nbformat": 4,
 "nbformat_minor": 2
}
