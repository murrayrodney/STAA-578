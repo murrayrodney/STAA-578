{
 "cells": [
  {
   "cell_type": "markdown",
   "id": "f1f56e52-8b89-40c1-bf4b-ba43ad2f29c2",
   "metadata": {},
   "source": [
    "## MNIST dataset"
   ]
  },
  {
   "cell_type": "markdown",
   "id": "03f04af8-18e0-4d00-ac71-4e15f27e876e",
   "metadata": {},
   "source": [
    "### Loading the MNIST dataset in Keras"
   ]
  },
  {
   "cell_type": "code",
   "execution_count": null,
   "id": "3c5eb9a5-cd8b-449e-adf1-c5edbb4ea684",
   "metadata": {},
   "outputs": [],
   "source": [
    "import os    \n",
    "os.environ['KMP_DUPLICATE_LIB_OK'] = 'True'"
   ]
  },
  {
   "cell_type": "code",
   "execution_count": null,
   "id": "9e0added-685e-4361-aa9e-19ae22cae296",
   "metadata": {},
   "outputs": [],
   "source": [
    "from tensorflow.keras.datasets import mnist\n",
    "(train_images, train_labels), (test_images, test_labels) = mnist.load_data()"
   ]
  },
  {
   "cell_type": "code",
   "execution_count": null,
   "id": "28fbde37-2fdc-4ec6-a9a8-93913d3e038c",
   "metadata": {},
   "outputs": [],
   "source": [
    "import matplotlib.pyplot as plt\n",
    "digit = train_images[4]\n",
    "plt.imshow(digit, cmap=plt.cm.binary)\n",
    "plt.show()"
   ]
  },
  {
   "cell_type": "markdown",
   "id": "f5a0cbc9-ab3b-4d10-ac80-8146a362e54d",
   "metadata": {},
   "source": [
    "### Reshape the data"
   ]
  },
  {
   "cell_type": "markdown",
   "id": "aabd0834-45c9-4981-817d-2f31498077ec",
   "metadata": {},
   "source": [
    "**Why we reshape the data? What is the potential problem?**"
   ]
  },
  {
   "cell_type": "code",
   "execution_count": null,
   "id": "af32db8e-69bd-4e7c-9dd0-7565f18ba539",
   "metadata": {},
   "outputs": [],
   "source": [
    "train_images = train_images.reshape((60000, 28 * 28))\n",
    "train_images = train_images.astype(\"float32\") / 255    ## default type is float64\n",
    "test_images = test_images.reshape((10000, 28 * 28))\n",
    "test_images = test_images.astype(\"float32\") / 255"
   ]
  },
  {
   "cell_type": "code",
   "execution_count": null,
   "id": "b580e29d-7bd3-4211-8feb-2b39db58180a",
   "metadata": {},
   "outputs": [],
   "source": [
    "train_images.shape"
   ]
  },
  {
   "cell_type": "code",
   "execution_count": null,
   "id": "dd1bcf49-d777-4a26-9be8-0b27f7b9fcfa",
   "metadata": {},
   "outputs": [],
   "source": [
    "temp = train_images[0]\n",
    "temp.shape   ## This is a tuple. "
   ]
  },
  {
   "cell_type": "markdown",
   "id": "ca74b167-7038-472e-9ffe-ff39878ada64",
   "metadata": {},
   "source": [
    "**The network architecture**"
   ]
  },
  {
   "cell_type": "code",
   "execution_count": null,
   "id": "da5854a8-0336-4a30-b060-286027831ece",
   "metadata": {},
   "outputs": [],
   "source": [
    "# will show an error\n",
    "\n",
    "# from tensorflow import keras\n",
    "# model = keras.Sequential([\n",
    "#    layers.Dense(512, activation=\"relu\"),\n",
    "#    layers.Dense(10, activation=\"softmax\")\n",
    "# ])"
   ]
  },
  {
   "cell_type": "code",
   "execution_count": null,
   "id": "cc320f21-9e47-4748-a88f-c0c4ff731770",
   "metadata": {},
   "outputs": [],
   "source": [
    "from tensorflow import keras\n",
    "model = keras.Sequential([\n",
    "    keras.layers.Dense(512, activation=\"relu\"),\n",
    "    keras.layers.Dense(10, activation=\"softmax\")\n",
    "])"
   ]
  },
  {
   "cell_type": "code",
   "execution_count": null,
   "id": "05c8ef0b-733a-4f0f-a114-3551a72a2edb",
   "metadata": {},
   "outputs": [],
   "source": [
    "from tensorflow.keras import layers\n",
    "model = keras.Sequential([\n",
    "    layers.Dense(512, activation=\"relu\"),\n",
    "    layers.Dense(10, activation=\"softmax\")\n",
    "])"
   ]
  },
  {
   "cell_type": "markdown",
   "id": "57bc1cd1-c451-4e78-9e5a-f5c9fdb88cce",
   "metadata": {},
   "source": [
    "**The compilation step** \\\n",
    "rmsprop: root mean squared propagation, a variant of stochastic gradient descent with back propagation \\\n",
    "loss: cross-entropy for multiple categories \\\n",
    "metric: display in the training and validation (not for optimization)"
   ]
  },
  {
   "cell_type": "code",
   "execution_count": null,
   "id": "bbb8397c-2e05-40da-87be-6858b4e799a5",
   "metadata": {},
   "outputs": [],
   "source": [
    "model.compile(optimizer=\"rmsprop\",\n",
    "              loss=\"sparse_categorical_crossentropy\",\n",
    "              metrics=[\"accuracy\"])\n",
    "## please get used to \"modifier\" (method for class) "
   ]
  },
  {
   "cell_type": "code",
   "execution_count": null,
   "id": "fe92d0e9-5a79-4de0-abc8-8d71cc613c93",
   "metadata": {},
   "outputs": [],
   "source": [
    "## error: weights haven't been created\n",
    "## model.weights"
   ]
  },
  {
   "cell_type": "code",
   "execution_count": null,
   "id": "d4cac41b-1879-4dd8-9596-5f819669caf5",
   "metadata": {},
   "outputs": [],
   "source": [
    "model.fit(train_images, train_labels, epochs=5, batch_size=128)"
   ]
  },
  {
   "cell_type": "code",
   "execution_count": null,
   "id": "b6ac7032-57e1-4a7f-bfe8-d577359bafee",
   "metadata": {},
   "outputs": [],
   "source": [
    "model.summary()"
   ]
  },
  {
   "cell_type": "code",
   "execution_count": null,
   "id": "f3521124-1a29-4d90-8119-0aef4803a130",
   "metadata": {},
   "outputs": [],
   "source": [
    "model.weights"
   ]
  },
  {
   "cell_type": "markdown",
   "id": "d769445c-c0c5-4444-b089-31f94c5d21e8",
   "metadata": {},
   "source": [
    "**Using the model to make predictions**"
   ]
  },
  {
   "cell_type": "code",
   "execution_count": null,
   "id": "2339fe58-e214-444e-9ca5-2bcd603c322f",
   "metadata": {},
   "outputs": [],
   "source": [
    "test_digits = test_images[0:10]\n",
    "predictions = model.predict(test_digits)\n",
    "predictions[0]"
   ]
  },
  {
   "cell_type": "code",
   "execution_count": null,
   "id": "3437733e-c359-45c4-839e-4020e29070bd",
   "metadata": {},
   "outputs": [],
   "source": [
    "predictions.shape"
   ]
  },
  {
   "cell_type": "code",
   "execution_count": null,
   "id": "7c184fb5-ebe0-45b9-bb16-8dc17e252ea5",
   "metadata": {},
   "outputs": [],
   "source": [
    "predictions[0].argmax()"
   ]
  },
  {
   "cell_type": "code",
   "execution_count": null,
   "id": "a103d183-39e7-4dfb-b71a-a557bdbc06b8",
   "metadata": {},
   "outputs": [],
   "source": [
    "predictions[0][predictions[0].argmax()]"
   ]
  },
  {
   "cell_type": "code",
   "execution_count": null,
   "id": "2a6cbee6-4782-4c37-89c3-9c75b012427a",
   "metadata": {},
   "outputs": [],
   "source": [
    "test_labels[0]"
   ]
  },
  {
   "cell_type": "code",
   "execution_count": null,
   "id": "b4908701-f852-4e64-b8fc-b18aa719427b",
   "metadata": {},
   "outputs": [],
   "source": [
    "test_loss, test_acc = model.evaluate(test_images, test_labels)\n",
    "print(f\"test_acc: {test_acc}\")"
   ]
  },
  {
   "cell_type": "markdown",
   "id": "a00dab76-b9f3-428a-9810-f1c20db30386",
   "metadata": {},
   "source": [
    "## Classifying movie reviews: A binary classification example"
   ]
  },
  {
   "cell_type": "markdown",
   "id": "c3643c09-4069-48ef-90bb-e9f36ae863d8",
   "metadata": {},
   "source": [
    "## The IMDB dataset"
   ]
  },
  {
   "cell_type": "markdown",
   "id": "37d19d52-f1a4-4707-91d7-62aa79a4df00",
   "metadata": {},
   "source": [
    "**Loading the IMDB dataset**"
   ]
  },
  {
   "cell_type": "code",
   "execution_count": null,
   "id": "21127b1b-895a-4ec3-b5e5-fc2980cc9c45",
   "metadata": {},
   "outputs": [],
   "source": [
    "from tensorflow.keras.datasets import imdb\n",
    "(train_data, train_labels), (test_data, test_labels) = imdb.load_data(\n",
    "    num_words=10000)"
   ]
  },
  {
   "cell_type": "code",
   "execution_count": null,
   "id": "19bdd07c-8dd7-4911-b521-e10728b1839c",
   "metadata": {},
   "outputs": [],
   "source": [
    "train_data[0]"
   ]
  },
  {
   "cell_type": "code",
   "execution_count": null,
   "id": "ee6e240e-88ac-43d4-87ec-0696f4bc6aa2",
   "metadata": {},
   "outputs": [],
   "source": [
    "len(train_data[0])"
   ]
  },
  {
   "cell_type": "code",
   "execution_count": null,
   "id": "40a8ca1b-3074-46aa-8454-55ebcaf1754c",
   "metadata": {},
   "outputs": [],
   "source": [
    "train_labels[0] ## 0 stands for negative and 1 stands for positive "
   ]
  },
  {
   "cell_type": "code",
   "execution_count": null,
   "id": "db5f1349-c452-4c51-812f-87c2582963f2",
   "metadata": {},
   "outputs": [],
   "source": [
    "max([max(sequence) for sequence in train_data])"
   ]
  },
  {
   "cell_type": "markdown",
   "id": "0e95bb38-773f-4720-9535-8f8519453c9e",
   "metadata": {},
   "source": [
    "**Decoding reviews back to text**"
   ]
  },
  {
   "cell_type": "code",
   "execution_count": null,
   "id": "1d9bc45c-c96b-42f6-9500-ddc565393fcb",
   "metadata": {},
   "outputs": [],
   "source": [
    "word_index = imdb.get_word_index()\n",
    "type(word_index)"
   ]
  },
  {
   "cell_type": "code",
   "execution_count": null,
   "id": "9f96002a-829d-4daf-aeea-532aca1c253b",
   "metadata": {},
   "outputs": [],
   "source": [
    "list(word_index.keys())[0:10]"
   ]
  },
  {
   "cell_type": "code",
   "execution_count": null,
   "id": "947428b7-46d6-4340-ae49-bf87f6625c09",
   "metadata": {},
   "outputs": [],
   "source": [
    "word_index['fawn']"
   ]
  },
  {
   "cell_type": "code",
   "execution_count": null,
   "id": "e2dcee03-2527-4738-be95-2c43a3288295",
   "metadata": {},
   "outputs": [],
   "source": [
    "word_index['tsukino']"
   ]
  },
  {
   "cell_type": "code",
   "execution_count": null,
   "id": "ffb7174d-f36c-4838-8bf1-2aaa4595bc64",
   "metadata": {},
   "outputs": [],
   "source": [
    "list(word_index.items())[0:10]"
   ]
  },
  {
   "cell_type": "code",
   "execution_count": null,
   "id": "001e02c8-6af5-4a41-9262-896e13ea8eb5",
   "metadata": {},
   "outputs": [],
   "source": [
    "reverse_word_index = dict(\n",
    "    [(value, key) for (key, value) in word_index.items()])\n",
    "reverse_word_index1 = dict(\n",
    "    [(value, key) for (key, value) in list(word_index.items())])"
   ]
  },
  {
   "cell_type": "code",
   "execution_count": null,
   "id": "52bbf2a3-b7e4-423b-b981-16b2f99ee81e",
   "metadata": {},
   "outputs": [],
   "source": [
    "reverse_word_index == reverse_word_index1"
   ]
  },
  {
   "cell_type": "code",
   "execution_count": null,
   "id": "d1f0a863-91e1-4477-a29a-1f656cf09cb9",
   "metadata": {},
   "outputs": [],
   "source": [
    "decoded_review = \" \".join(\n",
    "    [reverse_word_index.get(i - 3, \"?\") for i in train_data[0]])\n",
    "## the indices are offset by 3 because 0, 1 and 2 are reserved indices for \"padding\", \"start of sequence\" and \"unknown\""
   ]
  },
  {
   "cell_type": "code",
   "execution_count": null,
   "id": "f1ab1f06-6efa-4feb-a1ea-75b3e3c35eb5",
   "metadata": {},
   "outputs": [],
   "source": [
    "decoded_review"
   ]
  },
  {
   "cell_type": "markdown",
   "id": "77ef9aba-22f2-44d4-84a2-e62b71e1edea",
   "metadata": {},
   "source": [
    "### Preparing the data"
   ]
  },
  {
   "cell_type": "markdown",
   "id": "c8de877b-5784-43c2-bd9a-3a0b10a41e78",
   "metadata": {},
   "source": [
    "**Encoding the integer sequences via multi-hot encoding**"
   ]
  },
  {
   "cell_type": "code",
   "execution_count": null,
   "id": "eb1ad7cd-02ee-4b9f-8695-85e2e3e7d514",
   "metadata": {},
   "outputs": [],
   "source": [
    "import numpy as np\n",
    "def vectorize_sequences(sequences, dimension=10000):\n",
    "    results = np.zeros((len(sequences), dimension))\n",
    "    for i, sequence in enumerate(sequences):\n",
    "        for j in sequence:\n",
    "            results[i, j] = 1.\n",
    "    return results"
   ]
  },
  {
   "cell_type": "code",
   "execution_count": null,
   "id": "f8095321-d6af-41f3-a1d7-747fcfe7ac34",
   "metadata": {},
   "outputs": [],
   "source": [
    "x_train = vectorize_sequences(train_data)\n",
    "x_test = vectorize_sequences(test_data)\n",
    "x_train[0]"
   ]
  },
  {
   "cell_type": "code",
   "execution_count": null,
   "id": "ed17395b-cc74-48c7-af7a-32156a803f19",
   "metadata": {},
   "outputs": [],
   "source": [
    "len(x_train[0])\n"
   ]
  },
  {
   "cell_type": "code",
   "execution_count": null,
   "id": "2582324a-61c3-4cee-8205-35b89aad1ebb",
   "metadata": {},
   "outputs": [],
   "source": [
    "sum(x_train[0])"
   ]
  },
  {
   "cell_type": "code",
   "execution_count": null,
   "id": "aa348276-d16f-415f-936b-3a07b841586a",
   "metadata": {},
   "outputs": [],
   "source": [
    "len(set(train_data[0]))"
   ]
  },
  {
   "cell_type": "code",
   "execution_count": null,
   "id": "60c21205-a6e8-4a05-ba36-8ee4c167b526",
   "metadata": {},
   "outputs": [],
   "source": [
    "## vectorize the labels"
   ]
  },
  {
   "cell_type": "code",
   "execution_count": null,
   "id": "e8715491-4e9c-4691-8047-8ef08a8ff919",
   "metadata": {},
   "outputs": [],
   "source": [
    "train_labels"
   ]
  },
  {
   "cell_type": "code",
   "execution_count": null,
   "id": "ccf4618f-ea4d-46c7-9f73-5139b708ee85",
   "metadata": {},
   "outputs": [],
   "source": [
    "# y_train = np.asarray(train_labels).astype(\"float32\")\n",
    "# y_train"
   ]
  },
  {
   "cell_type": "markdown",
   "id": "e7a9103e-39d9-4c69-9953-2f614e5a1388",
   "metadata": {},
   "source": [
    "### Building your model"
   ]
  },
  {
   "cell_type": "code",
   "execution_count": null,
   "id": "fd5630d9-7ae6-4495-9af5-011a3181253f",
   "metadata": {},
   "outputs": [],
   "source": [
    "from tensorflow import keras\n",
    "from tensorflow.keras import layers\n",
    "\n",
    "model = keras.Sequential([\n",
    "    layers.Dense(16, activation=\"relu\"),\n",
    "    layers.Dense(16, activation=\"relu\"),\n",
    "    layers.Dense(1, activation=\"sigmoid\")\n",
    "])"
   ]
  },
  {
   "cell_type": "code",
   "execution_count": null,
   "id": "e0ed0d93-cf33-49df-b462-e6c6433a30f0",
   "metadata": {},
   "outputs": [],
   "source": [
    "model.compile(optimizer=\"rmsprop\",\n",
    "              loss=\"binary_crossentropy\",\n",
    "              metrics=[\"accuracy\"])"
   ]
  },
  {
   "cell_type": "code",
   "execution_count": null,
   "id": "c0807d3d-4887-44b9-a251-2d3fe09b0f7d",
   "metadata": {},
   "outputs": [],
   "source": [
    "y_train = train_labels\n",
    "y_test = test_labels\n",
    "## textbook used y_train = np.asarray(train_labels).astype(\"float32\") \n",
    "## I didn't see difference\n",
    "\n",
    "\n",
    "x_val = x_train[:10000]\n",
    "partial_x_train = x_train[10000:]\n",
    "y_val = y_train[:10000]\n",
    "partial_y_train = y_train[10000:]"
   ]
  },
  {
   "cell_type": "code",
   "execution_count": null,
   "id": "0ddfc37e-4e63-430d-b422-e509e1ad56c7",
   "metadata": {},
   "outputs": [],
   "source": [
    "history = model.fit(partial_x_train,\n",
    "                    partial_y_train,\n",
    "                    epochs=20,\n",
    "                    batch_size=512,\n",
    "                    validation_data=(x_val, y_val))"
   ]
  },
  {
   "cell_type": "code",
   "execution_count": null,
   "id": "47358e1f-a476-4d77-aa1f-98d675aa2573",
   "metadata": {},
   "outputs": [],
   "source": [
    "history_dict = history.history\n",
    "history_dict.keys() ## dictionary shows keys"
   ]
  },
  {
   "cell_type": "code",
   "execution_count": null,
   "id": "59e00408-7f53-423a-b6b4-71d17fb07665",
   "metadata": {},
   "outputs": [],
   "source": [
    "import matplotlib.pyplot as plt\n",
    "history_dict = history.history\n",
    "loss_values = history_dict[\"loss\"]\n",
    "val_loss_values = history_dict[\"val_loss\"]\n",
    "epochs = range(1, len(loss_values) + 1)\n",
    "plt.plot(epochs, loss_values, \"bo\", label=\"Training loss\")\n",
    "plt.plot(epochs, val_loss_values, \"b\", label=\"Validation loss\")\n",
    "plt.title(\"Training and validation loss\")\n",
    "plt.xlabel(\"Epochs\")\n",
    "plt.ylabel(\"Loss\")\n",
    "plt.legend()\n",
    "plt.show()"
   ]
  },
  {
   "cell_type": "code",
   "execution_count": null,
   "id": "03ff25be-8e8b-45b3-958b-066741163506",
   "metadata": {},
   "outputs": [],
   "source": [
    "plt.clf()  ## clears the entire current figure with all its axes\n",
    "acc = history_dict[\"accuracy\"]\n",
    "val_acc = history_dict[\"val_accuracy\"]\n",
    "plt.plot(epochs, acc, \"bo\", label=\"Training acc\")\n",
    "plt.plot(epochs, val_acc, \"b\", label=\"Validation acc\")\n",
    "plt.title(\"Training and validation accuracy\")\n",
    "plt.xlabel(\"Epochs\")\n",
    "plt.ylabel(\"Accuracy\")\n",
    "plt.legend()\n",
    "plt.show()"
   ]
  },
  {
   "cell_type": "code",
   "execution_count": null,
   "id": "4a2d0f1d-21ac-4774-9da0-cde4228fc327",
   "metadata": {
    "scrolled": true
   },
   "outputs": [],
   "source": [
    "model = keras.Sequential([\n",
    "    layers.Dense(16, activation=\"relu\"),\n",
    "    layers.Dense(16, activation=\"relu\"),\n",
    "    layers.Dense(1, activation=\"sigmoid\")\n",
    "])\n",
    "model.compile(optimizer=\"rmsprop\",\n",
    "              loss=\"binary_crossentropy\",\n",
    "              metrics=[\"accuracy\"])\n",
    "model.fit(x_train, y_train, epochs=4, batch_size=512)\n",
    "results = model.evaluate(x_test, y_test)"
   ]
  },
  {
   "cell_type": "code",
   "execution_count": null,
   "id": "6758eb5d-a6ae-44ae-a781-355b12287051",
   "metadata": {
    "scrolled": true
   },
   "outputs": [],
   "source": [
    "results"
   ]
  },
  {
   "cell_type": "markdown",
   "id": "e65ae5bb-6e44-4d5b-a708-d4032a9c7479",
   "metadata": {},
   "source": [
    "### Using a trained model to generate predictions on new data"
   ]
  },
  {
   "cell_type": "code",
   "execution_count": null,
   "id": "957738d4-f485-4e5d-b6ab-a4b84c634069",
   "metadata": {},
   "outputs": [],
   "source": [
    "model.predict(x_test[0:10])"
   ]
  },
  {
   "cell_type": "markdown",
   "id": "2cbd3f6a-c9cc-49f0-94c1-ea907bbfbf3f",
   "metadata": {},
   "source": [
    "## Classifying newswires: A multiclass classification example"
   ]
  },
  {
   "cell_type": "markdown",
   "id": "2b7472bc-f767-463d-9c28-32ae0d4c76c2",
   "metadata": {},
   "source": [
    "## The Reuters dataset"
   ]
  },
  {
   "cell_type": "markdown",
   "id": "f6080947-2da6-4616-b6b4-57975e6afc54",
   "metadata": {},
   "source": [
    "**Loading the Reuters dataset**"
   ]
  },
  {
   "cell_type": "code",
   "execution_count": null,
   "id": "861a4f73-5a3b-4ec3-a1c0-0b9382885cea",
   "metadata": {},
   "outputs": [],
   "source": [
    "from tensorflow.keras.datasets import reuters\n",
    "(train_data, train_labels), (test_data, test_labels) = reuters.load_data(\n",
    "    num_words=10000)"
   ]
  },
  {
   "cell_type": "code",
   "execution_count": null,
   "id": "91933085-1906-498e-9f41-38c6e48f7b36",
   "metadata": {},
   "outputs": [],
   "source": [
    "len(train_data)"
   ]
  },
  {
   "cell_type": "code",
   "execution_count": null,
   "id": "cb0e445e-196f-4546-85bb-4048aba97fa4",
   "metadata": {},
   "outputs": [],
   "source": [
    "len(test_data)"
   ]
  },
  {
   "cell_type": "code",
   "execution_count": null,
   "id": "95285af6-cb9b-4812-aef4-b46497dbc31e",
   "metadata": {},
   "outputs": [],
   "source": [
    "word_index = reuters.get_word_index()\n",
    "reverse_word_index = dict([(value, key) for (key, value) in word_index.items()])\n",
    "decoded_newswire = \" \".join([reverse_word_index.get(i - 3, \"?\") for i in\n",
    "    train_data[0]])"
   ]
  },
  {
   "cell_type": "code",
   "execution_count": null,
   "id": "a787a6e1-36d3-411f-bdc7-c3e1495b0859",
   "metadata": {},
   "outputs": [],
   "source": [
    "decoded_newswire"
   ]
  },
  {
   "cell_type": "markdown",
   "id": "3338556a-6d0c-4519-8be7-5197ab6f0678",
   "metadata": {},
   "source": [
    "**For a list of topics, refer to https://github.com/SteffenBauer/KerasTools/tree/master/Reuters_Analysis**"
   ]
  },
  {
   "cell_type": "code",
   "execution_count": null,
   "id": "b4124c7f-3090-472e-9fdc-37328d6d13fe",
   "metadata": {},
   "outputs": [],
   "source": [
    "train_labels[0:10]"
   ]
  },
  {
   "cell_type": "markdown",
   "id": "21aedcdb-1bce-4ce5-92ff-acd832f05237",
   "metadata": {},
   "source": [
    "### Preparing the data"
   ]
  },
  {
   "cell_type": "markdown",
   "id": "08f264fd-fb56-478e-b1c6-aa652958193a",
   "metadata": {},
   "source": [
    "**Encoding the input data**"
   ]
  },
  {
   "cell_type": "code",
   "execution_count": null,
   "id": "c1c10b58-8f76-4035-b2ec-fb0b44b5df30",
   "metadata": {},
   "outputs": [],
   "source": [
    "x_train = vectorize_sequences(train_data)\n",
    "x_test = vectorize_sequences(test_data)"
   ]
  },
  {
   "cell_type": "markdown",
   "id": "0375a32a-a8ff-4a4b-acf7-be71a0b86dac",
   "metadata": {},
   "source": [
    "**Encoding the labels**"
   ]
  },
  {
   "cell_type": "code",
   "execution_count": null,
   "id": "d9423f3a-f773-4939-bf50-5d23380a3619",
   "metadata": {},
   "outputs": [],
   "source": [
    "def to_one_hot(labels, dimension=46):\n",
    "    results = np.zeros((len(labels), dimension))\n",
    "    for i, label in enumerate(labels):\n",
    "        results[i, label] = 1.\n",
    "    return results\n",
    "y_train = to_one_hot(train_labels)\n",
    "y_test = to_one_hot(test_labels)"
   ]
  },
  {
   "cell_type": "code",
   "execution_count": null,
   "id": "4801e8ef-10e4-4778-9e62-4611c689b941",
   "metadata": {},
   "outputs": [],
   "source": [
    "y_train[0:10]"
   ]
  },
  {
   "cell_type": "code",
   "execution_count": null,
   "id": "eeef2728-dce8-4dd4-a2c9-e0ea3b7e0868",
   "metadata": {},
   "outputs": [],
   "source": [
    "y_train.shape"
   ]
  },
  {
   "cell_type": "code",
   "execution_count": null,
   "id": "2c4dc9c1-2e6a-4d7f-891a-6b06ed60a548",
   "metadata": {},
   "outputs": [],
   "source": [
    "## A build-in in Keras\n",
    "from tensorflow.keras.utils import to_categorical\n",
    "y_train = to_categorical(train_labels)\n",
    "y_test = to_categorical(test_labels)"
   ]
  },
  {
   "cell_type": "code",
   "execution_count": null,
   "id": "fcd3858c-90e1-45e2-8e88-194d481ccad0",
   "metadata": {},
   "outputs": [],
   "source": [
    "y_train.shape"
   ]
  },
  {
   "cell_type": "markdown",
   "id": "48cd474f-8b6a-4163-ab9f-707595e84516",
   "metadata": {},
   "source": [
    "### Building your model"
   ]
  },
  {
   "cell_type": "code",
   "execution_count": null,
   "id": "26078ac6-10e7-4ab6-8cd3-11d7a0cc936d",
   "metadata": {},
   "outputs": [],
   "source": [
    "model = keras.Sequential([\n",
    "    layers.Dense(64, activation=\"relu\"),\n",
    "    layers.Dense(64, activation=\"relu\"),\n",
    "    layers.Dense(46, activation=\"softmax\")\n",
    "])"
   ]
  },
  {
   "cell_type": "code",
   "execution_count": null,
   "id": "2e646ca3-e359-4fc1-890d-ac376af935b6",
   "metadata": {},
   "outputs": [],
   "source": [
    "model.compile(optimizer=\"rmsprop\",\n",
    "              loss=\"categorical_crossentropy\",\n",
    "              metrics=[\"accuracy\"])"
   ]
  },
  {
   "cell_type": "markdown",
   "id": "c4d2e00b-43b7-4ba2-88e4-0a8a9db4c898",
   "metadata": {},
   "source": [
    "### Validating your approach"
   ]
  },
  {
   "cell_type": "code",
   "execution_count": null,
   "id": "9780ae1a-cb25-42af-b92d-f509d042c647",
   "metadata": {},
   "outputs": [],
   "source": [
    "x_val = x_train[:1000]\n",
    "partial_x_train = x_train[1000:]\n",
    "y_val = y_train[:1000]\n",
    "partial_y_train = y_train[1000:]"
   ]
  },
  {
   "cell_type": "code",
   "execution_count": null,
   "id": "dc12d61c-6e4e-4882-a434-b01b2b158a3a",
   "metadata": {},
   "outputs": [],
   "source": [
    "history = model.fit(partial_x_train,\n",
    "                    partial_y_train,\n",
    "                    epochs=20,\n",
    "                    batch_size=512,\n",
    "                    validation_data=(x_val, y_val))"
   ]
  },
  {
   "cell_type": "code",
   "execution_count": null,
   "id": "77e004af-0cfa-4060-8851-950b0ad26192",
   "metadata": {},
   "outputs": [],
   "source": [
    "loss = history.history[\"loss\"]\n",
    "val_loss = history.history[\"val_loss\"]\n",
    "epochs = range(1, len(loss) + 1)\n",
    "plt.plot(epochs, loss, \"bo\", label=\"Training loss\")\n",
    "plt.plot(epochs, val_loss, \"b\", label=\"Validation loss\")\n",
    "plt.title(\"Training and validation loss\")\n",
    "plt.xlabel(\"Epochs\")\n",
    "plt.ylabel(\"Loss\")\n",
    "plt.legend()\n",
    "plt.show()"
   ]
  },
  {
   "cell_type": "code",
   "execution_count": null,
   "id": "8d610535-9424-4966-a532-2c456c238eef",
   "metadata": {},
   "outputs": [],
   "source": [
    "plt.clf()\n",
    "acc = history.history[\"accuracy\"]\n",
    "val_acc = history.history[\"val_accuracy\"]\n",
    "plt.plot(epochs, acc, \"bo\", label=\"Training accuracy\")\n",
    "plt.plot(epochs, val_acc, \"b\", label=\"Validation accuracy\")\n",
    "plt.title(\"Training and validation accuracy\")\n",
    "plt.xlabel(\"Epochs\")\n",
    "plt.ylabel(\"Accuracy\")\n",
    "plt.legend()\n",
    "plt.show()"
   ]
  },
  {
   "cell_type": "markdown",
   "id": "e1a9364d-a124-4be4-8751-3640466ef294",
   "metadata": {},
   "source": [
    "**Retraining a model from scratch**"
   ]
  },
  {
   "cell_type": "code",
   "execution_count": null,
   "id": "06ed4650-b114-43da-bf99-8f495f0525a3",
   "metadata": {},
   "outputs": [],
   "source": [
    "model = keras.Sequential([\n",
    "  layers.Dense(64, activation=\"relu\"),\n",
    "  layers.Dense(64, activation=\"relu\"),\n",
    "  layers.Dense(46, activation=\"softmax\")\n",
    "])\n",
    "model.compile(optimizer=\"rmsprop\",\n",
    "              loss=\"categorical_crossentropy\",\n",
    "              metrics=[\"accuracy\"])\n",
    "model.fit(x_train,\n",
    "          y_train,\n",
    "          epochs=9,\n",
    "          batch_size=512)\n",
    "results = model.evaluate(x_test, y_test)"
   ]
  },
  {
   "cell_type": "code",
   "execution_count": null,
   "id": "596c856c-87d1-4ba3-8617-78112cd66102",
   "metadata": {},
   "outputs": [],
   "source": [
    "results"
   ]
  },
  {
   "cell_type": "markdown",
   "id": "3fc7cd4e-53b9-4dee-a9cf-931926f95de8",
   "metadata": {},
   "source": [
    "**The accuracy means good or bad?** \\\n",
    "**Try a random guess**"
   ]
  },
  {
   "cell_type": "code",
   "execution_count": null,
   "id": "a4c5133c-9619-4405-8aa9-31c8164ed890",
   "metadata": {},
   "outputs": [],
   "source": [
    "import copy\n",
    "test_labels_copy = copy.copy(test_labels)\n",
    "np.random.shuffle(test_labels_copy)\n",
    "hits_array = np.array(test_labels) == np.array(test_labels_copy)"
   ]
  },
  {
   "cell_type": "code",
   "execution_count": null,
   "id": "97e1b13c-c78b-4be7-82c7-b02ab07452bb",
   "metadata": {},
   "outputs": [],
   "source": [
    "hits_array"
   ]
  },
  {
   "cell_type": "code",
   "execution_count": null,
   "id": "c3de0470-fe60-41a6-9970-030d05d54960",
   "metadata": {},
   "outputs": [],
   "source": [
    "hits_array.mean()"
   ]
  },
  {
   "cell_type": "code",
   "execution_count": null,
   "id": "28a97ee4-b424-438c-87b5-80d28cead03a",
   "metadata": {},
   "outputs": [],
   "source": [
    "predictions = model.predict(x_test)"
   ]
  },
  {
   "cell_type": "code",
   "execution_count": null,
   "id": "f23639db-7997-4986-a1ae-76234e11dfb0",
   "metadata": {},
   "outputs": [],
   "source": [
    "predictions[0].shape"
   ]
  },
  {
   "cell_type": "code",
   "execution_count": null,
   "id": "d52d7be7-0df0-4fc6-84d2-57b5acb1381a",
   "metadata": {},
   "outputs": [],
   "source": [
    "predictions[0]"
   ]
  },
  {
   "cell_type": "code",
   "execution_count": null,
   "id": "fe14a5ff-1e02-4bfc-b3f1-7381cd0c4cf4",
   "metadata": {},
   "outputs": [],
   "source": [
    "np.sum(predictions[0])"
   ]
  },
  {
   "cell_type": "code",
   "execution_count": null,
   "id": "6ef30aea-946d-4640-914a-aa2a89d50eef",
   "metadata": {},
   "outputs": [],
   "source": [
    "np.argmax(predictions[0])"
   ]
  },
  {
   "cell_type": "markdown",
   "id": "883294af-6490-414a-aa6d-874a840bd136",
   "metadata": {},
   "source": [
    "### A different way to handle the labels and the loss (as in the MNIST data)"
   ]
  },
  {
   "cell_type": "code",
   "execution_count": null,
   "id": "3ad561d6-311e-46dd-bb34-27987832c4aa",
   "metadata": {},
   "outputs": [],
   "source": [
    "y_train = train_labels\n",
    "y_test = test_labels"
   ]
  },
  {
   "cell_type": "code",
   "execution_count": null,
   "id": "881a61a6-73e7-4c13-9be4-c9110d8d2bed",
   "metadata": {},
   "outputs": [],
   "source": [
    "y_train.shape"
   ]
  },
  {
   "cell_type": "code",
   "execution_count": null,
   "id": "13dfbc1a-f71f-4bd0-891e-5f1f53376c67",
   "metadata": {},
   "outputs": [],
   "source": [
    "model = keras.Sequential([\n",
    "    layers.Dense(64, activation=\"relu\"),\n",
    "    layers.Dense(64, activation=\"relu\"),\n",
    "    layers.Dense(46, activation=\"softmax\")\n",
    "])"
   ]
  },
  {
   "cell_type": "code",
   "execution_count": null,
   "id": "0ac40a1a-a9d9-44d8-823b-38a6e338cc74",
   "metadata": {},
   "outputs": [],
   "source": [
    "model.compile(optimizer=\"rmsprop\",\n",
    "              loss=\"sparse_categorical_crossentropy\",\n",
    "              metrics=[\"accuracy\"])"
   ]
  },
  {
   "cell_type": "code",
   "execution_count": null,
   "id": "94fd27c9-0730-424f-bb0a-cdc732e4b8dc",
   "metadata": {},
   "outputs": [],
   "source": [
    "x_val = x_train[:1000]\n",
    "partial_x_train = x_train[1000:]\n",
    "y_val = y_train[:1000]\n",
    "partial_y_train = y_train[1000:]\n"
   ]
  },
  {
   "cell_type": "code",
   "execution_count": null,
   "id": "13d62c90-c860-449b-b296-5934f305eb8a",
   "metadata": {},
   "outputs": [],
   "source": [
    "history = model.fit(partial_x_train,\n",
    "                    partial_y_train,\n",
    "                    epochs=20,\n",
    "                    batch_size=512,\n",
    "                    validation_data=(x_val, y_val))"
   ]
  },
  {
   "cell_type": "code",
   "execution_count": null,
   "id": "7d7353b5-e904-4124-b3af-4caf7bc06d3a",
   "metadata": {},
   "outputs": [],
   "source": [
    "loss = history.history[\"loss\"]\n",
    "val_loss = history.history[\"val_loss\"]\n",
    "epochs = range(1, len(loss) + 1)\n",
    "plt.plot(epochs, loss, \"bo\", label=\"Training loss\")\n",
    "plt.plot(epochs, val_loss, \"b\", label=\"Validation loss\")\n",
    "plt.title(\"Training and validation loss\")\n",
    "plt.xlabel(\"Epochs\")\n",
    "plt.ylabel(\"Loss\")\n",
    "plt.legend()\n",
    "plt.show()"
   ]
  },
  {
   "cell_type": "markdown",
   "id": "22143a5f-bcc2-458a-a9b4-056f266572c4",
   "metadata": {},
   "source": [
    "### The importance of having sufficiently large intermediate layers"
   ]
  },
  {
   "cell_type": "code",
   "execution_count": null,
   "id": "ac190927-04b0-4b4c-8eb2-1cbc36a90f78",
   "metadata": {},
   "outputs": [],
   "source": [
    "model = keras.Sequential([\n",
    "    layers.Dense(64, activation=\"relu\"),\n",
    "    layers.Dense(4, activation=\"relu\"),\n",
    "    layers.Dense(46, activation=\"softmax\")\n",
    "])\n",
    "model.compile(optimizer=\"rmsprop\",\n",
    "              loss=\"sparse_categorical_crossentropy\",\n",
    "              metrics=[\"accuracy\"])\n",
    "model.fit(partial_x_train,\n",
    "          partial_y_train,\n",
    "          epochs=20,\n",
    "          batch_size=128,\n",
    "          validation_data=(x_val, y_val))\n"
   ]
  },
  {
   "cell_type": "markdown",
   "id": "37afb567-8441-4e20-9ad1-6fb7eef41fd5",
   "metadata": {},
   "source": [
    "## Predicting house prices: A regression example"
   ]
  },
  {
   "cell_type": "markdown",
   "id": "a4454838-25ad-4224-8fe2-aa717fb8ff79",
   "metadata": {},
   "source": [
    "### The Boston Housing Price dataset"
   ]
  },
  {
   "cell_type": "code",
   "execution_count": null,
   "id": "154766a5-13cf-4846-a2c1-3958380037dc",
   "metadata": {},
   "outputs": [],
   "source": [
    "from tensorflow.keras.datasets import boston_housing\n",
    "(train_data, train_targets), (test_data, test_targets) = boston_housing.load_data()"
   ]
  },
  {
   "cell_type": "code",
   "execution_count": null,
   "id": "2570092e-4cf2-497f-8a29-7077f3466fb4",
   "metadata": {},
   "outputs": [],
   "source": [
    "train_data.shape"
   ]
  },
  {
   "cell_type": "code",
   "execution_count": null,
   "id": "63072444-c542-4e23-8e54-3592a2444491",
   "metadata": {},
   "outputs": [],
   "source": [
    "test_data.shape"
   ]
  },
  {
   "cell_type": "code",
   "execution_count": null,
   "id": "48683ad3-a551-462b-b44b-44008a5a2b15",
   "metadata": {},
   "outputs": [],
   "source": [
    "train_targets[0:10]"
   ]
  },
  {
   "cell_type": "markdown",
   "id": "0be08233-c57b-42a7-96b8-c7d2b154f6b9",
   "metadata": {},
   "source": [
    "**Normalizing the data**"
   ]
  },
  {
   "cell_type": "code",
   "execution_count": null,
   "id": "c25ff58a-1ed2-43d6-9296-6ba441261816",
   "metadata": {},
   "outputs": [],
   "source": [
    "mean = train_data.mean(axis=0)\n",
    "train_data -= mean\n",
    "std = train_data.std(axis=0)\n",
    "train_data /= std\n",
    "test_data -= mean\n",
    "test_data /= std"
   ]
  },
  {
   "cell_type": "markdown",
   "id": "b576c0a4-7700-49d8-913e-5a9d56f46b8a",
   "metadata": {},
   "source": [
    "### Validating your approach using K-fold validation"
   ]
  },
  {
   "cell_type": "code",
   "execution_count": null,
   "id": "c919cd31-9487-478f-966f-065708d9e3f6",
   "metadata": {},
   "outputs": [],
   "source": [
    "def build_model():\n",
    "    model = keras.Sequential([\n",
    "        layers.Dense(64, activation=\"relu\"),\n",
    "        layers.Dense(64, activation=\"relu\"),\n",
    "        layers.Dense(1)\n",
    "    ])\n",
    "    model.compile(optimizer=\"rmsprop\", loss=\"mse\", metrics=[\"mae\"])\n",
    "    return model"
   ]
  },
  {
   "cell_type": "code",
   "execution_count": null,
   "id": "49ed7d01-6a19-422b-a3ac-50eb6fcdb4a4",
   "metadata": {},
   "outputs": [],
   "source": [
    "k = 4\n",
    "num_val_samples = len(train_data) // k\n",
    "num_epochs = 100\n",
    "all_scores = []\n",
    "for i in range(k):\n",
    "    print(f\"Processing fold #{i}\")\n",
    "    val_data = train_data[i * num_val_samples: (i + 1) * num_val_samples]\n",
    "    val_targets = train_targets[i * num_val_samples: (i + 1) * num_val_samples]\n",
    "    partial_train_data = np.concatenate(\n",
    "        [train_data[:i * num_val_samples],\n",
    "         train_data[(i + 1) * num_val_samples:]],\n",
    "        axis=0)\n",
    "    partial_train_targets = np.concatenate(\n",
    "        [train_targets[:i * num_val_samples],\n",
    "         train_targets[(i + 1) * num_val_samples:]],\n",
    "        axis=0)\n",
    "    model = build_model()\n",
    "    model.fit(partial_train_data, partial_train_targets,\n",
    "              epochs=num_epochs, batch_size=16, verbose=0)\n",
    "    val_mse, val_mae = model.evaluate(val_data, val_targets, verbose=0)\n",
    "    all_scores.append(val_mae)"
   ]
  },
  {
   "cell_type": "code",
   "execution_count": null,
   "id": "b03616ae-86e9-46ac-ae70-8d5182d6c868",
   "metadata": {},
   "outputs": [],
   "source": [
    "len(train_data)"
   ]
  },
  {
   "cell_type": "code",
   "execution_count": null,
   "id": "02c04f63-80e6-45e4-b0b8-1fcd0403f8bf",
   "metadata": {},
   "outputs": [],
   "source": [
    "all_scores"
   ]
  },
  {
   "cell_type": "markdown",
   "id": "860db181-4d4f-4759-b606-e1529f580a53",
   "metadata": {},
   "source": [
    "**Saving the validation logs at each fold**"
   ]
  },
  {
   "cell_type": "code",
   "execution_count": null,
   "id": "1432456d-63bd-4925-8a1c-3e5de32829f4",
   "metadata": {},
   "outputs": [],
   "source": [
    "num_epochs = 500\n",
    "all_mae_histories = []\n",
    "for i in range(k):\n",
    "    print(f\"Processing fold #{i}\")\n",
    "    val_data = train_data[i * num_val_samples: (i + 1) * num_val_samples]\n",
    "    val_targets = train_targets[i * num_val_samples: (i + 1) * num_val_samples]\n",
    "    partial_train_data = np.concatenate(\n",
    "        [train_data[:i * num_val_samples],\n",
    "         train_data[(i + 1) * num_val_samples:]],\n",
    "        axis=0)\n",
    "    partial_train_targets = np.concatenate(\n",
    "        [train_targets[:i * num_val_samples],\n",
    "         train_targets[(i + 1) * num_val_samples:]],\n",
    "        axis=0)\n",
    "    model = build_model()\n",
    "    history = model.fit(partial_train_data, partial_train_targets,\n",
    "                        validation_data=(val_data, val_targets),\n",
    "                        epochs=num_epochs, batch_size=16, verbose=0)\n",
    "    mae_history = history.history[\"val_mae\"]\n",
    "    all_mae_histories.append(mae_history)"
   ]
  },
  {
   "cell_type": "code",
   "execution_count": null,
   "id": "ad872259-dac2-4c17-8e84-8d70a19f71d6",
   "metadata": {},
   "outputs": [],
   "source": [
    "type(history.history['val_mae'])"
   ]
  },
  {
   "cell_type": "code",
   "execution_count": null,
   "id": "8dbc5a6e-da68-4ae0-9ecd-0b39290fa675",
   "metadata": {},
   "outputs": [],
   "source": [
    "type(all_mae_histories)"
   ]
  },
  {
   "cell_type": "code",
   "execution_count": null,
   "id": "f50aecf1-1628-4b02-b2af-d5303c94b75c",
   "metadata": {},
   "outputs": [],
   "source": [
    "## compute mean over 4 epochs by list comprehension\n",
    "average_mae_history = [\n",
    "    np.mean([x[i] for x in all_mae_histories]) for i in range(num_epochs)]"
   ]
  },
  {
   "cell_type": "code",
   "execution_count": null,
   "id": "f711a0ba-edb6-48bc-b8fa-857e047ee2a2",
   "metadata": {},
   "outputs": [],
   "source": [
    "[x[0] for x in all_mae_histories]"
   ]
  },
  {
   "cell_type": "code",
   "execution_count": null,
   "id": "fa60fde7-0491-432c-90b4-5eb0b4782ceb",
   "metadata": {},
   "outputs": [],
   "source": [
    "plt.plot(range(1, len(average_mae_history) + 1), average_mae_history)\n",
    "plt.xlabel(\"Epochs\")\n",
    "plt.ylabel(\"Validation MAE\")\n",
    "plt.show()"
   ]
  },
  {
   "cell_type": "code",
   "execution_count": null,
   "id": "65d6fa4d-4a0d-4a08-a1b3-1f6c111f8b43",
   "metadata": {},
   "outputs": [],
   "source": [
    "truncated_mae_history = average_mae_history[10:]\n",
    "plt.plot(range(1, len(truncated_mae_history) + 1), truncated_mae_history)\n",
    "plt.xlabel(\"Epochs\")\n",
    "plt.ylabel(\"Validation MAE\")\n",
    "plt.show()"
   ]
  },
  {
   "cell_type": "code",
   "execution_count": null,
   "id": "9099a183-ec77-455d-8e3a-1c77161a2bb2",
   "metadata": {},
   "outputs": [],
   "source": [
    "model = build_model()\n",
    "model.fit(train_data, train_targets,\n",
    "          epochs=130, batch_size=16, verbose=0)\n",
    "test_mse_score, test_mae_score = model.evaluate(test_data, test_targets)"
   ]
  },
  {
   "cell_type": "code",
   "execution_count": null,
   "id": "e6379650-7897-4ef9-acc4-a91a2783f4ec",
   "metadata": {},
   "outputs": [],
   "source": [
    "test_mae_score"
   ]
  },
  {
   "cell_type": "code",
   "execution_count": null,
   "id": "5215981a-cad5-4221-b370-bf44c03e94c9",
   "metadata": {},
   "outputs": [],
   "source": []
  }
 ],
 "metadata": {
  "kernelspec": {
   "display_name": "Python 3 (ipykernel)",
   "language": "python",
   "name": "python3"
  },
  "language_info": {
   "codemirror_mode": {
    "name": "ipython",
    "version": 3
   },
   "file_extension": ".py",
   "mimetype": "text/x-python",
   "name": "python",
   "nbconvert_exporter": "python",
   "pygments_lexer": "ipython3",
   "version": "3.10.13"
  }
 },
 "nbformat": 4,
 "nbformat_minor": 5
}
