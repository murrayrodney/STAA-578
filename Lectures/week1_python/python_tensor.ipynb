{
 "cells": [
  {
   "cell_type": "markdown",
   "id": "0898af54-fd41-4885-a0d0-138417f043a7",
   "metadata": {},
   "source": [
    "# NumPy"
   ]
  },
  {
   "cell_type": "code",
   "execution_count": null,
   "id": "c08f66bc-0746-4cb2-a503-36560bf37a9e",
   "metadata": {},
   "outputs": [],
   "source": [
    "import numpy as np"
   ]
  },
  {
   "cell_type": "code",
   "execution_count": null,
   "id": "c8d3a34c-5630-4278-b390-828068598b68",
   "metadata": {},
   "outputs": [],
   "source": [
    "x = np.array(12)\n",
    "x"
   ]
  },
  {
   "cell_type": "code",
   "execution_count": null,
   "id": "04da21af-33b5-41c8-ab93-0a369acd1852",
   "metadata": {},
   "outputs": [],
   "source": [
    "x.ndim"
   ]
  },
  {
   "cell_type": "code",
   "execution_count": null,
   "id": "05512294-71e7-4243-a0a5-00c8541c68e1",
   "metadata": {},
   "outputs": [],
   "source": [
    "x = np.array([12, 3, 6, 14, 7])\n",
    "x"
   ]
  },
  {
   "cell_type": "code",
   "execution_count": null,
   "id": "7f96d5cf-5a72-41b0-a420-f98fd15f8719",
   "metadata": {},
   "outputs": [],
   "source": [
    "x.ndim"
   ]
  },
  {
   "cell_type": "code",
   "execution_count": null,
   "id": "9b170cce-cb44-4d61-bc73-f9e847531a91",
   "metadata": {},
   "outputs": [],
   "source": [
    "## arrays are mutable!\n",
    "y = x\n",
    "y[0] = 0\n",
    "x"
   ]
  },
  {
   "cell_type": "code",
   "execution_count": null,
   "id": "113657d3-563b-403d-bac3-a2a5a959c1fe",
   "metadata": {},
   "outputs": [],
   "source": [
    "x = np.array([[5, 78, 2, 34, 0],\n",
    "              [6, 79, 3, 35, 1],\n",
    "              [7, 80, 4, 36, 2]])\n",
    "x.ndim"
   ]
  },
  {
   "cell_type": "code",
   "execution_count": null,
   "id": "5a86ec30-3145-4ba1-a83d-7e7f3d2b3d69",
   "metadata": {},
   "outputs": [],
   "source": [
    "x = np.array([[[5, 78, 2, 34, 0],\n",
    "               [6, 79, 3, 35, 1],\n",
    "               [7, 80, 4, 36, 2]],\n",
    "              [[5, 78, 2, 34, 0],\n",
    "               [6, 79, 3, 35, 1],\n",
    "               [7, 80, 4, 36, 2]],\n",
    "              [[5, 78, 2, 34, 0],\n",
    "               [6, 79, 3, 35, 1],\n",
    "               [7, 80, 4, 36, 2]]])\n",
    "x.ndim"
   ]
  },
  {
   "cell_type": "code",
   "execution_count": null,
   "id": "2a8cdd28-6235-46c8-9548-684945a86ba9",
   "metadata": {},
   "outputs": [],
   "source": [
    "x = np.array([12, 3, 6, 14, 7])\n",
    "y = np.array([1, 2, 3, 4, 5])\n",
    "x+y"
   ]
  },
  {
   "cell_type": "code",
   "execution_count": null,
   "id": "36647604-9cbb-49f0-bba8-b364cbc67a12",
   "metadata": {},
   "outputs": [],
   "source": [
    "x = np.array([[1, 2, 3, 4, 5],\n",
    "              [1, 2, 3, 4, 5]])"
   ]
  },
  {
   "cell_type": "code",
   "execution_count": null,
   "id": "970b7b1f-1c8f-425b-8beb-c16fd17ebf39",
   "metadata": {},
   "outputs": [],
   "source": [
    "x + y"
   ]
  },
  {
   "cell_type": "markdown",
   "id": "589e9e9c-58cf-4c1f-bd36-09d4d62c7376",
   "metadata": {},
   "source": [
    "## rank, shape, data type, access to entries"
   ]
  },
  {
   "cell_type": "code",
   "execution_count": null,
   "id": "dcd76940-aa27-4235-a598-d8d4061811b3",
   "metadata": {},
   "outputs": [],
   "source": [
    "x = np.array([12, 3, 6, 14, 7])\n",
    "x.ndim    "
   ]
  },
  {
   "cell_type": "code",
   "execution_count": null,
   "id": "facb50b2-be00-4b33-867d-b0790f4c97ed",
   "metadata": {},
   "outputs": [],
   "source": [
    "x.shape ## note that the special format for singleton in \"tuple\""
   ]
  },
  {
   "cell_type": "code",
   "execution_count": null,
   "id": "01682b02-fd8a-4f2e-be08-cf6e2502537c",
   "metadata": {},
   "outputs": [],
   "source": [
    "type(x.shape)"
   ]
  },
  {
   "cell_type": "code",
   "execution_count": null,
   "id": "12b4fcf1-5c28-4e9e-832a-6e7e033afed8",
   "metadata": {},
   "outputs": [],
   "source": [
    "x.dtype"
   ]
  },
  {
   "cell_type": "code",
   "execution_count": null,
   "id": "b500658b-a424-4db7-911b-c2684228af9c",
   "metadata": {},
   "outputs": [],
   "source": [
    "x = np.array([[5, 78, 2, 34, 0],\n",
    "              [6, 79, 3, 35, 1],\n",
    "              [7, 80, 4, 36, 2]])\n",
    "x.shape"
   ]
  },
  {
   "cell_type": "code",
   "execution_count": null,
   "id": "1ff486c4-4a39-4a26-9787-d58d3be36ba8",
   "metadata": {},
   "outputs": [],
   "source": [
    "x = np.array([[[5, 78, 2, 34, 0],\n",
    "               [6, 79, 3, 35, 1],\n",
    "               [7, 80, 4, 36, 2]],\n",
    "              [[5, 78, 2, 34, 0],\n",
    "               [6, 79, 3, 35, 1],\n",
    "               [7, 80, 4, 36, 2]],\n",
    "              [[5, 78, 2, 34, 0],\n",
    "               [6, 79, 3, 35, 1],\n",
    "               [7, 80, 4, 36, 2]]])\n",
    "x.shape"
   ]
  },
  {
   "cell_type": "code",
   "execution_count": null,
   "id": "b8921013-6b40-46c2-9a92-e7f809d42bbc",
   "metadata": {},
   "outputs": [],
   "source": [
    "x = np.array([[5, 78, 2, 34, 0],\n",
    "              [6, 79, 3, 35, 1],\n",
    "              [7, 80, 4, 36, 2]])\n",
    "x[0,]"
   ]
  },
  {
   "cell_type": "code",
   "execution_count": null,
   "id": "9550010b-82c3-43bb-a0e8-be408a573eb0",
   "metadata": {},
   "outputs": [],
   "source": [
    "x[:,0] ## put : before comma "
   ]
  },
  {
   "cell_type": "code",
   "execution_count": null,
   "id": "d452c162-6668-4035-a205-bb9fd003146f",
   "metadata": {},
   "outputs": [],
   "source": [
    "## for safety, write\n",
    "x[0,:]"
   ]
  },
  {
   "cell_type": "code",
   "execution_count": null,
   "id": "16b6f1a8-645b-4e5e-9a1c-c45f901fe13d",
   "metadata": {},
   "outputs": [],
   "source": [
    "x = np.array([[[5, 78, 2, 34, 0],\n",
    "               [6, 79, 3, 35, 1],\n",
    "               [7, 80, 4, 36, 2]],\n",
    "              [[5.1, 78.1, 2.1, 34.1, 0.1],\n",
    "               [6.1, 79.1, 3.1, 35.1, 1.1],\n",
    "               [7.1, 80.1, 4.1, 36.1, 2.1]],\n",
    "              [[5.2, 78.2, 2.2, 34.2, 0.2],\n",
    "               [6.2, 79.2, 3.2, 35.2, 1.2],\n",
    "               [7.2, 80.2, 4.2, 36.2, 2.2]]])\n",
    "x[0,:,:]"
   ]
  },
  {
   "cell_type": "code",
   "execution_count": null,
   "id": "f27ef056-e15d-45b0-aa26-c14b5a559b1c",
   "metadata": {},
   "outputs": [],
   "source": [
    "x[0:2,:,:]"
   ]
  },
  {
   "cell_type": "code",
   "execution_count": null,
   "id": "68f84da6-7724-49c8-8360-d5b77f96f2ab",
   "metadata": {},
   "outputs": [],
   "source": [
    "x[:,0,:]"
   ]
  },
  {
   "cell_type": "code",
   "execution_count": null,
   "id": "2c599622-a04f-4673-ba86-6ab3f6c1a405",
   "metadata": {},
   "outputs": [],
   "source": [
    "x[:,:,0]"
   ]
  },
  {
   "cell_type": "code",
   "execution_count": null,
   "id": "4455b3df-67a2-49da-966f-ade9c861ffef",
   "metadata": {},
   "outputs": [],
   "source": [
    "from tensorflow.keras.datasets import mnist\n",
    "(train_images, train_labels), (test_images, test_labels) = mnist.load_data()\n"
   ]
  },
  {
   "cell_type": "code",
   "execution_count": null,
   "id": "b1f39926-4186-4b7d-b037-84fdc48f15a3",
   "metadata": {},
   "outputs": [],
   "source": [
    "train_images.ndim"
   ]
  },
  {
   "cell_type": "code",
   "execution_count": null,
   "id": "a17734e1-79fb-4adb-bc35-5424b05db5c7",
   "metadata": {},
   "outputs": [],
   "source": [
    "train_images.shape"
   ]
  },
  {
   "cell_type": "code",
   "execution_count": null,
   "id": "5c5f293a-f912-4e20-ade3-f175c09c5fdb",
   "metadata": {},
   "outputs": [],
   "source": [
    "train_images[0,:,:]"
   ]
  },
  {
   "cell_type": "code",
   "execution_count": null,
   "id": "45fc4075-426b-4ddf-aaeb-eef75e794d94",
   "metadata": {},
   "outputs": [],
   "source": [
    "train_images[0,:,:].shape"
   ]
  },
  {
   "cell_type": "code",
   "execution_count": null,
   "id": "5fa68c54-947a-4017-8dba-d32945c66e25",
   "metadata": {},
   "outputs": [],
   "source": [
    "import matplotlib.pyplot as plt\n",
    "digit = train_images[0]\n",
    "plt.imshow(digit, cmap=plt.cm.binary)\n",
    "plt.show()"
   ]
  },
  {
   "cell_type": "code",
   "execution_count": null,
   "id": "51b14825-6367-4983-bbac-2f5a2fe9691d",
   "metadata": {},
   "outputs": [],
   "source": [
    "## The notion of data batches"
   ]
  },
  {
   "cell_type": "code",
   "execution_count": null,
   "id": "8ed68a3c-4d84-46f9-9cca-e4cbeaffb2d6",
   "metadata": {},
   "outputs": [],
   "source": [
    "batch = train_images[:128]"
   ]
  },
  {
   "cell_type": "code",
   "execution_count": null,
   "id": "d304e469-1648-4e43-9e42-79cfcb095db0",
   "metadata": {},
   "outputs": [],
   "source": [
    "batch = train_images[128:256]"
   ]
  },
  {
   "cell_type": "code",
   "execution_count": null,
   "id": "8df98512-bbf6-4715-ad64-48658c0d187b",
   "metadata": {},
   "outputs": [],
   "source": [
    "n = 3\n",
    "batch = train_images[128 * n:128 * (n + 1)]"
   ]
  },
  {
   "cell_type": "markdown",
   "id": "ce15adef-bddb-4d5a-b7e3-ff9474e3dabf",
   "metadata": {},
   "source": [
    "## Tensor Operations"
   ]
  },
  {
   "cell_type": "code",
   "execution_count": null,
   "id": "fe5e857d-4016-4e5a-8955-d5e904c199c5",
   "metadata": {},
   "outputs": [],
   "source": [
    "x = np.random.normal(size=(20, 100))\n",
    "y = np.random.normal(size=(20, 100))\n",
    "\n",
    "z = x + y\n",
    "z = np.maximum(z,0)"
   ]
  },
  {
   "cell_type": "code",
   "execution_count": null,
   "id": "61a8a57c-5c70-4196-b37b-a51fd16a722b",
   "metadata": {},
   "outputs": [],
   "source": [
    "z\n"
   ]
  },
  {
   "cell_type": "code",
   "execution_count": null,
   "id": "8dda17d9-9e0a-42e6-b826-bc35ba9541c1",
   "metadata": {},
   "outputs": [],
   "source": [
    "## Same as in R, try to use default functions"
   ]
  },
  {
   "cell_type": "code",
   "execution_count": null,
   "id": "7e4212f4-a4cf-4388-8774-81f5df38d9c7",
   "metadata": {},
   "outputs": [],
   "source": [
    "## Manually calculate"
   ]
  },
  {
   "cell_type": "code",
   "execution_count": null,
   "id": "d7f99a5f-97db-4f6a-95a1-e238a25a905e",
   "metadata": {},
   "outputs": [],
   "source": [
    "def naive_relu(x):\n",
    "    assert len(x.shape) == 2  ## make sure x is a rank-2 tensor (matrix)\n",
    "    x = x.copy()\n",
    "    for i in range(x.shape[0]):\n",
    "        for j in range(x.shape[1]):\n",
    "            x[i, j] = max(x[i, j], 0)\n",
    "    return x"
   ]
  },
  {
   "cell_type": "markdown",
   "id": "bd6f6673-e2b8-4825-b076-ade96ef6408c",
   "metadata": {},
   "source": [
    "### Important: what is x = x.copy() doing?"
   ]
  },
  {
   "cell_type": "code",
   "execution_count": null,
   "id": "080f0179-e29d-44d9-b38c-130604592450",
   "metadata": {},
   "outputs": [],
   "source": [
    "w = naive_relu(x)"
   ]
  },
  {
   "cell_type": "code",
   "execution_count": null,
   "id": "33246ed7-5375-4455-b62e-7eb5d0679996",
   "metadata": {},
   "outputs": [],
   "source": [
    "x "
   ]
  },
  {
   "cell_type": "code",
   "execution_count": null,
   "id": "31985f3b-4134-4515-86c2-3f903f28069f",
   "metadata": {},
   "outputs": [],
   "source": [
    "def naive_relu_buggy(x):\n",
    "    assert len(x.shape) == 2  ## make sure x is a rank-2 tensor (matrix)\n",
    "    # x = x.copy()\n",
    "    for i in range(x.shape[0]):\n",
    "        for j in range(x.shape[1]):\n",
    "            x[i, j] = max(x[i, j], 0)\n",
    "    return x"
   ]
  },
  {
   "cell_type": "code",
   "execution_count": null,
   "id": "8e327b5f-9709-4999-b5fa-ab4a376e56bc",
   "metadata": {},
   "outputs": [],
   "source": [
    "w = naive_relu_buggy(x)"
   ]
  },
  {
   "cell_type": "code",
   "execution_count": null,
   "id": "ecfcb701-5341-4083-89cc-be0a526e9465",
   "metadata": {},
   "outputs": [],
   "source": [
    "x"
   ]
  },
  {
   "cell_type": "code",
   "execution_count": null,
   "id": "f13cb267-f342-41be-8da1-c76fa1d5a7be",
   "metadata": {},
   "outputs": [],
   "source": [
    "w"
   ]
  },
  {
   "cell_type": "code",
   "execution_count": null,
   "id": "96837d03-e076-467b-ad17-2255f2d1f4c4",
   "metadata": {},
   "outputs": [],
   "source": [
    "id(x) == id(w)"
   ]
  },
  {
   "cell_type": "code",
   "execution_count": null,
   "id": "e4564dc4-03a4-4e8f-97a5-79b1213e5551",
   "metadata": {},
   "outputs": [],
   "source": [
    "## look closely \n",
    "\n",
    "def naive_relu(x):\n",
    "    assert len(x.shape) == 2  ## make sure x is a rank-2 tensor (matrix)\n",
    "    print(\"id x (before )=\",id(x))\n",
    "    x = x.copy()\n",
    "    print(\"id x (after  )=\",id(x))\n",
    "    for i in range(x.shape[0]):\n",
    "        for j in range(x.shape[1]):\n",
    "            x[i, j] = max(x[i, j], 0)\n",
    "    return x\n"
   ]
  },
  {
   "cell_type": "code",
   "execution_count": null,
   "id": "12f2ba7c-aff6-42b6-b32f-6a79ed39c1b2",
   "metadata": {},
   "outputs": [],
   "source": [
    "x = np.random.normal(size=(20, 100))\n",
    "print(\"id x (outside)=\",id(x))\n",
    "w = naive_relu(x)\n",
    "print(\"id w (outside)=\",id(w))\n"
   ]
  },
  {
   "cell_type": "code",
   "execution_count": null,
   "id": "e929dce6-5a56-4f9f-8d21-39daa37cabc3",
   "metadata": {},
   "outputs": [],
   "source": [
    "def naive_relu(x):\n",
    "    assert len(x.shape) == 2  ## make sure x is a rank-2 tensor (matrix)\n",
    "    x = x.copy()\n",
    "    for i in range(x.shape[0]):\n",
    "        for j in range(x.shape[1]):\n",
    "            x[i, j] = max(x[i, j], 0)\n",
    "    return x"
   ]
  },
  {
   "cell_type": "code",
   "execution_count": null,
   "id": "cbd6f25c-6877-4526-918e-8955cf67fec6",
   "metadata": {},
   "outputs": [],
   "source": [
    "def naive_add(x, y):\n",
    "    assert len(x.shape) == 2\n",
    "    assert x.shape == y.shape\n",
    "    x = x.copy()\n",
    "    for i in range(x.shape[0]):\n",
    "        for j in range(x.shape[1]):\n",
    "            x[i, j] += y[i, j]\n",
    "    return x"
   ]
  },
  {
   "cell_type": "code",
   "execution_count": null,
   "id": "5e846277-0c62-4c0a-b4a4-bdfdb5817a43",
   "metadata": {},
   "outputs": [],
   "source": [
    "import time\n",
    "\n",
    "x = np.random.random((20, 100))\n",
    "y = np.random.random((20, 100))\n",
    "\n",
    "t0 = time.time()\n",
    "for _ in range(1000):\n",
    "    z = x + y\n",
    "    z = np.maximum(z, 0.)\n",
    "print(\"Took: {0:.2f} s\".format(time.time() - t0))"
   ]
  },
  {
   "cell_type": "code",
   "execution_count": null,
   "id": "5ba10ca0-8bb8-45dd-9abb-b9f4f465f4bb",
   "metadata": {},
   "outputs": [],
   "source": [
    "t0 = time.time()\n",
    "for _ in range(1000):\n",
    "    z = naive_add(x, y)\n",
    "    z = naive_relu(z)\n",
    "print(\"Took: {0:.2f} s\".format(time.time() - t0))\n"
   ]
  },
  {
   "cell_type": "code",
   "execution_count": null,
   "id": "8c54e5ad-54be-4d50-be05-0f64444abb31",
   "metadata": {},
   "outputs": [],
   "source": [
    "## Broadcasting"
   ]
  },
  {
   "cell_type": "code",
   "execution_count": null,
   "id": "813a566d-f2b9-4659-975d-5f919cd31e2a",
   "metadata": {},
   "outputs": [],
   "source": [
    "x = np.array([[1, 2, 3, 4, 5],\n",
    "              [1, 2, 3, 4, 5]])\n",
    "y = np.array([1, 2, 3, 4, 5])\n",
    "\n",
    "x+y ## different shape but can still add up"
   ]
  },
  {
   "cell_type": "code",
   "execution_count": null,
   "id": "bcefd101-21ce-4e1b-9f10-946ee410b0ec",
   "metadata": {},
   "outputs": [],
   "source": [
    "x.shape"
   ]
  },
  {
   "cell_type": "code",
   "execution_count": null,
   "id": "ae1fbf15-5e83-4963-84c2-28dc4afd98aa",
   "metadata": {},
   "outputs": [],
   "source": [
    "y.shape"
   ]
  },
  {
   "cell_type": "markdown",
   "id": "a68e1128-9931-4936-9382-efac9c10a44e",
   "metadata": {},
   "source": [
    "In general, element-wise operations can be taken if one tensor has shape (a,b,...,n,n+1,...,m) \n",
    "and another has shape (n+1,...,m)"
   ]
  },
  {
   "cell_type": "code",
   "execution_count": null,
   "id": "969d9070-0a7d-48bd-b870-0ff7c2b95e1f",
   "metadata": {},
   "outputs": [],
   "source": [
    "x = np.random.random((64, 3, 32, 10))\n",
    "y = np.random.random((32, 10))\n",
    "z = np.maximum(x, y)\n",
    "z.shape"
   ]
  },
  {
   "cell_type": "code",
   "execution_count": null,
   "id": "0e92bdf9-3434-462b-83ec-d45bc4d5d82f",
   "metadata": {},
   "outputs": [],
   "source": [
    "## Tensor product"
   ]
  },
  {
   "cell_type": "code",
   "execution_count": null,
   "id": "6219331b-3453-416b-a860-4c775f49e8cb",
   "metadata": {},
   "outputs": [],
   "source": [
    "x = np.random.random((10,20))\n",
    "y = np.random.random((20,30))\n",
    "\n",
    "z = np.dot(x,y) ##the rule is same as matrix multiplication\n",
    "z.shape"
   ]
  },
  {
   "cell_type": "markdown",
   "id": "30aa0ead-300c-49d3-8a43-f44cb6de6899",
   "metadata": {},
   "source": [
    "In general, tensor product can accept the shape like \\\n",
    "(a,b,c,d) dot (d,) -> (a,b,c) \\\n",
    "(a,b,c,d) dot (d,e) -> (a,b,c,e) "
   ]
  },
  {
   "cell_type": "code",
   "execution_count": null,
   "id": "ba541fb4-d03e-47b9-acea-9b2697becef2",
   "metadata": {},
   "outputs": [],
   "source": [
    "## Exception\n",
    "x = np.random.random((10))\n",
    "y = np.random.random((10))"
   ]
  },
  {
   "cell_type": "code",
   "execution_count": null,
   "id": "ce4b209b-0b54-4bdb-ae3f-3ee32dc989a1",
   "metadata": {},
   "outputs": [],
   "source": [
    "x.shape"
   ]
  },
  {
   "cell_type": "code",
   "execution_count": null,
   "id": "e5de05f6-e267-4ece-b496-4307c17cc8df",
   "metadata": {},
   "outputs": [],
   "source": [
    "y.shape"
   ]
  },
  {
   "cell_type": "code",
   "execution_count": null,
   "id": "22151dd0-7e49-47aa-9574-e1121894b2f6",
   "metadata": {},
   "outputs": [],
   "source": [
    "np.dot(x,y)"
   ]
  },
  {
   "cell_type": "code",
   "execution_count": null,
   "id": "2d9a46aa-da38-49a4-bd48-3f84e81a08af",
   "metadata": {},
   "outputs": [],
   "source": [
    "x = np.random.random((1,10))\n",
    "y = np.random.random((10,1))"
   ]
  },
  {
   "cell_type": "code",
   "execution_count": null,
   "id": "77687e35-17bb-49dc-bbf9-4cffde1e21a5",
   "metadata": {},
   "outputs": [],
   "source": [
    "x"
   ]
  },
  {
   "cell_type": "code",
   "execution_count": null,
   "id": "b1ae9b8a-7d10-48a4-b4f4-83a2f92bdb8d",
   "metadata": {},
   "outputs": [],
   "source": [
    "y"
   ]
  },
  {
   "cell_type": "code",
   "execution_count": null,
   "id": "e867d572-a228-4a10-80a2-43b741716249",
   "metadata": {},
   "outputs": [],
   "source": [
    "np.dot(x,y)"
   ]
  },
  {
   "cell_type": "code",
   "execution_count": null,
   "id": "bcd38845-ef9e-4255-a910-a510648e0b15",
   "metadata": {},
   "outputs": [],
   "source": [
    "## tensor reshaping\n",
    "from tensorflow.keras.datasets import mnist\n",
    "(train_images, train_labels), (test_images, test_labels) = mnist.load_data()"
   ]
  },
  {
   "cell_type": "code",
   "execution_count": null,
   "id": "d7bea387-ca9d-4075-935f-09edb1ea31fa",
   "metadata": {},
   "outputs": [],
   "source": [
    "train_images[0]"
   ]
  },
  {
   "cell_type": "code",
   "execution_count": null,
   "id": "de19b500-c5bc-430e-9a26-9ec73fd2bfd7",
   "metadata": {},
   "outputs": [],
   "source": [
    "train_images = train_images.reshape((60000,28*28))"
   ]
  },
  {
   "cell_type": "code",
   "execution_count": null,
   "id": "de3ea956-c89d-4565-bbcb-db162d4462f0",
   "metadata": {},
   "outputs": [],
   "source": [
    "train_images[0]"
   ]
  },
  {
   "cell_type": "code",
   "execution_count": null,
   "id": "7c674ba6-1b65-47aa-9d6c-70e53196dbe8",
   "metadata": {},
   "outputs": [],
   "source": [
    "x = np.array([[0., 1.],\n",
    "             [2., 3.],\n",
    "             [4., 5.]])\n",
    "x.shape"
   ]
  },
  {
   "cell_type": "code",
   "execution_count": null,
   "id": "de38acd6-fe65-4a42-a993-2a114492dc17",
   "metadata": {},
   "outputs": [],
   "source": [
    "x = x.reshape((6, 1))\n",
    "x"
   ]
  },
  {
   "cell_type": "code",
   "execution_count": null,
   "id": "85de82d5-e530-4c23-bf1b-ed233347a9f1",
   "metadata": {},
   "outputs": [],
   "source": [
    "x = np.zeros((300, 20))\n",
    "x = np.transpose(x)\n",
    "x.shape"
   ]
  },
  {
   "cell_type": "code",
   "execution_count": null,
   "id": "e8eff2e3-c7ae-4a37-90b9-7969f164bd69",
   "metadata": {},
   "outputs": [],
   "source": [
    "x = np.random.random((2,3,4))\n",
    "x"
   ]
  },
  {
   "cell_type": "code",
   "execution_count": null,
   "id": "b1db3e04-15f1-4e4d-be92-866526f1a98e",
   "metadata": {},
   "outputs": [],
   "source": [
    "y = np.transpose(x)\n",
    "y"
   ]
  },
  {
   "cell_type": "code",
   "execution_count": null,
   "id": "2d13cf45-8c62-471a-8e9c-2bdbdc20c880",
   "metadata": {},
   "outputs": [],
   "source": [
    "y.shape"
   ]
  },
  {
   "cell_type": "code",
   "execution_count": null,
   "id": "04b0dfba-3257-4e1a-b7ba-3a8ee19b8f92",
   "metadata": {},
   "outputs": [],
   "source": []
  }
 ],
 "metadata": {
  "kernelspec": {
   "display_name": "Python 3 (ipykernel)",
   "language": "python",
   "name": "python3"
  },
  "language_info": {
   "codemirror_mode": {
    "name": "ipython",
    "version": 3
   },
   "file_extension": ".py",
   "mimetype": "text/x-python",
   "name": "python",
   "nbconvert_exporter": "python",
   "pygments_lexer": "ipython3",
   "version": "3.10.13"
  }
 },
 "nbformat": 4,
 "nbformat_minor": 5
}
