{
 "cells": [
  {
   "cell_type": "markdown",
   "id": "407773c2-03e2-4072-9d04-fca93d290688",
   "metadata": {},
   "source": [
    "## First example"
   ]
  },
  {
   "cell_type": "code",
   "execution_count": null,
   "id": "b0d5fbc1-9d16-475f-97c7-24b21733a207",
   "metadata": {},
   "outputs": [],
   "source": [
    "class MyClass:\n",
    "    \"\"\"A simple example class\"\"\"\n",
    "    i = 12345\n",
    "\n",
    "    def f():\n",
    "        return 'hello world'"
   ]
  },
  {
   "cell_type": "code",
   "execution_count": null,
   "id": "013df345-1ec6-49c2-ba42-2848816a5d8b",
   "metadata": {},
   "outputs": [],
   "source": [
    "x = MyClass()  ## cannot omit ()\n",
    "type(x)"
   ]
  },
  {
   "cell_type": "code",
   "execution_count": null,
   "id": "7ea8b5ee-c9a1-4625-b585-b20d0dd6eeca",
   "metadata": {},
   "outputs": [],
   "source": [
    "x.i"
   ]
  },
  {
   "cell_type": "code",
   "execution_count": null,
   "id": "3fe60928-540f-4304-ba49-16e3c7bb9144",
   "metadata": {},
   "outputs": [],
   "source": [
    "MyClass.i"
   ]
  },
  {
   "cell_type": "code",
   "execution_count": null,
   "id": "30f87d2c-a00e-41d4-a050-73ae8a47a622",
   "metadata": {},
   "outputs": [],
   "source": [
    "MyClass.f()"
   ]
  },
  {
   "cell_type": "code",
   "execution_count": null,
   "id": "e199b813-efea-4841-a621-696394734750",
   "metadata": {},
   "outputs": [],
   "source": [
    "x.f() ## this gives error"
   ]
  },
  {
   "cell_type": "code",
   "execution_count": null,
   "id": "f830ac84-4c0e-490f-9dbd-571387fc714a",
   "metadata": {},
   "outputs": [],
   "source": [
    "class MyClass:\n",
    "    \"\"\"A simple example class\"\"\"\n",
    "    i = 12345\n",
    "\n",
    "    def f(someInput):\n",
    "        return 'hello world'"
   ]
  },
  {
   "cell_type": "code",
   "execution_count": null,
   "id": "1866a913-d3f8-463b-9337-050668ce445c",
   "metadata": {},
   "outputs": [],
   "source": [
    "x = MyClass() \n",
    "x.f()"
   ]
  },
  {
   "cell_type": "code",
   "execution_count": null,
   "id": "4e61de7c-82b3-42b9-b216-10007eb9003a",
   "metadata": {},
   "outputs": [],
   "source": [
    "MyClass.f(x) ## same as x.f()"
   ]
  },
  {
   "cell_type": "code",
   "execution_count": null,
   "id": "9348b3d6-fff0-414b-a30c-0d47c5b74c8d",
   "metadata": {},
   "outputs": [],
   "source": [
    "MyClass.f(0)"
   ]
  },
  {
   "cell_type": "code",
   "execution_count": null,
   "id": "7c53090a-fae4-456c-987e-f29dc0426096",
   "metadata": {},
   "outputs": [],
   "source": [
    "class MyClass:\n",
    "    \"\"\"A simple example class\"\"\"\n",
    "    i = 12345\n",
    "\n",
    "    def f(self):                     ## \"self\" is only a convention\n",
    "        return 'hello world'"
   ]
  },
  {
   "cell_type": "code",
   "execution_count": null,
   "id": "a703bfd9-09e4-43c2-95ec-8d8de1c0d3ae",
   "metadata": {},
   "outputs": [],
   "source": [
    "class MyClass:\n",
    "    \"\"\"A simple example class\"\"\"\n",
    "    i = 12345\n",
    "\n",
    "    def f(self):                    \n",
    "        return self.i+1"
   ]
  },
  {
   "cell_type": "code",
   "execution_count": null,
   "id": "32d21209-fedc-4377-a508-0d5ba169dfcc",
   "metadata": {},
   "outputs": [],
   "source": [
    "x = MyClass() \n",
    "x.f()"
   ]
  },
  {
   "cell_type": "code",
   "execution_count": null,
   "id": "7e8597fe-11e1-4bf5-a94c-e384a15f6362",
   "metadata": {},
   "outputs": [],
   "source": [
    "MyClass.f(x)"
   ]
  },
  {
   "cell_type": "code",
   "execution_count": null,
   "id": "13ab9eef-29e6-467d-9c28-478098a1da5e",
   "metadata": {},
   "outputs": [],
   "source": [
    "## Recall list.append()\n",
    "cubes = [1, 8, 27, 64, 125]\n",
    "cubes.append(6**3)\n",
    "cubes\n",
    "\n"
   ]
  },
  {
   "cell_type": "markdown",
   "id": "57f57f0e-0956-456b-ab4a-9124ab218f4e",
   "metadata": {},
   "source": [
    "## Initialize a class object"
   ]
  },
  {
   "cell_type": "code",
   "execution_count": null,
   "id": "23891eca-7e33-4e20-9119-8c25b5d2c27b",
   "metadata": {},
   "outputs": [],
   "source": [
    "## When a class defines an __init__() method, \n",
    "## class instantiation automatically invokes __init__() for the newly created class instance. "
   ]
  },
  {
   "cell_type": "code",
   "execution_count": null,
   "id": "f0d47e39-67ea-4268-9861-a36109f72acf",
   "metadata": {},
   "outputs": [],
   "source": [
    "class MyClass:\n",
    "    \"\"\"A simple example class\"\"\"\n",
    "    def __init__(self, number):   ## __init__ is a default method\n",
    "        self.i = number    \n",
    "\n",
    "    def f(self):                    \n",
    "        return self.i+1\n"
   ]
  },
  {
   "cell_type": "code",
   "execution_count": null,
   "id": "e8af6809-0813-4857-a194-9f1581bad89c",
   "metadata": {},
   "outputs": [],
   "source": [
    "x = MyClass(10)\n",
    "x.i"
   ]
  },
  {
   "cell_type": "code",
   "execution_count": null,
   "id": "05798ae2-4b10-453a-9c01-c2be616c15ce",
   "metadata": {},
   "outputs": [],
   "source": [
    "## Of course, you can call it manually afterwards\n",
    "x.__init__(20)\n",
    "x.i"
   ]
  },
  {
   "cell_type": "code",
   "execution_count": null,
   "id": "077ece45-62f1-48e6-bb42-fb6c158cbd93",
   "metadata": {},
   "outputs": [],
   "source": [
    "## Why __init__ doesn't need a return?\n",
    "## Objects of programmer-created classes are mutable."
   ]
  },
  {
   "cell_type": "code",
   "execution_count": null,
   "id": "6b29f681-44c9-40a1-89d3-b71081f5898d",
   "metadata": {},
   "outputs": [],
   "source": [
    "class MyClass:\n",
    "    \"\"\"A simple example class\"\"\"\n",
    "    def __init__(self, number):   ## __init__ is a default method\n",
    "        print(id(self))\n",
    "        self.i = number\n",
    "\n",
    "    def f(self):                    \n",
    "        return self.i+1\n"
   ]
  },
  {
   "cell_type": "code",
   "execution_count": null,
   "id": "31654da1-ef7e-4657-a6a3-7c9e8510633a",
   "metadata": {},
   "outputs": [],
   "source": [
    "x = MyClass(10)\n",
    "print(id(x))"
   ]
  },
  {
   "cell_type": "code",
   "execution_count": null,
   "id": "4ccab135-cf8f-4953-ad8e-f896c71e00db",
   "metadata": {},
   "outputs": [],
   "source": [
    "x.__init__(20)\n",
    "print(id(x))"
   ]
  },
  {
   "cell_type": "code",
   "execution_count": null,
   "id": "fca4ab85-1202-47a7-b3c9-b979c7e9a7aa",
   "metadata": {},
   "outputs": [],
   "source": [
    "class MyClass:\n",
    "    \"\"\"A simple example class\"\"\"\n",
    "    def __init__(self, number):  \n",
    "        self.i = number    \n",
    "\n",
    "    def f(self):                    \n",
    "        return self.i+1"
   ]
  },
  {
   "cell_type": "code",
   "execution_count": null,
   "id": "9565738b-2225-40e5-91f0-b5e6a949c684",
   "metadata": {},
   "outputs": [],
   "source": [
    "class Dog:\n",
    "\n",
    "    kind = 'canine'         # class variable shared by all instances\n",
    "\n",
    "    def __init__(self, name):\n",
    "        self.name = name    # instance variable unique to each instance\n",
    "\n"
   ]
  },
  {
   "cell_type": "code",
   "execution_count": null,
   "id": "b68b603b-3fe1-4b5c-ab3f-ecde34b6edfb",
   "metadata": {},
   "outputs": [],
   "source": [
    "d = Dog('Fido')\n",
    "e = Dog('Buddy')\n",
    "print(d.kind)\n",
    "print(e.kind)\n",
    "print(d.name)\n",
    "print(e.name)"
   ]
  },
  {
   "cell_type": "code",
   "execution_count": null,
   "id": "7588109e-0a84-4014-9e4e-ea1e048aa557",
   "metadata": {},
   "outputs": [],
   "source": [
    "## Be careful with class variable\n",
    "class Dog:\n",
    "\n",
    "    tricks = []  # mistaken use of a class variable\n",
    "    def __init__(self, name):\n",
    "        self.name = name\n",
    "\n",
    "    def add_trick(self, trick):\n",
    "        self.tricks.append(trick)\n",
    "        \n"
   ]
  },
  {
   "cell_type": "code",
   "execution_count": null,
   "id": "cdb76982-c410-44dc-9813-551f0848a115",
   "metadata": {},
   "outputs": [],
   "source": [
    "d = Dog('Fido')\n",
    "e = Dog('Buddy')\n",
    "d.add_trick('roll over')\n",
    "e.add_trick('play dead')\n",
    "d.tricks  "
   ]
  },
  {
   "cell_type": "code",
   "execution_count": null,
   "id": "f81a918b-8e03-4b95-aa7e-5f81d8e9f6e8",
   "metadata": {},
   "outputs": [],
   "source": [
    "class Dog:\n",
    "\n",
    "    tricks = []  # mistaken use of a class variable\n",
    "    print(id(tricks))\n",
    "    def __init__(self, name):\n",
    "        self.name = name\n",
    "\n",
    "    def add_trick(self, trick):\n",
    "        print(id(self.tricks))\n",
    "        self.tricks.append(trick)"
   ]
  },
  {
   "cell_type": "code",
   "execution_count": null,
   "id": "ecb60c85-d7e0-4fb7-a002-17003ffa190f",
   "metadata": {},
   "outputs": [],
   "source": [
    "d = Dog('Fido')\n",
    "e = Dog('Buddy')\n",
    "d.add_trick('roll over')\n",
    "e.add_trick('play dead')\n",
    "d.tricks  "
   ]
  },
  {
   "cell_type": "code",
   "execution_count": null,
   "id": "6f8def52-b6d5-4112-9abb-532361322c5f",
   "metadata": {},
   "outputs": [],
   "source": [
    "# Correct design of the class should use an instance variable:\n",
    "class Dog:\n",
    "\n",
    "    def __init__(self, name):\n",
    "        self.name = name\n",
    "        self.tricks = []    # creates a new empty list for each dog\n",
    "\n",
    "    def add_trick(self, trick):\n",
    "        self.tricks.append(trick)\n",
    "\n",
    "\n"
   ]
  },
  {
   "cell_type": "code",
   "execution_count": null,
   "id": "2a8f8d61-3daa-49b3-9f41-4cb148dd7111",
   "metadata": {},
   "outputs": [],
   "source": [
    "d = Dog('Fido')\n",
    "e = Dog('Buddy')\n",
    "d.add_trick('roll over')\n",
    "e.add_trick('play dead')\n",
    "d.tricks\n"
   ]
  },
  {
   "cell_type": "code",
   "execution_count": null,
   "id": "6062465e-4411-4637-a57c-e2e7d2cd45b6",
   "metadata": {},
   "outputs": [],
   "source": [
    "e.tricks"
   ]
  },
  {
   "cell_type": "code",
   "execution_count": null,
   "id": "5b7090a6-83a2-434c-9035-74dc566bffb3",
   "metadata": {},
   "outputs": [],
   "source": [
    "## Methods may call other methods by using method attributes of the self argument:\n",
    "\n",
    "class Bag:\n",
    "    def __init__(self):\n",
    "        self.data = []\n",
    "\n",
    "    def add(self, x):\n",
    "        self.data.append(x)\n",
    "\n",
    "    def addtwice(self, x):\n",
    "        self.add(x)\n",
    "        self.add(x)\n",
    "\n"
   ]
  },
  {
   "cell_type": "code",
   "execution_count": null,
   "id": "093d9d8b-37a3-412b-888f-fca18f7ef069",
   "metadata": {},
   "outputs": [],
   "source": [
    "bag_instance = Bag()\n",
    "bag_instance.addtwice(\"a\")\n",
    "bag_instance.data"
   ]
  },
  {
   "cell_type": "code",
   "execution_count": null,
   "id": "5e672540-46eb-45f6-b059-8656bb2a6c0d",
   "metadata": {},
   "outputs": [],
   "source": [
    "## Same as:\n",
    "class Bag:\n",
    "    def __init__(self):\n",
    "        self.data = []\n",
    "\n",
    "    def add(self, x):\n",
    "        self.data.append(x)\n",
    "\n",
    "    def addtwice(self, x):\n",
    "        Bag.add(self,x)\n",
    "        Bag.add(self,x)\n"
   ]
  },
  {
   "cell_type": "code",
   "execution_count": null,
   "id": "d69157e1-ab50-443e-a55b-60949555e931",
   "metadata": {},
   "outputs": [],
   "source": [
    "bag_instance = Bag()\n",
    "bag_instance.addtwice(\"a\")\n",
    "bag_instance.data"
   ]
  },
  {
   "cell_type": "markdown",
   "id": "a5c74547-7223-46e2-b2a0-1fc953f336fe",
   "metadata": {},
   "source": [
    "## Callable object"
   ]
  },
  {
   "cell_type": "code",
   "execution_count": null,
   "id": "07dccac0-456c-46e0-bbf2-7b93bb9e5b14",
   "metadata": {},
   "outputs": [],
   "source": [
    "class Foo:\n",
    "      def __call__(self):  ## __call__ is another default method\n",
    "        print('called')\n",
    "\n",
    "foo_instance = Foo()\n",
    "foo_instance() #this is calling the __call__ method\n"
   ]
  },
  {
   "cell_type": "code",
   "execution_count": null,
   "id": "b002e5ef-5290-4de3-890c-98f27ed43687",
   "metadata": {},
   "outputs": [],
   "source": [
    "## Same as:\n",
    "foo_instance.__call__()"
   ]
  },
  {
   "cell_type": "code",
   "execution_count": null,
   "id": "4ddd60fe-f124-42e9-be4e-12f234906299",
   "metadata": {},
   "outputs": [],
   "source": [
    "## or\n",
    "Foo.__call__(foo_instance)"
   ]
  },
  {
   "cell_type": "code",
   "execution_count": null,
   "id": "3eb09a47-c073-41fe-ab65-f7a7c3a7f914",
   "metadata": {},
   "outputs": [],
   "source": [
    "class simpleLinear:\n",
    "    def __init__(self, W, b):\n",
    "        self.W = W\n",
    "        self.b = b\n",
    "    def __call__(self, x):\n",
    "        return self.W*x+self.b\n",
    "\n"
   ]
  },
  {
   "cell_type": "code",
   "execution_count": null,
   "id": "0f1c9ba0-c9ee-4c02-bbdc-6f96d21f58f9",
   "metadata": {},
   "outputs": [],
   "source": [
    "model1 = simpleLinear(W=2,b=1)\n",
    "y = model1(x=5)\n",
    "y"
   ]
  },
  {
   "cell_type": "markdown",
   "id": "b7368a91-ba8a-4f05-8058-934c4429d2fa",
   "metadata": {},
   "source": [
    "## Inheritance"
   ]
  },
  {
   "cell_type": "code",
   "execution_count": null,
   "id": "8029549b-a57b-45f2-a255-5899111c9162",
   "metadata": {},
   "outputs": [],
   "source": [
    "## class DerivedClassName(BaseClassName):\n",
    "##    <statement-1>\n",
    "##    .\n",
    "##    .\n",
    "##    .\n",
    "##    <statement-N>"
   ]
  },
  {
   "cell_type": "code",
   "execution_count": null,
   "id": "2cfb44a4-28fd-47d1-9692-b053d3ec6b33",
   "metadata": {},
   "outputs": [],
   "source": [
    "class Animal:\n",
    "    def __init__(self, name):\n",
    "        self.name = name\n",
    "\n",
    "    def speak(self):\n",
    "        return \"Subclasses must implement this method\""
   ]
  },
  {
   "cell_type": "code",
   "execution_count": null,
   "id": "8fa4e59c-b0d0-4ad7-a0d5-c3d15f8488d8",
   "metadata": {},
   "outputs": [],
   "source": [
    "class Dog(Animal):  ## () means inheritance\n",
    "    def speak(self):\n",
    "        return f\"{self.name} says Woof!\"\n",
    "\n",
    "\n",
    "class Cat(Animal):\n",
    "    def speak(self):\n",
    "        return f\"{self.name} says Meow!\"\n",
    "\n",
    "\n",
    "class Parrot(Animal):\n",
    "    def speak(self):\n",
    "        return f\"{self.name} says Squawk!\"\n",
    "\n",
    "\n",
    "class Lion(Animal):\n",
    "    def speak(self):\n",
    "        return f\"{self.name} roars loudly!\""
   ]
  },
  {
   "cell_type": "code",
   "execution_count": null,
   "id": "e2e6de3d-f562-46b9-9dbd-0cba2aef0442",
   "metadata": {},
   "outputs": [],
   "source": [
    "## __init__ in the parent class was inherited \n",
    "## speak was overridden "
   ]
  },
  {
   "cell_type": "code",
   "execution_count": null,
   "id": "46a6abd8-1664-41be-b9cb-faaeca6dc9e4",
   "metadata": {},
   "outputs": [],
   "source": [
    "dog = Dog(\"Buddy\")\n",
    "cat = Cat(\"Whiskers\")\n",
    "parrot = Parrot(\"Polly\")\n",
    "lion = Lion(\"Simba\")\n",
    "\n",
    "animal = Animal(\"Weirdo\")\n",
    "print(animal.speak())\n",
    "\n",
    "print(dog.speak())  # Output: Buddy says Woof!\n",
    "print(cat.speak())  # Output: Whiskers says Meow!\n",
    "print(parrot.speak())  # Output: Polly says Squawk!\n",
    "print(lion.speak())  # Output: Simba roars loudly!\n",
    "\n"
   ]
  },
  {
   "cell_type": "code",
   "execution_count": null,
   "id": "2a8bd1e9-b84c-4c2d-aa42-84876824dbba",
   "metadata": {},
   "outputs": [],
   "source": [
    "## To use formatted string literals, begin a string with f \n",
    "year = 2016\n",
    "event = 'Referendum'\n",
    "f'Results of the {year} {event}'"
   ]
  },
  {
   "cell_type": "markdown",
   "id": "cd96176e-3606-4152-b42d-efefceddfbbd",
   "metadata": {},
   "source": [
    "## super() Function"
   ]
  },
  {
   "cell_type": "code",
   "execution_count": null,
   "id": "549d30fe-52b3-47dc-8399-6a923be0b7b6",
   "metadata": {},
   "outputs": [],
   "source": [
    "class Parent:\n",
    "  def __init__(self, txt):\n",
    "    self.message = txt\n",
    "\n",
    "  def printmessage(self):\n",
    "    print(self.message)\n",
    "\n",
    "class Child(Parent):\n",
    "  def __init__(self, txt):\n",
    "    super().__init__(txt)\n",
    "\n",
    "x = Child(\"Hello, and welcome!\")\n",
    "\n",
    "x.printmessage()\n"
   ]
  },
  {
   "cell_type": "code",
   "execution_count": null,
   "id": "8f2df7cb-dd9f-4802-9ad3-f9923e7e4adf",
   "metadata": {},
   "outputs": [],
   "source": [
    "## same as\n",
    "class Parent:\n",
    "  def __init__(self, txt):\n",
    "    self.message = txt\n",
    "\n",
    "  def printmessage(self):\n",
    "    print(self.message)\n",
    "\n",
    "class Child(Parent):\n",
    "  def __init__(self, txt):\n",
    "    Parent.__init__(self, txt)\n",
    "\n",
    "x = Child(\"Hello, and welcome!\")\n",
    "\n",
    "x.printmessage()\n",
    "\n"
   ]
  },
  {
   "cell_type": "code",
   "execution_count": null,
   "id": "40f51740-efa5-44c6-be3a-1779ffe7014b",
   "metadata": {},
   "outputs": [],
   "source": [
    "## An \"advanced\" example\n",
    "class simpleLinear:\n",
    "    def __init__(self, W, b):\n",
    "        self.W = W\n",
    "        self.b = b\n",
    "    def __call__(self, x):\n",
    "        return self.W*x+self.b\n",
    "\n",
    "class simpleLinearActivation(simpleLinear):\n",
    "    def __init__(self, W, b, activation=False):\n",
    "        super().__init__(W, b)\n",
    "        self.activation = activation\n",
    "    def __call__(self, x):\n",
    "        y = super().__call__(x)\n",
    "        if self.activation:\n",
    "            if y < 0:\n",
    "                y = 0\n",
    "        return y\n",
    "\n"
   ]
  },
  {
   "cell_type": "code",
   "execution_count": null,
   "id": "4b4ecb01-4c2b-4bcb-bfa7-e77a4b78d179",
   "metadata": {},
   "outputs": [],
   "source": [
    "model2 = simpleLinearActivation(2,1, True)\n",
    "model2.activation"
   ]
  },
  {
   "cell_type": "code",
   "execution_count": null,
   "id": "9a592fb2-6467-4320-a971-6232180f54d2",
   "metadata": {},
   "outputs": [],
   "source": [
    "model2(-1)"
   ]
  },
  {
   "cell_type": "code",
   "execution_count": null,
   "id": "fed25ff2-8f11-47b4-bbf5-bc8aa9835241",
   "metadata": {},
   "outputs": [],
   "source": [
    "model2(1)"
   ]
  },
  {
   "cell_type": "code",
   "execution_count": null,
   "id": "29ba3c66-12db-4376-940a-eba50c085730",
   "metadata": {},
   "outputs": [],
   "source": [
    "## A more tricky example\n",
    "class simpleLinear:\n",
    "    def __init__(self, W, b):\n",
    "        self.W = W\n",
    "        self.b = b\n",
    "    def __call__(self, input):\n",
    "        return self.call(input)"
   ]
  },
  {
   "cell_type": "code",
   "execution_count": null,
   "id": "1775c0b4-6f88-4dbb-a836-c903dcaa7057",
   "metadata": {},
   "outputs": [],
   "source": [
    "class simpleLinearActivation(simpleLinear):\n",
    "    def __init__(self, W, b, activation=False):\n",
    "        super().__init__(W, b)\n",
    "        self.activation = activation\n",
    "    def call(self, x):\n",
    "        y = self.W*x+self.b\n",
    "        if self.activation:\n",
    "            if y < 0:\n",
    "                y = 0\n",
    "        return y"
   ]
  },
  {
   "cell_type": "code",
   "execution_count": null,
   "id": "5048cd8d-f91b-417d-bc62-d914bdf37d92",
   "metadata": {},
   "outputs": [],
   "source": [
    "model2 = simpleLinearActivation(2,1, True)\n",
    "model2(-1)"
   ]
  },
  {
   "cell_type": "code",
   "execution_count": null,
   "id": "1afc5f05-1007-4bb8-a659-01a7cf751c1f",
   "metadata": {},
   "outputs": [],
   "source": [
    "model2(1)"
   ]
  },
  {
   "cell_type": "code",
   "execution_count": null,
   "id": "0110d9a6-3f32-48de-9839-968fbdaaf32c",
   "metadata": {},
   "outputs": [],
   "source": []
  }
 ],
 "metadata": {
  "kernelspec": {
   "display_name": "Python 3 (ipykernel)",
   "language": "python",
   "name": "python3"
  },
  "language_info": {
   "codemirror_mode": {
    "name": "ipython",
    "version": 3
   },
   "file_extension": ".py",
   "mimetype": "text/x-python",
   "name": "python",
   "nbconvert_exporter": "python",
   "pygments_lexer": "ipython3",
   "version": "3.10.13"
  }
 },
 "nbformat": 4,
 "nbformat_minor": 5
}
