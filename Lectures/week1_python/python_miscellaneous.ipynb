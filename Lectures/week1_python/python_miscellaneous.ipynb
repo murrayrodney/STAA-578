{
 "cells": [
  {
   "cell_type": "markdown",
   "id": "63455679-7aef-4b65-8d63-924828e80e27",
   "metadata": {},
   "source": [
    "## Modules"
   ]
  },
  {
   "cell_type": "code",
   "execution_count": null,
   "id": "04229284-5d69-43dc-bf10-f70858dce090",
   "metadata": {},
   "outputs": [],
   "source": [
    "import fibo"
   ]
  },
  {
   "cell_type": "code",
   "execution_count": null,
   "id": "f1424675-4443-4442-aff4-ad9f96d84665",
   "metadata": {},
   "outputs": [],
   "source": [
    "fibo.fib(1000)\n"
   ]
  },
  {
   "cell_type": "code",
   "execution_count": null,
   "id": "3fabb502-1c0b-442e-9532-66d6745e4568",
   "metadata": {},
   "outputs": [],
   "source": [
    "fibo.fib2(1000)"
   ]
  },
  {
   "cell_type": "code",
   "execution_count": null,
   "id": "f3f10d3d-7114-46a3-8426-1c7edf171eb0",
   "metadata": {},
   "outputs": [],
   "source": [
    "from fibo import fib, fib2"
   ]
  },
  {
   "cell_type": "code",
   "execution_count": null,
   "id": "7382e959-ff36-4bc7-980b-85851e517f12",
   "metadata": {},
   "outputs": [],
   "source": [
    "fib(1000)"
   ]
  },
  {
   "cell_type": "code",
   "execution_count": null,
   "id": "4aa793e7-7e6b-4863-80d1-b7a2be76089a",
   "metadata": {},
   "outputs": [],
   "source": [
    "fib2(1000)"
   ]
  },
  {
   "cell_type": "code",
   "execution_count": null,
   "id": "5648752b-016a-46f8-89d1-e04a31be0931",
   "metadata": {},
   "outputs": [],
   "source": [
    "## import all definitions in a .py file\n",
    "from fibo import *"
   ]
  },
  {
   "cell_type": "code",
   "execution_count": null,
   "id": "c8d82b5b-b6c0-466c-b318-3457cc5ef94d",
   "metadata": {},
   "outputs": [],
   "source": [
    "## create alias\n",
    "from fibo import fib as fibonacci\n",
    "fibonacci(1000)\n"
   ]
  },
  {
   "cell_type": "code",
   "execution_count": null,
   "id": "573cdab3-df74-459c-904b-c3db1eeb0f70",
   "metadata": {},
   "outputs": [],
   "source": [
    "dir(fibo)"
   ]
  },
  {
   "cell_type": "code",
   "execution_count": null,
   "id": "cec4f9ac-daa5-417a-84bc-900f24f5cf00",
   "metadata": {},
   "outputs": [],
   "source": [
    "fibo.__doc__"
   ]
  },
  {
   "cell_type": "code",
   "execution_count": null,
   "id": "52cfe6ff-062a-4878-b614-a7a43a1318fa",
   "metadata": {},
   "outputs": [],
   "source": [
    "fibo.__file__"
   ]
  },
  {
   "cell_type": "code",
   "execution_count": null,
   "id": "12c666b6-f136-4692-bc60-75cdf4714660",
   "metadata": {},
   "outputs": [],
   "source": [
    "fibo.__name__"
   ]
  },
  {
   "cell_type": "code",
   "execution_count": null,
   "id": "20c0da91-6eb2-4845-89f7-3c7e0cf4da45",
   "metadata": {},
   "outputs": [],
   "source": [
    "?fibo"
   ]
  },
  {
   "cell_type": "code",
   "execution_count": null,
   "id": "d5ab86dc-2192-4199-98ba-966459f1cecd",
   "metadata": {},
   "outputs": [],
   "source": [
    "import os\n",
    "os.getcwd()\n"
   ]
  },
  {
   "cell_type": "code",
   "execution_count": null,
   "id": "cf4ae6f2-2557-4628-bff5-a47a266d0fe2",
   "metadata": {},
   "outputs": [],
   "source": [
    "os.chdir('C:\\\\Users\\\\17348\\\\Documents\\\\STAA 578\\\\Lecture notes')"
   ]
  },
  {
   "cell_type": "code",
   "execution_count": null,
   "id": "d9aa8ea1-c8d4-4de4-80d4-91449513262d",
   "metadata": {},
   "outputs": [],
   "source": [
    "runfile('fibo_execute.py')"
   ]
  },
  {
   "cell_type": "code",
   "execution_count": null,
   "id": "6d75cea6-bcc1-4d21-9585-d42d40eccb5b",
   "metadata": {},
   "outputs": [],
   "source": [
    "runfile('fibo.py')   ## No output because the file only contains functions"
   ]
  },
  {
   "cell_type": "code",
   "execution_count": null,
   "id": "5e0a4b1d-4d6f-4b15-8348-e76f4a2713af",
   "metadata": {},
   "outputs": [],
   "source": [
    "import sys\n",
    "sys.path"
   ]
  },
  {
   "cell_type": "code",
   "execution_count": null,
   "id": "1fdab414-cc7d-4370-8858-b43ff7309145",
   "metadata": {},
   "outputs": [],
   "source": [
    "import keras"
   ]
  },
  {
   "cell_type": "code",
   "execution_count": null,
   "id": "97ba641c-0a48-4729-9081-8197b7f9e51a",
   "metadata": {},
   "outputs": [],
   "source": [
    "dir(keras)\n"
   ]
  },
  {
   "cell_type": "code",
   "execution_count": null,
   "id": "900c8ba5-68dc-4343-8f47-826f8f4099da",
   "metadata": {},
   "outputs": [],
   "source": [
    "keras.__file__"
   ]
  },
  {
   "cell_type": "code",
   "execution_count": null,
   "id": "4d888fcc-ad41-456d-a142-8462e4c6494f",
   "metadata": {},
   "outputs": [],
   "source": [
    "?keras.layers"
   ]
  },
  {
   "cell_type": "code",
   "execution_count": null,
   "id": "a259b6cd-114f-4c81-aba6-176870e60a9a",
   "metadata": {},
   "outputs": [],
   "source": [
    "from keras import layers"
   ]
  },
  {
   "cell_type": "code",
   "execution_count": null,
   "id": "e44bf9cb-2e0b-45c2-83c5-6acd66b6f483",
   "metadata": {},
   "outputs": [],
   "source": [
    "?layers"
   ]
  },
  {
   "cell_type": "markdown",
   "id": "9330bba3-b14d-40dc-9493-20e578d6e622",
   "metadata": {},
   "source": [
    "## Output formatting"
   ]
  },
  {
   "cell_type": "code",
   "execution_count": 1,
   "id": "70b75a58-6767-41af-a44f-962764018019",
   "metadata": {},
   "outputs": [
    {
     "name": "stdout",
     "output_type": "stream",
     "text": [
      "Results of the 2016 Referendum\n"
     ]
    }
   ],
   "source": [
    "year = 2016\n",
    "event = 'Referendum'\n",
    "print(f'Results of the {year} {event}')"
   ]
  },
  {
   "cell_type": "code",
   "execution_count": 2,
   "id": "2b410d32-201d-4096-ab42-93189f9f4b97",
   "metadata": {},
   "outputs": [
    {
     "name": "stdout",
     "output_type": "stream",
     "text": [
      "Geeks :  1, Portal : 5.3\n"
     ]
    }
   ],
   "source": [
    "print(\"Geeks : %2d, Portal : %.1f\" % (1, 005.333))"
   ]
  },
  {
   "cell_type": "code",
   "execution_count": 3,
   "id": "690d9eba-ed93-434f-8b18-0d6cae12023e",
   "metadata": {},
   "outputs": [
    {
     "name": "stdout",
     "output_type": "stream",
     "text": [
      "Total students : 240, Boys : 120\n"
     ]
    }
   ],
   "source": [
    "print(\"Total students : %3d, Boys : %2d\" % (240, 120))"
   ]
  },
  {
   "cell_type": "code",
   "execution_count": 4,
   "id": "0945f9a3-db8f-4639-88fc-dd988d2b4885",
   "metadata": {},
   "outputs": [
    {
     "name": "stdout",
     "output_type": "stream",
     "text": [
      " 3.561E+02\n"
     ]
    }
   ],
   "source": [
    "print(\"%10.3E\" % (356.08977))"
   ]
  },
  {
   "cell_type": "code",
   "execution_count": 8,
   "id": "64cd1319-2347-4fc8-9300-66f386b3210a",
   "metadata": {},
   "outputs": [
    {
     "name": "stdout",
     "output_type": "stream",
     "text": [
      "Loss at step 0: 4.2242\n",
      "Loss at step 1: 4.1354\n",
      "Loss at step 2: 3.5414\n",
      "Loss at step 3: 2.8868\n",
      "Loss at step 4: 1.1144\n"
     ]
    }
   ],
   "source": [
    "loss_values = [4.224234, 4.1353675, 3.541427, 2.88678678, 1.11442342]\n",
    "for step, loss in enumerate(loss_values):\n",
    "    print(f'Loss at step {step}: {loss:.4f}')"
   ]
  },
  {
   "cell_type": "code",
   "execution_count": 9,
   "id": "07671c7a-0c6c-46b3-84d4-014b2a80f11a",
   "metadata": {},
   "outputs": [
    {
     "name": "stdout",
     "output_type": "stream",
     "text": [
      "Loss at step 0: 4.2242\n",
      "Loss at step 1: 4.1354\n",
      "Loss at step 2: 3.5414\n",
      "Loss at step 3: 2.8868\n",
      "Loss at step 4: 1.1144\n"
     ]
    }
   ],
   "source": [
    "## another way\n",
    "for step, loss in enumerate(loss_values):\n",
    "    print('Loss at step {0}: {1:.4f}'.format(step, loss))\n"
   ]
  },
  {
   "cell_type": "markdown",
   "id": "65ff35a3-bd88-4577-874e-1d3689319bf6",
   "metadata": {},
   "source": [
    "## Reading and writing files (Python built-in method)"
   ]
  },
  {
   "cell_type": "code",
   "execution_count": null,
   "id": "1c378d38-dec2-4030-b2fa-b506314bf8cd",
   "metadata": {},
   "outputs": [],
   "source": [
    "os.getcwd()"
   ]
  },
  {
   "cell_type": "code",
   "execution_count": null,
   "id": "72cbd101-3dc0-46fc-a5ea-8b0c1a5bcc06",
   "metadata": {},
   "outputs": [],
   "source": [
    "## It is good practice to use \"with\" keyword when dealing with file objects!\n",
    "## with open('workfile','w', encoding=\"utf-8\") as f \n",
    "## is not the same as f = open('workfile', 'w', encoding=\"utf-8\")\n",
    "\n",
    "with open('workfile','w', encoding=\"utf-8\") as f:\n",
    "    f.write('This is a test\\n')\n"
   ]
  },
  {
   "cell_type": "code",
   "execution_count": null,
   "id": "c1db6b71-9667-4d6c-ace0-086168c35b74",
   "metadata": {},
   "outputs": [],
   "source": [
    "with open('workfile', encoding=\"utf-8\") as f:\n",
    "    read_data = f.read()\n"
   ]
  },
  {
   "cell_type": "code",
   "execution_count": null,
   "id": "718c26e1-c485-4cc3-ae7f-4a15fb9e2adc",
   "metadata": {},
   "outputs": [],
   "source": [
    "read_data"
   ]
  },
  {
   "cell_type": "code",
   "execution_count": null,
   "id": "99dbf4fc-4c84-4364-a904-df5e6fecc70a",
   "metadata": {},
   "outputs": [],
   "source": [
    "type(read_data)"
   ]
  },
  {
   "cell_type": "code",
   "execution_count": null,
   "id": "f78ab785-de7a-436a-aadc-63ed241c69d0",
   "metadata": {},
   "outputs": [],
   "source": [
    "with open('fibo.py', encoding=\"utf-8\") as f:\n",
    "    for line in f:\n",
    "        print(line, end='')\n"
   ]
  },
  {
   "cell_type": "markdown",
   "id": "c6b7aa03-808f-4c1e-95e2-16a434fe80ee",
   "metadata": {},
   "source": [
    "## Using \"pickle\" to save variables"
   ]
  },
  {
   "cell_type": "code",
   "execution_count": null,
   "id": "c25ee8a1-40fd-4ae6-af26-a3023ea8ef40",
   "metadata": {},
   "outputs": [],
   "source": [
    "import pickle"
   ]
  },
  {
   "cell_type": "code",
   "execution_count": null,
   "id": "c7fdd2b5-72fa-4a9d-9eff-4f8530bb22b4",
   "metadata": {},
   "outputs": [],
   "source": [
    "def save_pkl(variables, filename):\n",
    "    with open(filename, 'wb') as f:\n",
    "        pickle.dump(variables, f)\n"
   ]
  },
  {
   "cell_type": "code",
   "execution_count": null,
   "id": "dbcd96ed-319a-4c4a-977c-f495b971e1fa",
   "metadata": {},
   "outputs": [],
   "source": [
    "L = [1,2,3,4,5]\n",
    "favorite_color = { \"lion\": \"yellow\", \"kitty\": \"red\" }\n",
    "\n",
    "\n",
    "save_pkl((L, favorite_color), \"test_pickle.pkl\")  ##（L, favorite_color) is a tuple\n"
   ]
  },
  {
   "cell_type": "code",
   "execution_count": null,
   "id": "fbd15b8b-d8c0-4822-9c36-00c14419d11e",
   "metadata": {},
   "outputs": [],
   "source": [
    "def load_pkl(filename):\n",
    "    with open(filename, 'rb') as f:\n",
    "        return pickle.load(f)\n"
   ]
  },
  {
   "cell_type": "code",
   "execution_count": null,
   "id": "fcdf9842-6baf-4150-9f4f-14d26e1a7c9f",
   "metadata": {},
   "outputs": [],
   "source": [
    "loaded_variable1, loaded_variable2 = load_pkl(\"test_pickle.pkl\")"
   ]
  },
  {
   "cell_type": "code",
   "execution_count": null,
   "id": "606998fc-f350-4f2c-a60c-2fbffa7168bb",
   "metadata": {},
   "outputs": [],
   "source": [
    "loaded_variable1\n"
   ]
  },
  {
   "cell_type": "code",
   "execution_count": null,
   "id": "2a941678-1b3b-4370-9e11-4c62a4549994",
   "metadata": {},
   "outputs": [],
   "source": [
    "loaded_variable2"
   ]
  },
  {
   "cell_type": "markdown",
   "id": "62f48e17-b59a-4340-bb4e-86f08c872897",
   "metadata": {},
   "source": [
    "## Load csv (comma-separated values) files"
   ]
  },
  {
   "cell_type": "code",
   "execution_count": null,
   "id": "05edc95c-e389-4b98-8c0d-8b63a80aa10c",
   "metadata": {},
   "outputs": [],
   "source": [
    "## Python build-in method"
   ]
  },
  {
   "cell_type": "code",
   "execution_count": null,
   "id": "5b3a5b27-313f-457d-afb5-e9f485c9a8ce",
   "metadata": {},
   "outputs": [],
   "source": [
    "fname = \"jena_climate_2009_2016.csv\"\n",
    "with open(fname) as f:\n",
    "    data = f.read()"
   ]
  },
  {
   "cell_type": "code",
   "execution_count": null,
   "id": "c16338b6-f59a-49a3-bf92-5c6d6abc3bd2",
   "metadata": {},
   "outputs": [],
   "source": [
    "## split lines"
   ]
  },
  {
   "cell_type": "code",
   "execution_count": null,
   "id": "6b43f881-cc89-466a-b943-b409ef255abe",
   "metadata": {},
   "outputs": [],
   "source": [
    "lines = data.split(\"\\n\")\n",
    "lines[0]   "
   ]
  },
  {
   "cell_type": "code",
   "execution_count": null,
   "id": "7cb757ce-a2d6-4148-86ca-2bc18f8c06d7",
   "metadata": {},
   "outputs": [],
   "source": [
    "type(lines)"
   ]
  },
  {
   "cell_type": "code",
   "execution_count": null,
   "id": "c76da32e-d828-4463-8a8c-28b4a88f5673",
   "metadata": {},
   "outputs": [],
   "source": [
    "lines[1] ## note that entries are separated by comma"
   ]
  },
  {
   "cell_type": "code",
   "execution_count": null,
   "id": "7d5c306e-6265-4862-8971-9a90defcfe0f",
   "metadata": {},
   "outputs": [],
   "source": [
    "header = lines[0].split(\",\")\n",
    "lines = lines[1:]\n",
    "print(header)\n",
    "print(len(lines))"
   ]
  },
  {
   "cell_type": "code",
   "execution_count": null,
   "id": "a11fe28a-2f9c-4a02-a56a-5f5e783f8f72",
   "metadata": {},
   "outputs": [],
   "source": [
    "import numpy as np\n",
    "temperature = np.zeros((len(lines),))\n",
    "raw_data = np.zeros((len(lines), len(header) - 1))\n",
    "\n",
    "## We will introduce tensor and numpy library later"
   ]
  },
  {
   "cell_type": "code",
   "execution_count": null,
   "id": "1cdb9ed5-0385-42b2-88a7-a0973daba438",
   "metadata": {},
   "outputs": [],
   "source": [
    "for i, line in enumerate(lines):\n",
    "    values = [float(x) for x in line.split(\",\")[1:]]  ## list comprehensions\n",
    "    temperature[i] = values[1]\n",
    "    raw_data[i, :] = values[:]"
   ]
  },
  {
   "cell_type": "code",
   "execution_count": null,
   "id": "c60d891f-c6db-4a42-a96d-b8550c4f2c7f",
   "metadata": {},
   "outputs": [],
   "source": [
    "from matplotlib import pyplot as plt\n",
    "plt.plot(range(len(temperature)), temperature)"
   ]
  },
  {
   "cell_type": "code",
   "execution_count": null,
   "id": "70f27917-7eb0-41e2-93ad-a732e9d268e4",
   "metadata": {},
   "outputs": [],
   "source": [
    "temperature[0:10]\n"
   ]
  },
  {
   "cell_type": "code",
   "execution_count": null,
   "id": "4ae6a9b1-ece6-447d-848a-7563a9b9a589",
   "metadata": {},
   "outputs": [],
   "source": [
    "## Load csv files using pandas library"
   ]
  },
  {
   "cell_type": "code",
   "execution_count": null,
   "id": "0ec6baf9-fd13-4583-9575-19972b69f9cb",
   "metadata": {},
   "outputs": [],
   "source": [
    "import pandas as pd\n",
    "\n",
    "climate_data = pd.read_csv(\"jena_climate_2009_2016.csv\")\n"
   ]
  },
  {
   "cell_type": "code",
   "execution_count": null,
   "id": "1feb4ffa-01ad-4ea4-b1fa-34a17a72de59",
   "metadata": {},
   "outputs": [],
   "source": [
    "type(climate_data)"
   ]
  },
  {
   "cell_type": "code",
   "execution_count": null,
   "id": "5127d06d-5e0c-4f80-b384-8f843c4a631e",
   "metadata": {},
   "outputs": [],
   "source": [
    "climate_data.head()"
   ]
  },
  {
   "cell_type": "code",
   "execution_count": null,
   "id": "88469e94-88b9-4bb6-9958-145413f414de",
   "metadata": {},
   "outputs": [],
   "source": [
    "climate_data_array = climate_data.to_numpy()"
   ]
  },
  {
   "cell_type": "code",
   "execution_count": null,
   "id": "36b97397-e430-4e0a-9ea5-66dc9199fd62",
   "metadata": {},
   "outputs": [],
   "source": [
    "plt.plot(range(len(climate_data_array)), climate_data_array[:,2])"
   ]
  },
  {
   "cell_type": "code",
   "execution_count": null,
   "id": "5b928d20-a779-4101-9c19-a8c6de866264",
   "metadata": {},
   "outputs": [],
   "source": []
  }
 ],
 "metadata": {
  "kernelspec": {
   "display_name": "Python 3 (ipykernel)",
   "language": "python",
   "name": "python3"
  },
  "language_info": {
   "codemirror_mode": {
    "name": "ipython",
    "version": 3
   },
   "file_extension": ".py",
   "mimetype": "text/x-python",
   "name": "python",
   "nbconvert_exporter": "python",
   "pygments_lexer": "ipython3",
   "version": "3.10.13"
  }
 },
 "nbformat": 4,
 "nbformat_minor": 5
}
