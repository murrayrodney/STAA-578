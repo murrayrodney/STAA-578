{
 "cells": [
  {
   "cell_type": "markdown",
   "id": "ca6a7823-68c2-49d6-b1dc-faf9f21f1999",
   "metadata": {},
   "source": [
    "# First exposure"
   ]
  },
  {
   "cell_type": "markdown",
   "id": "2b0a325a-b634-4f64-814f-ef6cc7a905db",
   "metadata": {},
   "source": [
    "## Numbers"
   ]
  },
  {
   "cell_type": "code",
   "execution_count": null,
   "id": "6a1ea3c6-8768-4c9f-9dff-fe579c1f14e5",
   "metadata": {},
   "outputs": [],
   "source": [
    "(50 - 5*6) / 4"
   ]
  },
  {
   "cell_type": "code",
   "execution_count": null,
   "id": "1d4681d2-9842-406d-a9fb-e9ff1d11b8a5",
   "metadata": {},
   "outputs": [],
   "source": [
    "type((50-4*6)/4)"
   ]
  },
  {
   "cell_type": "code",
   "execution_count": null,
   "id": "67f6f6ed-7b06-439b-a60c-4168784c006a",
   "metadata": {},
   "outputs": [],
   "source": [
    "2/1"
   ]
  },
  {
   "cell_type": "code",
   "execution_count": null,
   "id": "40f500b6-e491-403c-8c18-4432f8c3c630",
   "metadata": {},
   "outputs": [],
   "source": [
    "# Pay attention to the type\n",
    "type(2/1)"
   ]
  },
  {
   "cell_type": "code",
   "execution_count": null,
   "id": "a7fc5d28-05e9-4a8e-8f6b-ca2734770d37",
   "metadata": {},
   "outputs": [],
   "source": [
    "type(2//1)"
   ]
  },
  {
   "cell_type": "code",
   "execution_count": null,
   "id": "b8ce176d-570b-45c1-8e9f-e4ae40f27573",
   "metadata": {},
   "outputs": [],
   "source": [
    "5 ** 2 # Square"
   ]
  },
  {
   "cell_type": "code",
   "execution_count": null,
   "id": "50b4c93b-c6fc-418d-ab3e-5794fe682a76",
   "metadata": {},
   "outputs": [],
   "source": [
    "a,b = 1,2"
   ]
  },
  {
   "cell_type": "code",
   "execution_count": null,
   "id": "91c600b9-5873-418f-b7a9-948bab5383ac",
   "metadata": {},
   "outputs": [],
   "source": [
    "a"
   ]
  },
  {
   "cell_type": "code",
   "execution_count": null,
   "id": "5b2957c5-7af0-49bc-8ce6-4f109c118bdc",
   "metadata": {},
   "outputs": [],
   "source": [
    "b"
   ]
  },
  {
   "cell_type": "code",
   "execution_count": null,
   "id": "218a6321-0745-4ccf-802b-2f6062619fee",
   "metadata": {},
   "outputs": [],
   "source": [
    "width = 20\n",
    "height = 5 * 9\n",
    "width * height"
   ]
  },
  {
   "cell_type": "code",
   "execution_count": null,
   "id": "d2b9833d-3eb2-4f4a-b1cd-cf07f6119a10",
   "metadata": {},
   "outputs": [],
   "source": [
    "## the last printed expression is assigned to the variable _\n",
    "type(_)"
   ]
  },
  {
   "cell_type": "code",
   "execution_count": null,
   "id": "9427bef3-1b06-48a8-9421-3744285091ed",
   "metadata": {},
   "outputs": [],
   "source": [
    "tax = 12.5 / 100\n",
    "price = 100.50\n",
    "price * tax"
   ]
  },
  {
   "cell_type": "code",
   "execution_count": null,
   "id": "2e1b88d1-6bb0-4ea1-9593-81b69cac815e",
   "metadata": {},
   "outputs": [],
   "source": [
    "price + _"
   ]
  },
  {
   "cell_type": "code",
   "execution_count": null,
   "id": "fdb059e6-0bf0-43fd-b92c-160af54e2954",
   "metadata": {},
   "outputs": [],
   "source": [
    "round(_, 2)"
   ]
  },
  {
   "cell_type": "markdown",
   "id": "fa0ba667-1b0c-4abe-bf2a-a2ecbd22400f",
   "metadata": {},
   "source": [
    "## Strings"
   ]
  },
  {
   "cell_type": "code",
   "execution_count": null,
   "id": "766ee3e6-dbdb-4bad-8249-e2b27fcf5b5e",
   "metadata": {},
   "outputs": [],
   "source": [
    "'Paris rabbit got your back :)! Yay!'  # quotes"
   ]
  },
  {
   "cell_type": "code",
   "execution_count": null,
   "id": "317d2521-f828-41fe-8216-a64444882f28",
   "metadata": {},
   "outputs": [],
   "source": [
    "print(r'C:\\some\\name')  # note the r before the quote, meaning \"raw string\""
   ]
  },
  {
   "cell_type": "code",
   "execution_count": null,
   "id": "1af942b4-5f12-4033-860d-c4f5bc97314c",
   "metadata": {},
   "outputs": [],
   "source": [
    "text = 'Python'\n",
    "text"
   ]
  },
  {
   "cell_type": "code",
   "execution_count": null,
   "id": "46c75522-cbf1-42f1-b447-071c1f440b9c",
   "metadata": {},
   "outputs": [],
   "source": [
    "type(text)"
   ]
  },
  {
   "cell_type": "code",
   "execution_count": null,
   "id": "a85e2748-91b5-4ccf-a7ab-91a4c2f7ef79",
   "metadata": {},
   "outputs": [],
   "source": [
    "## Pay attention to \"+\" for strings\n",
    "prefix = 'Py'\n",
    "suffix = 'thon'\n",
    "prefix+suffix"
   ]
  },
  {
   "cell_type": "code",
   "execution_count": null,
   "id": "3d1d21ee-9785-4b41-a128-5d6b2d3aa573",
   "metadata": {},
   "outputs": [],
   "source": [
    "# Index starts from 0"
   ]
  },
  {
   "cell_type": "code",
   "execution_count": null,
   "id": "95ec0fdb-e619-40a3-a35b-e1ac50a09e28",
   "metadata": {},
   "outputs": [],
   "source": [
    "word = 'Python'\n",
    "word[0]  # character in position 0"
   ]
  },
  {
   "cell_type": "code",
   "execution_count": null,
   "id": "13f85b2d-c8a1-41c9-9103-da21f593f13e",
   "metadata": {},
   "outputs": [],
   "source": [
    "word[5]  # character in position 5"
   ]
  },
  {
   "cell_type": "code",
   "execution_count": null,
   "id": "02d76b44-32b8-4957-9ff7-f54b69b9d122",
   "metadata": {},
   "outputs": [],
   "source": [
    "word[6]"
   ]
  },
  {
   "cell_type": "code",
   "execution_count": null,
   "id": "4504f501-92c7-4621-a6d4-a63a7b6823dd",
   "metadata": {},
   "outputs": [],
   "source": [
    "word[-1]  # last character"
   ]
  },
  {
   "cell_type": "code",
   "execution_count": null,
   "id": "1bb30176-4802-4c9a-9a0a-f7511d38d2eb",
   "metadata": {},
   "outputs": [],
   "source": [
    "word[-2]  # second-last character"
   ]
  },
  {
   "cell_type": "code",
   "execution_count": null,
   "id": "d5563794-9a75-409c-9ff8-333ad981479b",
   "metadata": {},
   "outputs": [],
   "source": [
    "word[-6]"
   ]
  },
  {
   "cell_type": "code",
   "execution_count": null,
   "id": "fef00137-b0ea-459c-b74d-251b10753463",
   "metadata": {},
   "outputs": [],
   "source": [
    "word[0:2]  # characters from position 0 (included) to 2 (excluded)"
   ]
  },
  {
   "cell_type": "code",
   "execution_count": null,
   "id": "db66f983-4316-467b-8cae-9728d9271e9e",
   "metadata": {},
   "outputs": [],
   "source": [
    "word[2:5]  # characters from position 2 (included) to 5 (excluded)"
   ]
  },
  {
   "cell_type": "code",
   "execution_count": null,
   "id": "67848376-0d18-4dbc-b5ae-ead75662b981",
   "metadata": {},
   "outputs": [],
   "source": [
    "word[2:] "
   ]
  },
  {
   "cell_type": "code",
   "execution_count": null,
   "id": "7101631b-5675-4a5d-b96e-81d3b9136bc1",
   "metadata": {},
   "outputs": [],
   "source": [
    "# Note how the start is always included, and the end always excluded. This makes sure that s[:i] + s[i:] is always equal to s"
   ]
  },
  {
   "cell_type": "code",
   "execution_count": null,
   "id": "871536c7-8524-47e0-b419-f2bd752023a2",
   "metadata": {},
   "outputs": [],
   "source": [
    "word[:2] + word[2:]"
   ]
  },
  {
   "cell_type": "code",
   "execution_count": null,
   "id": "73559afd-4b2e-41f4-9b65-e2d7f676f54e",
   "metadata": {},
   "outputs": [],
   "source": [
    "word[0] = 'J' ## not allowed, since strings are immutable"
   ]
  },
  {
   "cell_type": "code",
   "execution_count": null,
   "id": "66237371-23e8-445a-9bfa-f20c339c8c7e",
   "metadata": {},
   "outputs": [],
   "source": [
    "s = 'supercalifragilisticexpialidocious'\n",
    "len(s)"
   ]
  },
  {
   "cell_type": "markdown",
   "id": "149bf164-0d59-43af-9be3-55963d8c80e8",
   "metadata": {},
   "source": [
    "## Lists"
   ]
  },
  {
   "cell_type": "code",
   "execution_count": null,
   "id": "771957df-b263-4d32-b799-eef0beca6835",
   "metadata": {},
   "outputs": [],
   "source": [
    "## A compound data type. List is mutable. Pay attention to the interesting behavior!"
   ]
  },
  {
   "cell_type": "code",
   "execution_count": null,
   "id": "59582fda-2ac7-4a18-8344-42904afdefda",
   "metadata": {},
   "outputs": [],
   "source": [
    "squares = [1, 4, 9, 16, 25]\n",
    "squares"
   ]
  },
  {
   "cell_type": "code",
   "execution_count": null,
   "id": "d51aea60-33d0-4985-81ce-7388b9f159bd",
   "metadata": {},
   "outputs": [],
   "source": [
    "type(squares)"
   ]
  },
  {
   "cell_type": "code",
   "execution_count": null,
   "id": "d56406ac-5515-42d3-b9a5-1d91de8f15f2",
   "metadata": {},
   "outputs": [],
   "source": [
    "squares[0]"
   ]
  },
  {
   "cell_type": "code",
   "execution_count": null,
   "id": "5d8daf60-a153-4188-8912-ac2baa5070e0",
   "metadata": {},
   "outputs": [],
   "source": [
    "squares[-3:]"
   ]
  },
  {
   "cell_type": "code",
   "execution_count": null,
   "id": "335c334d-d692-49b3-836a-5f914976244e",
   "metadata": {},
   "outputs": [],
   "source": [
    "## \"+\" means concatenation as for strings"
   ]
  },
  {
   "cell_type": "code",
   "execution_count": null,
   "id": "bb6be044-b06f-44c3-8f15-8abc6c26cc51",
   "metadata": {},
   "outputs": [],
   "source": [
    "squares + [36, 49, 64, 81, 100]"
   ]
  },
  {
   "cell_type": "code",
   "execution_count": null,
   "id": "2d071ca6-de95-41c2-b4ad-e7b3cd32bc6c",
   "metadata": {},
   "outputs": [],
   "source": [
    "cubes = [1, 8, 27, 65, 125]\n",
    "cubes[3] = 64\n",
    "cubes"
   ]
  },
  {
   "cell_type": "code",
   "execution_count": null,
   "id": "02d4f6ce-2083-457a-881a-c99fa5859d60",
   "metadata": {},
   "outputs": [],
   "source": [
    "## list.append() method; see slides for details"
   ]
  },
  {
   "cell_type": "code",
   "execution_count": null,
   "id": "62980f59-478a-4675-b3ff-213e91036bc5",
   "metadata": {},
   "outputs": [],
   "source": [
    "cubes.append(216)  # add the cube of 6\n",
    "cubes.append(7 ** 3)  # and the cube of 7\n",
    "cubes"
   ]
  },
  {
   "cell_type": "code",
   "execution_count": null,
   "id": "3dd5628f-70f5-4d89-a151-f3a6029a3792",
   "metadata": {},
   "outputs": [],
   "source": [
    "list.append(cubes,8**3)\n",
    "cubes"
   ]
  },
  {
   "cell_type": "code",
   "execution_count": null,
   "id": "b8676ad7-0681-4ac2-ba0e-31061d8c3916",
   "metadata": {},
   "outputs": [],
   "source": [
    "letters = ['a', 'b', 'c', 'd', 'e', 'f', 'g']\n",
    "letters"
   ]
  },
  {
   "cell_type": "code",
   "execution_count": null,
   "id": "a7770ddc-00f5-4925-b78b-30ba4c4cf1ac",
   "metadata": {},
   "outputs": [],
   "source": [
    "# replace some values\n",
    "letters[2:5] = ['C', 'D', 'E']\n",
    "letters"
   ]
  },
  {
   "cell_type": "code",
   "execution_count": null,
   "id": "3be34e25-be28-489f-9115-da3e13d2362c",
   "metadata": {},
   "outputs": [],
   "source": [
    "# now remove them\n",
    "letters[2:5] = []\n",
    "letters"
   ]
  },
  {
   "cell_type": "code",
   "execution_count": null,
   "id": "39f06ae2-5a52-4abd-bca1-a11fcb48fbfc",
   "metadata": {},
   "outputs": [],
   "source": [
    "## Please pay attention to the astonishing behavior below!"
   ]
  },
  {
   "cell_type": "code",
   "execution_count": null,
   "id": "2c1282ab-74ce-4366-9ca1-b49d9f980ded",
   "metadata": {},
   "outputs": [],
   "source": [
    "rgb = [\"Red\", \"Green\", \"Blue\"]\n",
    "rgba = rgb\n",
    "rgba.append(\"Alph\")"
   ]
  },
  {
   "cell_type": "code",
   "execution_count": null,
   "id": "78d64cf9-aafa-4ac4-b589-c6bf40a1544a",
   "metadata": {},
   "outputs": [],
   "source": [
    "rgb"
   ]
  },
  {
   "cell_type": "code",
   "execution_count": null,
   "id": "cc0b3b3c-8827-4705-ba20-6b5c5ee18817",
   "metadata": {},
   "outputs": [],
   "source": [
    "rgba"
   ]
  },
  {
   "cell_type": "code",
   "execution_count": null,
   "id": "0bdb5a45-c26a-4f5d-9d8c-a433906e5be2",
   "metadata": {},
   "outputs": [],
   "source": [
    "## check if the objects are identical"
   ]
  },
  {
   "cell_type": "code",
   "execution_count": null,
   "id": "7e325dc3-c4c0-423f-bb07-8224c3f01db4",
   "metadata": {},
   "outputs": [],
   "source": [
    "id(rgb) # id gives the address of this list"
   ]
  },
  {
   "cell_type": "code",
   "execution_count": null,
   "id": "567a8690-5411-42a1-8719-857f9334dd75",
   "metadata": {},
   "outputs": [],
   "source": [
    "id(rgba)"
   ]
  },
  {
   "cell_type": "code",
   "execution_count": null,
   "id": "4b8ad791-1b15-4646-aeee-d0f3beebdb2e",
   "metadata": {},
   "outputs": [],
   "source": [
    "id(rgb) == id(rgba) "
   ]
  },
  {
   "cell_type": "code",
   "execution_count": null,
   "id": "bd48684d-c68a-4523-b420-4b85da87fd06",
   "metadata": {},
   "outputs": [],
   "source": [
    "## immutable objects don't have this issue"
   ]
  },
  {
   "cell_type": "code",
   "execution_count": null,
   "id": "9cc097b6-b7ad-4e36-a7fe-da1132433e43",
   "metadata": {},
   "outputs": [],
   "source": [
    "word = 'python'\n",
    "word1 = word\n",
    "word = word + '10'\n",
    "word"
   ]
  },
  {
   "cell_type": "code",
   "execution_count": null,
   "id": "f1aa2db8-8c6f-4fa2-9ef8-f7d58d191afe",
   "metadata": {},
   "outputs": [],
   "source": [
    "word1"
   ]
  },
  {
   "cell_type": "code",
   "execution_count": null,
   "id": "0253af8f-c4b9-43c2-971f-c6aa80ed36dc",
   "metadata": {},
   "outputs": [],
   "source": [
    "## copy"
   ]
  },
  {
   "cell_type": "code",
   "execution_count": null,
   "id": "8baf1449-9ad1-4a90-ba7e-ad9f5b61d255",
   "metadata": {},
   "outputs": [],
   "source": [
    "rgb = [\"Red\", \"Green\", \"Blue\"]\n",
    "rgba = rgb.copy()"
   ]
  },
  {
   "cell_type": "code",
   "execution_count": null,
   "id": "faae8c0e-9497-4ef6-9080-72998c924eb1",
   "metadata": {},
   "outputs": [],
   "source": [
    "rgba "
   ]
  },
  {
   "cell_type": "code",
   "execution_count": null,
   "id": "d400f82c-97ca-4064-8379-03e08798c547",
   "metadata": {},
   "outputs": [],
   "source": [
    "rgba.append(\"Alph\")"
   ]
  },
  {
   "cell_type": "code",
   "execution_count": null,
   "id": "f2146f4c-5ef6-446a-aa63-341a7ba3ad81",
   "metadata": {},
   "outputs": [],
   "source": [
    "rgba"
   ]
  },
  {
   "cell_type": "code",
   "execution_count": null,
   "id": "2d0e25d9-4b1c-46b4-91c9-1749ff5a5274",
   "metadata": {},
   "outputs": [],
   "source": [
    "rgb"
   ]
  },
  {
   "cell_type": "code",
   "execution_count": null,
   "id": "845e6378-c610-4ca7-846e-4a3cdd8e160b",
   "metadata": {},
   "outputs": [],
   "source": [
    "## Nested list\n",
    "x = [1,2,[3,4]]\n",
    "x[0]"
   ]
  },
  {
   "cell_type": "code",
   "execution_count": null,
   "id": "43722509-4ccb-4787-9395-7b7f86dfd7a6",
   "metadata": {},
   "outputs": [],
   "source": [
    "x[2]"
   ]
  },
  {
   "cell_type": "code",
   "execution_count": null,
   "id": "47b56065-9fb6-4071-a3e6-03276293be10",
   "metadata": {},
   "outputs": [],
   "source": [
    "x[2][0]"
   ]
  },
  {
   "cell_type": "code",
   "execution_count": null,
   "id": "3e4695f1-9693-4a98-bb97-5e2ff3f0e49d",
   "metadata": {},
   "outputs": [],
   "source": [
    "## More astonishing! Watch"
   ]
  },
  {
   "cell_type": "code",
   "execution_count": null,
   "id": "ec301d16-7736-420d-a2e8-9b144a18f814",
   "metadata": {},
   "outputs": [],
   "source": [
    "y = x.copy()"
   ]
  },
  {
   "cell_type": "code",
   "execution_count": null,
   "id": "30ddae2e-3364-4591-beaf-b608124cee85",
   "metadata": {},
   "outputs": [],
   "source": [
    "y"
   ]
  },
  {
   "cell_type": "code",
   "execution_count": null,
   "id": "486f8a28-df72-4980-bc77-1738e39fdaaa",
   "metadata": {},
   "outputs": [],
   "source": [
    "y[0]=10\n",
    "y"
   ]
  },
  {
   "cell_type": "code",
   "execution_count": null,
   "id": "7c2fefb7-ba07-4bb6-bec2-4482fb3b8d40",
   "metadata": {},
   "outputs": [],
   "source": [
    "x"
   ]
  },
  {
   "cell_type": "code",
   "execution_count": null,
   "id": "9a3647ff-17b4-4bb8-9e61-2eaf6af6e5b8",
   "metadata": {},
   "outputs": [],
   "source": [
    "y[2][0]=10\n",
    "y"
   ]
  },
  {
   "cell_type": "code",
   "execution_count": null,
   "id": "96bbdaa6-cbad-4567-af85-7375af1dc573",
   "metadata": {},
   "outputs": [],
   "source": [
    "x"
   ]
  },
  {
   "cell_type": "code",
   "execution_count": null,
   "id": "84f3b74e-0c23-40dd-a4f7-863402a3e76a",
   "metadata": {},
   "outputs": [],
   "source": [
    "id(x) == id(y)"
   ]
  },
  {
   "cell_type": "code",
   "execution_count": null,
   "id": "7179776c-e3cf-4adf-9b0e-5a2a6574efb2",
   "metadata": {},
   "outputs": [],
   "source": [
    "id(x[2])==id(y[2])"
   ]
  },
  {
   "cell_type": "code",
   "execution_count": null,
   "id": "1185cce2-4110-4514-993a-ff86b22784bb",
   "metadata": {},
   "outputs": [],
   "source": [
    "## Need deepcopy "
   ]
  },
  {
   "cell_type": "code",
   "execution_count": null,
   "id": "d38b38c7-516e-4665-8aed-cabdef528eb6",
   "metadata": {},
   "outputs": [],
   "source": [
    "import copy"
   ]
  },
  {
   "cell_type": "code",
   "execution_count": null,
   "id": "36073f94-293f-4287-ad9e-428c87de3810",
   "metadata": {},
   "outputs": [],
   "source": [
    "x = [1,2,[3,4]]\n",
    "y = copy.deepcopy(x) ## Here . doesn't refer to an object, it's a \"module\""
   ]
  },
  {
   "cell_type": "code",
   "execution_count": null,
   "id": "4d2636cd-49c4-4660-87b0-b43becfbdfb5",
   "metadata": {},
   "outputs": [],
   "source": [
    "y[2][0]=10\n",
    "y"
   ]
  },
  {
   "cell_type": "code",
   "execution_count": null,
   "id": "8fd117dc-0380-4d58-8ce0-938a36a1379c",
   "metadata": {},
   "outputs": [],
   "source": [
    "x"
   ]
  },
  {
   "cell_type": "markdown",
   "id": "8700e7ca-1462-4e93-8c2c-2abd2f82485a",
   "metadata": {},
   "source": [
    "# Control Flow Tools"
   ]
  },
  {
   "cell_type": "markdown",
   "id": "d80588c7-df17-4c59-a9a0-66bd30457070",
   "metadata": {},
   "source": [
    "## \"if\" statement"
   ]
  },
  {
   "cell_type": "code",
   "execution_count": null,
   "id": "1d035c7f-4c92-46a8-8e4a-d714b5ac5561",
   "metadata": {},
   "outputs": [],
   "source": [
    "## There can be zero or more elif parts, and the else part is optional. \n",
    "## The keyword ‘elif’ is short for ‘else if’, and is useful to avoid excessive indentation. "
   ]
  },
  {
   "cell_type": "code",
   "execution_count": null,
   "id": "532a43b5-b655-40a7-b427-f40c449d217f",
   "metadata": {},
   "outputs": [],
   "source": [
    "x = int(input(\"Please enter an integer: \"))\n",
    "if x < 0:\n",
    "    x = 0\n",
    "    print('Negative changed to zero')\n",
    "elif x == 0:\n",
    "    print('Zero')\n",
    "elif x == 1:\n",
    "    print('Single')\n",
    "else:\n",
    "    print('More')\n"
   ]
  },
  {
   "cell_type": "code",
   "execution_count": null,
   "id": "b31fb6af-d535-4020-8bf5-d6e4c26b53ee",
   "metadata": {},
   "outputs": [],
   "source": [
    "x"
   ]
  },
  {
   "cell_type": "markdown",
   "id": "b6d2853e-ed31-4504-bfdf-a256f81d8759",
   "metadata": {},
   "source": [
    "## \"for\" loop"
   ]
  },
  {
   "cell_type": "code",
   "execution_count": null,
   "id": "f954109c-c6af-4b06-93b0-8da0d883035b",
   "metadata": {},
   "outputs": [],
   "source": [
    "## Python’s for statement iterates over the items of any sequence \n",
    "## (a list or a string), in the order that they appear in the sequence."
   ]
  },
  {
   "cell_type": "code",
   "execution_count": null,
   "id": "6c535db4-d6ef-4df4-be2c-1686a582ab07",
   "metadata": {},
   "outputs": [],
   "source": [
    "words = ['cat', 'window', 'defenestrate']\n",
    "for w in words:\n",
    "    print(w, len(w))"
   ]
  },
  {
   "cell_type": "code",
   "execution_count": null,
   "id": "e3f3d007-3495-47d8-a670-6bdf2b139da6",
   "metadata": {},
   "outputs": [],
   "source": [
    "## The range() Function"
   ]
  },
  {
   "cell_type": "code",
   "execution_count": null,
   "id": "22fca7e5-a0ac-4ef4-802e-8da1097cc103",
   "metadata": {},
   "outputs": [],
   "source": [
    "for i in range(5):\n",
    "    print(i)"
   ]
  },
  {
   "cell_type": "code",
   "execution_count": null,
   "id": "37278585-3ab7-480e-bbe3-ada9180c249a",
   "metadata": {},
   "outputs": [],
   "source": [
    "type(range(5))"
   ]
  },
  {
   "cell_type": "code",
   "execution_count": null,
   "id": "f16423fe-41c3-489f-bc78-af4a1b991e3d",
   "metadata": {},
   "outputs": [],
   "source": [
    "list(range(5, 10)) ## range() is not a list"
   ]
  },
  {
   "cell_type": "code",
   "execution_count": null,
   "id": "aada1de0-a1fc-43ed-b18d-f059dd38c25a",
   "metadata": {},
   "outputs": [],
   "source": [
    "a = ['Mary', 'had', 'a', 'little', 'lamb']\n",
    "for i in range(len(a)):\n",
    "    print(i, a[i])"
   ]
  },
  {
   "cell_type": "markdown",
   "id": "17d43531-c69a-406f-adec-9ef55d164583",
   "metadata": {},
   "source": [
    "## \"while\" loop"
   ]
  },
  {
   "cell_type": "code",
   "execution_count": null,
   "id": "af92d876-a2fd-4fd7-85de-51bc0b59481f",
   "metadata": {},
   "outputs": [],
   "source": [
    "a, b = 0, 1\n",
    "while a < 10:\n",
    "    print(a)\n",
    "    a, b = b, a+b"
   ]
  },
  {
   "cell_type": "markdown",
   "id": "308a6631-caa7-4b19-8261-fe88739f4e50",
   "metadata": {},
   "source": [
    "## \"break\" and \"continue\" Statements, and \"else\" Clauses on Loops"
   ]
  },
  {
   "cell_type": "code",
   "execution_count": null,
   "id": "9dfa5d75-d0ed-4f7d-97c8-4576cd734372",
   "metadata": {},
   "outputs": [],
   "source": [
    "## The break statement breaks out of the innermost enclosing for or while loop.\n",
    "\n",
    "## A for or while loop can include an else clause.\n",
    "\n",
    "## In a for loop, the else clause is executed after the loop reaches its final iteration.\n",
    "\n",
    "## In a while loop, it’s executed after the loop’s condition becomes false.\n",
    "\n",
    "## In either kind of loop, the else clause is not executed if the loop was terminated by a break."
   ]
  },
  {
   "cell_type": "code",
   "execution_count": null,
   "id": "2fa4e68b-524a-492f-a0d4-e35607a70005",
   "metadata": {},
   "outputs": [],
   "source": [
    "for n in range(2, 10):\n",
    "    for x in range(2, n):\n",
    "        if n % x == 0:\n",
    "            print(n, 'equals', x, '*', n//x)\n",
    "            break\n",
    "    else:\n",
    "        # loop fell through without finding a factor\n",
    "        print(n, 'is a prime number')"
   ]
  },
  {
   "cell_type": "code",
   "execution_count": null,
   "id": "3c227597-2eb2-4526-85ce-d9f6cf62e06e",
   "metadata": {},
   "outputs": [],
   "source": [
    "## The continue statement continues with the next iteration of the loop:"
   ]
  },
  {
   "cell_type": "code",
   "execution_count": null,
   "id": "fabc9c20-7020-4e1c-b9d9-26473b1fa4fc",
   "metadata": {},
   "outputs": [],
   "source": [
    "for num in range(2, 10):\n",
    "    if num % 2 == 0:\n",
    "        print(\"Found an even number\", num)\n",
    "        continue\n",
    "    print(\"Found an odd number\", num)"
   ]
  },
  {
   "cell_type": "markdown",
   "id": "b0e96ef0-4848-47c8-bf0b-9aae8766629f",
   "metadata": {},
   "source": [
    "# Defining functions"
   ]
  },
  {
   "cell_type": "code",
   "execution_count": null,
   "id": "6d45e5d9-9e32-42c0-8c77-7efd9efbc16a",
   "metadata": {},
   "outputs": [],
   "source": [
    "## A function without an output"
   ]
  },
  {
   "cell_type": "code",
   "execution_count": null,
   "id": "15c90271-18da-468b-bd26-de683f81f41f",
   "metadata": {},
   "outputs": [],
   "source": [
    "def fib(n):    # write Fibonacci series up to n\n",
    "    \"\"\"Print a Fibonacci series up to n.\"\"\"\n",
    "    a, b = 0, 1\n",
    "    while a < n:\n",
    "        print(a, end=' ')\n",
    "        a, b = b, a+b\n",
    "        \n",
    "fib(2000)"
   ]
  },
  {
   "cell_type": "code",
   "execution_count": null,
   "id": "f7e199e6-1b30-4b32-af17-6426aee3fc57",
   "metadata": {},
   "outputs": [],
   "source": [
    "## Pay attention to \"Docstring\"\n",
    "?fib"
   ]
  },
  {
   "cell_type": "code",
   "execution_count": null,
   "id": "fc14740f-3001-443d-9859-493acc488960",
   "metadata": {},
   "outputs": [],
   "source": [
    "print(fib.__doc__)"
   ]
  },
  {
   "cell_type": "code",
   "execution_count": null,
   "id": "c5a0faa8-6f6c-4a5c-b201-6530e929ba8a",
   "metadata": {},
   "outputs": [],
   "source": [
    "## A function with output"
   ]
  },
  {
   "cell_type": "code",
   "execution_count": null,
   "id": "3fc0ef92-207c-4c95-92d2-4ae6c0ad843a",
   "metadata": {},
   "outputs": [],
   "source": [
    "def fib2(n):  # return Fibonacci series up to n\n",
    "    \"\"\"Return a list containing the Fibonacci series up to n.\"\"\"\n",
    "    result = []\n",
    "    a, b = 0, 1\n",
    "    while a < n:\n",
    "        result.append(a)    # see below\n",
    "        a, b = b, a+b\n",
    "    return result\n",
    "\n",
    "f100 = fib2(2000)    # call it\n",
    "f100           "
   ]
  },
  {
   "cell_type": "code",
   "execution_count": null,
   "id": "d3356df9-589f-45c7-afad-4507e9e5eb25",
   "metadata": {},
   "outputs": [],
   "source": [
    "## list.append() revisit"
   ]
  },
  {
   "cell_type": "code",
   "execution_count": null,
   "id": "abbb2ace-dc05-4064-944c-32326987d1db",
   "metadata": {},
   "outputs": [],
   "source": [
    "L1 = [1,2,3,4]\n",
    "L1.append(5)\n",
    "L1"
   ]
  },
  {
   "cell_type": "code",
   "execution_count": null,
   "id": "b8467615-c261-4b80-afd0-ada08bc30d0f",
   "metadata": {},
   "outputs": [],
   "source": [
    "## a user-defined function behaves like list.append()\n",
    "def append_user(L,a):\n",
    "    n=len(L)\n",
    "    L[n:]=[a]\n",
    "    \n",
    "L1=[1,2,3,4]\n",
    "append_user(L1,5)"
   ]
  },
  {
   "cell_type": "code",
   "execution_count": null,
   "id": "8cd30137-887d-474e-a5dd-ed649d46156e",
   "metadata": {},
   "outputs": [],
   "source": [
    "L1"
   ]
  },
  {
   "cell_type": "code",
   "execution_count": null,
   "id": "002b35a2-1aa1-4340-93b0-3be7fc836324",
   "metadata": {},
   "outputs": [],
   "source": [
    "n ## local variable"
   ]
  },
  {
   "cell_type": "code",
   "execution_count": null,
   "id": "42f0f998-d5cc-4b94-8133-0996d699e45a",
   "metadata": {},
   "outputs": [],
   "source": [
    "L ## local variable"
   ]
  },
  {
   "cell_type": "code",
   "execution_count": null,
   "id": "8fcc3de0-d684-40a6-b2f9-c1f690aac3a4",
   "metadata": {},
   "outputs": [],
   "source": [
    "## why append_elem doesn't need an output"
   ]
  },
  {
   "cell_type": "code",
   "execution_count": null,
   "id": "e1d6aba3-a139-4b36-8eaa-511510be1d0b",
   "metadata": {},
   "outputs": [],
   "source": [
    "def append_user(L,a):\n",
    "    n=len(L)\n",
    "    L[n:]=[a]\n",
    "    print(\"id(L)=\",id(L))\n",
    "\n",
    "L1=[1,2,3,4]\n",
    "print(\"id(L1)=\",id(L1))\n",
    "append_user(L1,5)  ## When the input is a mutable object, its address (not a copy) passes to the function"
   ]
  },
  {
   "cell_type": "code",
   "execution_count": null,
   "id": "350055aa-af79-4152-85d5-efc6b08d7587",
   "metadata": {},
   "outputs": [],
   "source": [
    "## why the following code doesn't work?"
   ]
  },
  {
   "cell_type": "code",
   "execution_count": null,
   "id": "c0538d03-c7d7-4c3e-939a-e69c97a1c753",
   "metadata": {},
   "outputs": [],
   "source": [
    "def append_user2(L,a):\n",
    "    L = L + [a]\n",
    "    \n",
    "L1=[1,2,3,4]\n",
    "append_user2(L1,5)"
   ]
  },
  {
   "cell_type": "code",
   "execution_count": null,
   "id": "643f9e32-71b6-4e64-a8ad-93bd4a0a7f75",
   "metadata": {},
   "outputs": [],
   "source": [
    "L1"
   ]
  },
  {
   "cell_type": "code",
   "execution_count": null,
   "id": "c42808ec-285b-48da-a99d-f74e7490cc57",
   "metadata": {},
   "outputs": [],
   "source": [
    "def append_user2(L,a):\n",
    "    print('Before,id(L)=',id(L))\n",
    "    L = L + [a]\n",
    "    print('After,id(L)=',id(L))\n",
    "        \n",
    "L1=[1,2,3,4]\n",
    "append_user2(L1,5)"
   ]
  },
  {
   "cell_type": "code",
   "execution_count": null,
   "id": "14fd65a2-a014-4c44-bad1-c705c6bc755b",
   "metadata": {},
   "outputs": [],
   "source": [
    "## Fix it!\n",
    "def append_user2(L,a):\n",
    "    print('Before,id(L)=',id(L))\n",
    "    L = L + [a]\n",
    "    print('After,id(L)=',id(L))\n",
    "    return(L)\n",
    "L1 = [1,2,3,4]\n",
    "L1 = append_user2(L1,5)\n",
    "L1"
   ]
  },
  {
   "cell_type": "code",
   "execution_count": null,
   "id": "86dbfbca-66c1-4b6b-992e-7c8a2f4c5e1c",
   "metadata": {},
   "outputs": [],
   "source": [
    "L1 = [1,2,3,4]\n",
    "id(L1)"
   ]
  },
  {
   "cell_type": "code",
   "execution_count": null,
   "id": "b6980583-00d3-44b2-8a41-a6feef14e8a6",
   "metadata": {},
   "outputs": [],
   "source": [
    "L1 = append_user2(L1,5)\n",
    "L1\n",
    "id(L1)"
   ]
  },
  {
   "cell_type": "markdown",
   "id": "154a95e6-3a46-4229-8785-357f86b81d23",
   "metadata": {},
   "source": [
    "## Arguments in functions"
   ]
  },
  {
   "cell_type": "code",
   "execution_count": null,
   "id": "38f7ac9d-4ec8-4050-80cd-8912f6cbc8ab",
   "metadata": {},
   "outputs": [],
   "source": [
    "## Default arguments"
   ]
  },
  {
   "cell_type": "code",
   "execution_count": null,
   "id": "32e394d1-695c-4980-a37b-be060cd422a5",
   "metadata": {},
   "outputs": [],
   "source": [
    "def ask_ok(prompt, retries=4, reminder='Please try again!'):\n",
    "    while True:\n",
    "        reply = input(prompt)\n",
    "        if reply in {'y', 'ye', 'yes'}:\n",
    "            return True\n",
    "        if reply in {'n', 'no', 'nop', 'nope'}:\n",
    "            return False\n",
    "        retries = retries - 1\n",
    "        if retries < 0:\n",
    "            raise ValueError('invalid user response')\n",
    "        print(reminder)\n",
    "\n",
    "ask_ok('Do you really want to quit?')"
   ]
  },
  {
   "cell_type": "code",
   "execution_count": null,
   "id": "9b28cb57-6c9e-41f6-8eac-dd56ebd0f60f",
   "metadata": {},
   "outputs": [],
   "source": [
    "ask_ok('OK to overwrite the file?', 2)"
   ]
  },
  {
   "cell_type": "code",
   "execution_count": null,
   "id": "f7149d10-0fdb-4ac8-923b-91b68f4416ef",
   "metadata": {},
   "outputs": [],
   "source": [
    "ask_ok('OK to overwrite the file?', 2, 'Come on, only yes or no!')"
   ]
  },
  {
   "cell_type": "code",
   "execution_count": null,
   "id": "47a9cc4e-0440-4d97-a490-b9e8619fb24a",
   "metadata": {},
   "outputs": [],
   "source": [
    "## Warnings: Using default values can be tricky. The default value is evaluated only once. "
   ]
  },
  {
   "cell_type": "code",
   "execution_count": null,
   "id": "596993c3-262e-47ae-ae2c-82a214a572ff",
   "metadata": {},
   "outputs": [],
   "source": [
    "def f(a, L=[]):\n",
    "    L.append(a)\n",
    "    return L\n",
    "\n",
    "print(f(1))\n",
    "print(f(2))\n",
    "print(f(3))\n"
   ]
  },
  {
   "cell_type": "code",
   "execution_count": null,
   "id": "f5434c16-12b8-41a7-ab48-f9a2823e3683",
   "metadata": {},
   "outputs": [],
   "source": [
    "def f(a, L=[]):\n",
    "    print(\"id(L)=\",id(L))\n",
    "    L.append(a)\n",
    "    return L"
   ]
  },
  {
   "cell_type": "code",
   "execution_count": null,
   "id": "e118f9ab-4f95-46ec-aeca-3ba7b1f95a03",
   "metadata": {},
   "outputs": [],
   "source": [
    "print(f(1))\n",
    "print(f(2))\n",
    "print(f(3))"
   ]
  },
  {
   "cell_type": "code",
   "execution_count": null,
   "id": "0fef0e0a-de67-4cd2-afa8-625d84f2867f",
   "metadata": {},
   "outputs": [],
   "source": [
    "## positional and keyword arguments"
   ]
  },
  {
   "cell_type": "code",
   "execution_count": null,
   "id": "f370157e-0079-4a49-ae62-6aa65317b642",
   "metadata": {},
   "outputs": [],
   "source": [
    "def parrot(voltage, state='a stiff', action='voom', category='Norwegian Blue'):\n",
    "    print(\"-- This parrot wouldn't\", action, end=' ')\n",
    "    print(\"if you put\", voltage, \"volts through it.\")\n",
    "    print(\"-- Lovely plumage, the\", category)\n",
    "    print(\"-- It's\", state, \"!\")"
   ]
  },
  {
   "cell_type": "code",
   "execution_count": null,
   "id": "a4fe971c-588f-40a7-bff4-02639b63d2ee",
   "metadata": {},
   "outputs": [],
   "source": [
    "parrot(1000)                                          # 1 positional argument"
   ]
  },
  {
   "cell_type": "code",
   "execution_count": null,
   "id": "d1de97bd-8824-4e9c-bd6d-3806a7e66138",
   "metadata": {},
   "outputs": [],
   "source": [
    "parrot(voltage=1000)                                  # 1 keyword argument"
   ]
  },
  {
   "cell_type": "code",
   "execution_count": null,
   "id": "e2231685-0aa3-48df-ada4-d0a51badfdc4",
   "metadata": {},
   "outputs": [],
   "source": [
    "parrot(voltage=1000000, action='VOOOOOM')             # 2 keyword arguments"
   ]
  },
  {
   "cell_type": "code",
   "execution_count": null,
   "id": "b77cfc0a-eb35-4a09-9925-56a9a99933bd",
   "metadata": {},
   "outputs": [],
   "source": [
    "parrot(action='VOOOOOM', voltage=1000000)             # 2 keyword arguments"
   ]
  },
  {
   "cell_type": "code",
   "execution_count": null,
   "id": "eb70adcc-e3a3-41a0-89db-e79f1de870d7",
   "metadata": {},
   "outputs": [],
   "source": [
    "parrot('a million', 'bereft of life', 'jump')         # 3 positional arguments"
   ]
  },
  {
   "cell_type": "code",
   "execution_count": null,
   "id": "de2d41e0-ef82-4d1a-911c-bb2f9a4a4162",
   "metadata": {},
   "outputs": [],
   "source": [
    "parrot('a thousand', state='pushing up the daisies')  # 1 positional, 1 keyword"
   ]
  },
  {
   "cell_type": "code",
   "execution_count": null,
   "id": "b0b7a032-1ce2-4a3b-9066-8781ffe0defd",
   "metadata": {},
   "outputs": [],
   "source": [
    "## not accepted\n",
    "parrot(voltage=5.0, 'dead')"
   ]
  },
  {
   "cell_type": "code",
   "execution_count": null,
   "id": "2bb8a4b7-b08c-4d08-ac5a-034b9c52a302",
   "metadata": {},
   "outputs": [],
   "source": [
    "## correct\n",
    "parrot(5.0, 'dead')"
   ]
  },
  {
   "cell_type": "code",
   "execution_count": null,
   "id": "adbf82b3-b52d-4717-a739-bf01de473343",
   "metadata": {},
   "outputs": [],
   "source": [
    "## Arguments can be forced to take positional or keyword only\n",
    "def combined_example(pos_only, /, standard, *, kwd_only):\n",
    "    print(pos_only, standard, kwd_only)\n",
    "    y"
   ]
  },
  {
   "cell_type": "code",
   "execution_count": null,
   "id": "76cf5912-6dc7-444c-99fc-e850f7c04311",
   "metadata": {},
   "outputs": [],
   "source": [
    "combined_example(1, 2, kwd_only=3)"
   ]
  },
  {
   "cell_type": "code",
   "execution_count": null,
   "id": "ab611b9f-53fc-4c00-bd57-c88e4d611df4",
   "metadata": {},
   "outputs": [],
   "source": [
    "combined_example(1, standard=2, kwd_only=3)"
   ]
  },
  {
   "cell_type": "code",
   "execution_count": null,
   "id": "4003e2b0-450f-4186-b6f6-1c1fb61cd64c",
   "metadata": {},
   "outputs": [],
   "source": [
    "## incorrect\n",
    "combined_example(1, 2, 3)"
   ]
  },
  {
   "cell_type": "code",
   "execution_count": null,
   "id": "8441ee36-910c-41dd-8f0a-1834af225573",
   "metadata": {},
   "outputs": [],
   "source": [
    "## incorrect\n",
    "combined_example(pos_only=1, standard=2, kwd_only=3)"
   ]
  },
  {
   "cell_type": "code",
   "execution_count": null,
   "id": "11d9ac98-9948-479b-95ce-efb1778a96be",
   "metadata": {},
   "outputs": [],
   "source": [
    "## Allow flexible number of arguments by using \"*\""
   ]
  },
  {
   "cell_type": "code",
   "execution_count": null,
   "id": "1f6840be-015a-479d-a4ec-ffeb1f8e52c1",
   "metadata": {},
   "outputs": [],
   "source": [
    "def cheeseshop(kind, *arguments):\n",
    "    print(\"-- Do you have any\", kind, \"?\")\n",
    "    print(\"-- I'm sorry, we're all out of\", kind)\n",
    "    for arg in arguments:\n",
    "        print(arg)\n",
    "        "
   ]
  },
  {
   "cell_type": "code",
   "execution_count": null,
   "id": "1d380521-7c3d-49fe-8115-b834973edf14",
   "metadata": {},
   "outputs": [],
   "source": [
    "cheeseshop(\"Limburger\", \"It's very runny, sir.\",\n",
    "           \"It's really very, VERY runny, sir.\")"
   ]
  },
  {
   "cell_type": "code",
   "execution_count": null,
   "id": "5f54c334-f900-44ad-9d77-b0641e898500",
   "metadata": {},
   "outputs": [],
   "source": [
    "def cheeseshop(kind, *arguments):\n",
    "    print(\"-- Do you have any\", kind, \"?\")\n",
    "    print(\"-- I'm sorry, we're all out of\", kind)\n",
    "    print(arguments)\n",
    "    for arg in arguments:\n",
    "        print(arg)\n",
    "    print(arguments)\n",
    "    print(\"type of arguments=\",type(arguments))  \n",
    "\n",
    "cheeseshop(\"Limburger\", \"It's very runny, sir.\",\n",
    "           \"It's really very, VERY runny, sir.\")"
   ]
  },
  {
   "cell_type": "markdown",
   "id": "f9bbb592-02a6-4ffd-b56c-62d7827513fb",
   "metadata": {},
   "source": [
    "# Data Structures"
   ]
  },
  {
   "cell_type": "markdown",
   "id": "ced7985f-1ac1-4b35-85ae-7c4168a4e0e4",
   "metadata": {},
   "source": [
    "## More on Lists"
   ]
  },
  {
   "cell_type": "code",
   "execution_count": null,
   "id": "f59c2f5e-7df0-4ba7-90a6-4656b21cdd5d",
   "metadata": {},
   "outputs": [],
   "source": [
    "fruits = ['orange', 'apple', 'pear', 'banana', 'kiwi', 'apple', 'banana']\n",
    "fruits.count('apple')"
   ]
  },
  {
   "cell_type": "code",
   "execution_count": null,
   "id": "3787d1ca-a70f-4e14-9f63-501b47855bc9",
   "metadata": {},
   "outputs": [],
   "source": [
    "fruits.index('banana')"
   ]
  },
  {
   "cell_type": "code",
   "execution_count": null,
   "id": "411bb56b-b9be-4ad1-9a63-b83fb68215b7",
   "metadata": {},
   "outputs": [],
   "source": [
    "fruits.index('banana', 4)  # Find next banana starting at position 4"
   ]
  },
  {
   "cell_type": "code",
   "execution_count": null,
   "id": "f14f9bf5-0e60-461e-bdbd-19af069319e2",
   "metadata": {},
   "outputs": [],
   "source": [
    "fruits.reverse()\n",
    "fruits"
   ]
  },
  {
   "cell_type": "code",
   "execution_count": null,
   "id": "60f0d8cb-3c6e-4d8b-8f5a-d6d2b95b2102",
   "metadata": {},
   "outputs": [],
   "source": [
    "fruits.append('grape')\n",
    "fruits"
   ]
  },
  {
   "cell_type": "code",
   "execution_count": null,
   "id": "bffcbe18-7e8d-487c-9964-614ffa8e9eca",
   "metadata": {},
   "outputs": [],
   "source": [
    "fruits.sort()\n",
    "fruits"
   ]
  },
  {
   "cell_type": "code",
   "execution_count": null,
   "id": "5e9f5c61-fb5a-4cb6-a3c0-689b3132acb5",
   "metadata": {},
   "outputs": [],
   "source": [
    "fruits.pop()"
   ]
  },
  {
   "cell_type": "code",
   "execution_count": null,
   "id": "86271999-9989-4cd7-90e2-2bcb31ad83e4",
   "metadata": {},
   "outputs": [],
   "source": [
    "fruits"
   ]
  },
  {
   "cell_type": "code",
   "execution_count": null,
   "id": "7839c55e-fbe5-4a9a-809d-80ed027f2a09",
   "metadata": {},
   "outputs": [],
   "source": [
    "## The del statement\n",
    "a = [-1, 1] \n",
    "del a # completely delete a"
   ]
  },
  {
   "cell_type": "code",
   "execution_count": null,
   "id": "be591ca9-ebb5-4f87-a234-7535825d70ed",
   "metadata": {},
   "outputs": [],
   "source": [
    "## List comprehensions: provide a concise way to create lists\n",
    "squares = [x**2 for x in range(10)]\n",
    "squares"
   ]
  },
  {
   "cell_type": "code",
   "execution_count": null,
   "id": "192d1231-f3ce-4080-840c-e4f7d150a2c0",
   "metadata": {},
   "outputs": [],
   "source": [
    "## Nested List Comprehensions"
   ]
  },
  {
   "cell_type": "code",
   "execution_count": null,
   "id": "59b58d89-ed22-4636-a245-1a281544d476",
   "metadata": {},
   "outputs": [],
   "source": [
    "matrix = [\n",
    "    [1, 2, 3, 4],\n",
    "    [5, 6, 7, 8],\n",
    "    [9, 10, 11, 12],\n",
    "]\n"
   ]
  },
  {
   "cell_type": "code",
   "execution_count": null,
   "id": "bcc38d29-a205-4cae-afc4-2f31d8ab0e66",
   "metadata": {},
   "outputs": [],
   "source": [
    "[[row[i] for row in matrix] for i in range(4)]"
   ]
  },
  {
   "cell_type": "code",
   "execution_count": null,
   "id": "f29e7efa-5d47-4799-9042-671ec2364a0d",
   "metadata": {},
   "outputs": [],
   "source": [
    "## The above statement is same as \n",
    "transposed = []\n",
    "for i in range(4):\n",
    "    transposed.append([row[i] for row in matrix])\n",
    "\n",
    "transposed"
   ]
  },
  {
   "cell_type": "markdown",
   "id": "1a798e01-3cc8-447e-af91-b58738dac06c",
   "metadata": {},
   "source": [
    "## Tuples "
   ]
  },
  {
   "cell_type": "code",
   "execution_count": null,
   "id": "d10d4077-f909-477f-9432-382f45b95ac0",
   "metadata": {},
   "outputs": [],
   "source": [
    "t = (12345, 54321, 'hello!')\n",
    "t"
   ]
  },
  {
   "cell_type": "code",
   "execution_count": null,
   "id": "1265fc0c-568e-4019-87c6-7d7dd9fca11b",
   "metadata": {},
   "outputs": [],
   "source": [
    "t = 12345, 54321, 'hello!'\n",
    "t"
   ]
  },
  {
   "cell_type": "code",
   "execution_count": null,
   "id": "d598eadc-96fe-4954-9156-39f002c7d572",
   "metadata": {},
   "outputs": [],
   "source": [
    "t[0]"
   ]
  },
  {
   "cell_type": "code",
   "execution_count": null,
   "id": "6d17168f-c488-4368-8510-b6934a1aae25",
   "metadata": {},
   "outputs": [],
   "source": [
    "# tuples are immutable\n",
    "# but they can contain mutable objects:\n",
    "v = ([1, 2, 3], [3, 2, 1]) "
   ]
  },
  {
   "cell_type": "code",
   "execution_count": null,
   "id": "dac48106-c746-4279-9926-c67825c1e733",
   "metadata": {},
   "outputs": [],
   "source": [
    "x, y, z = t # separate elements"
   ]
  },
  {
   "cell_type": "code",
   "execution_count": null,
   "id": "f17a641a-1e16-4af8-bb28-cce7fb1a392e",
   "metadata": {},
   "outputs": [],
   "source": [
    "x"
   ]
  },
  {
   "cell_type": "code",
   "execution_count": null,
   "id": "08282828-af73-4793-b81d-0bc6561f175c",
   "metadata": {},
   "outputs": [],
   "source": [
    "y"
   ]
  },
  {
   "cell_type": "code",
   "execution_count": null,
   "id": "000c193a-9a21-4c79-a966-874d2dfd45d3",
   "metadata": {},
   "outputs": [],
   "source": [
    "z"
   ]
  },
  {
   "cell_type": "code",
   "execution_count": null,
   "id": "2a647bcb-ad34-4e6b-9b65-0958298a3fac",
   "metadata": {},
   "outputs": [],
   "source": [
    "## A special problem is the construction of tuples containing 0 or 1 items\n",
    "singleton = ('hello')\n",
    "len(singleton)\n"
   ]
  },
  {
   "cell_type": "code",
   "execution_count": null,
   "id": "c2b639c3-a1a2-4bf8-bdb1-14fcd4d8c15e",
   "metadata": {},
   "outputs": [],
   "source": [
    "singleton"
   ]
  },
  {
   "cell_type": "code",
   "execution_count": null,
   "id": "11238b09-f63f-4c84-8bd6-fb41c27c0236",
   "metadata": {},
   "outputs": [],
   "source": [
    "singleton = ('hello',)\n",
    "len(singleton)\n"
   ]
  },
  {
   "cell_type": "code",
   "execution_count": null,
   "id": "28734966-bded-47e8-8436-d74c0b01f06a",
   "metadata": {},
   "outputs": [],
   "source": [
    "singleton"
   ]
  },
  {
   "cell_type": "code",
   "execution_count": null,
   "id": "7080c6c3-3e81-456f-9bbb-b5633e59dd84",
   "metadata": {},
   "outputs": [],
   "source": [
    "singleton=['hello'] ## list doesn't have this issue\n",
    "singleton"
   ]
  },
  {
   "cell_type": "markdown",
   "id": "b524d85f-4abb-4833-b322-eebdce0e8364",
   "metadata": {},
   "source": [
    "## Dictionaries"
   ]
  },
  {
   "cell_type": "code",
   "execution_count": null,
   "id": "ea91d90b-f3c7-4a09-b187-a557489a6724",
   "metadata": {},
   "outputs": [],
   "source": [
    "## It is best to think of a dictionary as a set of key: value pairs, with the requirement that the keys are unique (within one dictionary). "
   ]
  },
  {
   "cell_type": "code",
   "execution_count": null,
   "id": "c8b81cbb-3c1f-41ed-8413-d8a2e3e68c43",
   "metadata": {},
   "outputs": [],
   "source": [
    "tel = {'jack': 4098, 'sape': 4139}\n",
    "tel['guido'] = 4127\n",
    "tel"
   ]
  },
  {
   "cell_type": "code",
   "execution_count": null,
   "id": "5fd2d0df-d977-46c1-a860-0f801756ff1d",
   "metadata": {},
   "outputs": [],
   "source": [
    "del tel['sape']\n",
    "tel['irv'] = 4127\n",
    "tel"
   ]
  },
  {
   "cell_type": "code",
   "execution_count": null,
   "id": "353f16b5-2c51-4884-979f-594e78b710ff",
   "metadata": {},
   "outputs": [],
   "source": [
    "list(tel) # returns a list of all the keys used in the dictionary"
   ]
  },
  {
   "cell_type": "code",
   "execution_count": null,
   "id": "2eb4dce7-29f2-43b6-8039-7b34dc2bc865",
   "metadata": {},
   "outputs": [],
   "source": [
    "sorted(tel)"
   ]
  },
  {
   "cell_type": "code",
   "execution_count": null,
   "id": "e1d2bbd6-8dc3-4d5e-a469-07f103dcf66f",
   "metadata": {},
   "outputs": [],
   "source": [
    "dict([('sape', 4139), ('guido', 4127), ('jack', 4098)])"
   ]
  },
  {
   "cell_type": "code",
   "execution_count": null,
   "id": "9b25069a-26e2-4b97-9cc7-f687d6a79b1d",
   "metadata": {},
   "outputs": [],
   "source": [
    "## dict comprehensions\n",
    "{x: x**2 for x in (2, 4, 6)}"
   ]
  },
  {
   "cell_type": "code",
   "execution_count": null,
   "id": "49ad31f7-b75a-40ca-a5ee-33500712594f",
   "metadata": {},
   "outputs": [],
   "source": [
    "## More on \"arguments\" in a function\n",
    "## When a final formal parameter of the form **name is present, \n",
    "## it receives a dictionary containing all keyword arguments except for those corresponding to a formal parameter."
   ]
  },
  {
   "cell_type": "code",
   "execution_count": null,
   "id": "c5c402cb-f980-4d38-91c4-b2a50ec56ff1",
   "metadata": {},
   "outputs": [],
   "source": [
    "def cheeseshop(kind, *arguments, **keywords):\n",
    "    print(\"-- Do you have any\", kind, \"?\")\n",
    "    print(\"-- I'm sorry, we're all out of\", kind)\n",
    "    for arg in arguments:\n",
    "        print(arg)\n",
    "    print(\"-\" * 40)\n",
    "    for kw in keywords:\n",
    "        print(kw, \":\", keywords[kw])\n",
    "\n",
    "cheeseshop(\"Limburger\", \"It's very runny, sir.\",\n",
    "           \"It's really very, VERY runny, sir.\",\n",
    "           shopkeeper=\"Michael Palin\",\n",
    "           client=\"John Cleese\",\n",
    "           sketch=\"Cheese Shop Sketch\")"
   ]
  },
  {
   "cell_type": "markdown",
   "id": "802eea2c-dfd7-4b97-a204-172ed3be2f26",
   "metadata": {},
   "source": [
    "## More on Looping Techniques"
   ]
  },
  {
   "cell_type": "code",
   "execution_count": null,
   "id": "85e1403b-7bee-45d8-ae6b-1e8a0f0f60c0",
   "metadata": {},
   "outputs": [],
   "source": [
    "tel = {'jack': 4098, 'sape': 4139}\n",
    "for kw in tel:\n",
    "    print(tel[kw])"
   ]
  },
  {
   "cell_type": "code",
   "execution_count": null,
   "id": "0ccbd5f0-cd9b-42bb-ba36-97f6aab74515",
   "metadata": {},
   "outputs": [],
   "source": [
    "knights = {'gallahad': 'the pure', 'robin': 'the brave'}\n",
    "for k, v in knights.items():\n",
    "    print(k, v)\n"
   ]
  },
  {
   "cell_type": "code",
   "execution_count": null,
   "id": "a62ad825-99a4-4a08-b554-126e16089168",
   "metadata": {},
   "outputs": [],
   "source": [
    "knights.items()"
   ]
  },
  {
   "cell_type": "code",
   "execution_count": null,
   "id": "180da448-1df1-467c-9e2a-4b9d1d2e9cdc",
   "metadata": {},
   "outputs": [],
   "source": [
    "## almost the same as:\n",
    "temp = [('gallahad', 'the pure'), ('robin', 'the brave')]\n",
    "for k, v in temp:\n",
    "    print(k, v)\n"
   ]
  },
  {
   "cell_type": "code",
   "execution_count": null,
   "id": "b4148603-c981-4e27-bb5b-a260cb4e92b2",
   "metadata": {},
   "outputs": [],
   "source": [
    "for i, v in enumerate(['tic', 'tac', 'toe']):  ## the position index and corresponding value can be retrieved at the same time using the enumerate() function\n",
    "    print(i, v)\n",
    "    "
   ]
  },
  {
   "cell_type": "code",
   "execution_count": null,
   "id": "a7b6418c-46db-436f-bf4a-1bec2f77b994",
   "metadata": {},
   "outputs": [],
   "source": [
    "## zip() function"
   ]
  },
  {
   "cell_type": "code",
   "execution_count": null,
   "id": "99b026b8-488c-4ce1-86d8-36570b0796da",
   "metadata": {},
   "outputs": [],
   "source": [
    "questions = ['name', 'quest', 'favorite color'] \n",
    "answers = ['lancelot', 'the holy grail', 'blue']\n",
    "for q, a in zip(questions, answers):\n",
    "    print(q,a)\n"
   ]
  }
 ],
 "metadata": {
  "kernelspec": {
   "display_name": "Python 3 (ipykernel)",
   "language": "python",
   "name": "python3"
  },
  "language_info": {
   "codemirror_mode": {
    "name": "ipython",
    "version": 3
   },
   "file_extension": ".py",
   "mimetype": "text/x-python",
   "name": "python",
   "nbconvert_exporter": "python",
   "pygments_lexer": "ipython3",
   "version": "3.10.13"
  }
 },
 "nbformat": 4,
 "nbformat_minor": 5
}
