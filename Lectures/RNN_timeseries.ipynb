{
 "cells": [
  {
   "cell_type": "markdown",
   "id": "970d5679-2456-493f-ba38-4a0a9fad5116",
   "metadata": {},
   "source": [
    "## A temperature-forecasting example"
   ]
  },
  {
   "cell_type": "markdown",
   "id": "5a6b7dcb-08bc-44c4-be59-dcd4f82eeb6a",
   "metadata": {},
   "source": [
    "**Inspecting the data of the Jena weather dataset**"
   ]
  },
  {
   "cell_type": "code",
   "execution_count": null,
   "id": "a4c437db-eb28-477e-9c1e-e4c2ae9da940",
   "metadata": {},
   "outputs": [],
   "source": [
    "import pandas as pd\n",
    "\n",
    "climate_data = pd.read_csv(\"./Lectures/jena_climate_2009_2016.csv\")\n"
   ]
  },
  {
   "cell_type": "code",
   "execution_count": null,
   "id": "7f97cbdb-027a-454a-940d-b9a8fd4cd0f6",
   "metadata": {},
   "outputs": [],
   "source": [
    "climate_data.head()"
   ]
  },
  {
   "cell_type": "code",
   "execution_count": null,
   "id": "bcfbde9a-4202-4d9f-bfc0-83d1ac8b1abf",
   "metadata": {},
   "outputs": [],
   "source": [
    "climate_data_array = climate_data.to_numpy()"
   ]
  },
  {
   "cell_type": "code",
   "execution_count": null,
   "id": "36dc99da-73ba-4ab6-89dc-9325557b4e7f",
   "metadata": {},
   "outputs": [],
   "source": [
    "climate_data_array[:,0]"
   ]
  },
  {
   "cell_type": "code",
   "execution_count": null,
   "id": "be52924a-c7e6-40b0-8d9c-e4046551ab0f",
   "metadata": {},
   "outputs": [],
   "source": [
    "climate_data_array[:,1]"
   ]
  },
  {
   "cell_type": "code",
   "execution_count": null,
   "id": "5f889867-f8fc-48b3-903c-5a58d42971c9",
   "metadata": {},
   "outputs": [],
   "source": [
    "raw_data = climate_data_array[:,1:]"
   ]
  },
  {
   "cell_type": "code",
   "execution_count": null,
   "id": "fa1f3d0e-7f61-4d6d-863b-36f5b9afb302",
   "metadata": {},
   "outputs": [],
   "source": [
    "raw_data[0:10,0:10]"
   ]
  },
  {
   "cell_type": "code",
   "execution_count": null,
   "id": "4c5ea5fd-eff7-4ac2-b1a0-c04a807b1742",
   "metadata": {},
   "outputs": [],
   "source": [
    "raw_data = raw_data.astype(\"float64\")"
   ]
  },
  {
   "cell_type": "code",
   "execution_count": null,
   "id": "227a038e-89dd-4e45-931b-02a996b4e3c8",
   "metadata": {},
   "outputs": [],
   "source": [
    "raw_data[0:10,0:10]"
   ]
  },
  {
   "cell_type": "code",
   "execution_count": null,
   "id": "684f6028-1a6e-47ce-8433-773a8ca2be6d",
   "metadata": {},
   "outputs": [],
   "source": [
    "raw_data.shape"
   ]
  },
  {
   "cell_type": "code",
   "execution_count": null,
   "id": "268f5b23-601f-41bf-96d4-f1b83c8b975c",
   "metadata": {},
   "outputs": [],
   "source": [
    "raw_data.dtype"
   ]
  },
  {
   "cell_type": "code",
   "execution_count": null,
   "id": "ded1c65e-ccf9-4f23-ae15-6800f27f4a04",
   "metadata": {},
   "outputs": [],
   "source": [
    "import copy\n",
    "temperature = copy.deepcopy(raw_data[:,1])\n"
   ]
  },
  {
   "cell_type": "code",
   "execution_count": null,
   "id": "398b8423-d380-40f1-bbba-4696613f123c",
   "metadata": {},
   "outputs": [],
   "source": [
    "temperature.shape"
   ]
  },
  {
   "cell_type": "code",
   "execution_count": null,
   "id": "4f6797c3-47a0-4273-8524-2e709b75eb44",
   "metadata": {},
   "outputs": [],
   "source": [
    "temperature[0:10]"
   ]
  },
  {
   "cell_type": "markdown",
   "id": "40acbe81-f189-4aed-8890-6ed336fd7c89",
   "metadata": {},
   "source": [
    "**Plotting the temperature timeseries**"
   ]
  },
  {
   "cell_type": "code",
   "execution_count": null,
   "id": "ecd2979e-15a4-4c4d-b72d-c645c68060f6",
   "metadata": {},
   "outputs": [],
   "source": [
    "from matplotlib import pyplot as plt\n",
    "plt.plot(range(len(temperature)), temperature)"
   ]
  },
  {
   "cell_type": "markdown",
   "id": "638548b9-b674-48c7-ba61-e89318be3ea3",
   "metadata": {},
   "source": [
    "**Plotting the first 10 days of the temperature timeseries**"
   ]
  },
  {
   "cell_type": "code",
   "execution_count": null,
   "id": "bbab8602-2a60-4eb6-bc00-42ccf09c8834",
   "metadata": {},
   "outputs": [],
   "source": [
    "plt.plot(range(1440), temperature[:1440])"
   ]
  },
  {
   "cell_type": "markdown",
   "id": "7bac9392-35d6-4307-925f-ee16a674b99c",
   "metadata": {},
   "source": [
    "**Computing the number of samples we'll use for each data split**"
   ]
  },
  {
   "cell_type": "code",
   "execution_count": null,
   "id": "45c07ea7-0456-4916-9323-15a16081e3a8",
   "metadata": {},
   "outputs": [],
   "source": [
    "num_train_samples = int(0.5 * len(raw_data))\n",
    "num_val_samples = int(0.25 * len(raw_data))\n",
    "num_test_samples = len(raw_data) - num_train_samples - num_val_samples\n",
    "print(\"num_train_samples:\", num_train_samples)\n",
    "print(\"num_val_samples:\", num_val_samples)\n",
    "print(\"num_test_samples:\", num_test_samples)"
   ]
  },
  {
   "cell_type": "markdown",
   "id": "da457cf8-b86e-4ac4-a6b1-21be4a5e7f9a",
   "metadata": {},
   "source": [
    "### Preparing the data"
   ]
  },
  {
   "cell_type": "markdown",
   "id": "ff9efdd1-5b25-4179-ab5a-d1785605e0dd",
   "metadata": {},
   "source": [
    "**Normalizing the data**"
   ]
  },
  {
   "cell_type": "code",
   "execution_count": null,
   "id": "216c955a-0273-400b-b55d-32924d6c4688",
   "metadata": {},
   "outputs": [],
   "source": [
    "mean = raw_data[:num_train_samples].mean(axis=0) ## Only use training data\n",
    "raw_data -= mean ## Apply to all data points\n",
    "std = raw_data[:num_train_samples].std(axis=0) ## Only use training data\n",
    "raw_data /= std ## Apply to all data points"
   ]
  },
  {
   "cell_type": "markdown",
   "id": "3ea2a54f-3cac-4d3d-93a3-9ff2c3d9889f",
   "metadata": {},
   "source": [
    "**Understanding timeseries_dataset_from_array**"
   ]
  },
  {
   "cell_type": "code",
   "execution_count": null,
   "id": "f9cf6e4c-a595-414c-9c66-60144dd8c3b0",
   "metadata": {},
   "outputs": [],
   "source": [
    "import numpy as np\n",
    "from tensorflow import keras\n",
    "int_sequence = np.arange(10)\n",
    "dummy_dataset = keras.utils.timeseries_dataset_from_array(\n",
    "    data=int_sequence[:-3],\n",
    "    targets=int_sequence[3:],\n",
    "    sequence_length=3,\n",
    "    batch_size=2,\n",
    ")\n",
    "\n",
    "for inputs, targets in dummy_dataset:\n",
    "    for i in range(inputs.shape[0]):\n",
    "        print([int(x) for x in inputs[i]], int(targets[i]))"
   ]
  },
  {
   "cell_type": "code",
   "execution_count": null,
   "id": "97277566-8294-40b5-91b2-a5893b37b5e4",
   "metadata": {},
   "outputs": [],
   "source": [
    "int_sequence[:-3]"
   ]
  },
  {
   "cell_type": "code",
   "execution_count": null,
   "id": "815f0296-0b80-4746-be0c-1dbedb823969",
   "metadata": {},
   "outputs": [],
   "source": [
    "int_sequence[3:]"
   ]
  },
  {
   "cell_type": "code",
   "execution_count": null,
   "id": "a9d8b42b-5004-4cd2-ad81-2d56293bd0d8",
   "metadata": {},
   "outputs": [],
   "source": [
    "for inputs, targets in dummy_dataset:\n",
    "    print(inputs)\n",
    "    print(targets)"
   ]
  },
  {
   "cell_type": "code",
   "execution_count": null,
   "id": "8a297772-731c-4b0c-8814-f5d0a0a96f1f",
   "metadata": {},
   "outputs": [],
   "source": [
    "for inputs, targets in dummy_dataset:\n",
    "    print(inputs)\n",
    "    print(targets)\n",
    "    break"
   ]
  },
  {
   "cell_type": "markdown",
   "id": "2f0769a1-581f-4540-8329-c955ebc1440b",
   "metadata": {},
   "source": [
    "**More explanantion**"
   ]
  },
  {
   "cell_type": "code",
   "execution_count": null,
   "id": "42543a2b-3197-4528-a67d-c1645fb4cbf7",
   "metadata": {},
   "outputs": [],
   "source": [
    "import numpy as np\n",
    "from tensorflow import keras\n",
    "int_sequence = np.arange(10)\n",
    "dummy_dataset = keras.utils.timeseries_dataset_from_array(\n",
    "    data=int_sequence[:-3],\n",
    "    targets=int_sequence[3:],\n",
    "    sequence_length=3,\n",
    "    shuffle=False,\n",
    "    batch_size=100, ##Then there is only one batch\n",
    ")\n",
    "\n",
    "for inputs, targets in dummy_dataset:\n",
    "    print(inputs)\n",
    "    print(targets)\n"
   ]
  },
  {
   "cell_type": "markdown",
   "id": "fefa06ad-f2b6-4607-87bf-6410fbed6adf",
   "metadata": {},
   "source": [
    "**Shuffle**"
   ]
  },
  {
   "cell_type": "code",
   "execution_count": null,
   "id": "bcd9896b-b78b-479c-9bbd-06830b416c68",
   "metadata": {},
   "outputs": [],
   "source": [
    "import numpy as np\n",
    "from tensorflow import keras\n",
    "int_sequence = np.arange(10)\n",
    "dummy_dataset = keras.utils.timeseries_dataset_from_array(\n",
    "    data=int_sequence[:-3],\n",
    "    targets=int_sequence[3:],\n",
    "    sequence_length=3,\n",
    "    shuffle=True,\n",
    "    batch_size=100, ##Then there is only one batch\n",
    ")\n",
    "\n",
    "for inputs, targets in dummy_dataset:\n",
    "    print(inputs)\n",
    "    print(targets)"
   ]
  },
  {
   "cell_type": "markdown",
   "id": "e3e9872f-e846-49bd-99cd-6b6e9b0b89b2",
   "metadata": {},
   "source": [
    "**Instantiating datasets for training, validation, and testing**"
   ]
  },
  {
   "cell_type": "code",
   "execution_count": null,
   "id": "1fc30724-6bd7-42d3-8443-d41ac9eb2402",
   "metadata": {},
   "outputs": [],
   "source": [
    "sampling_rate = 6\n",
    "sequence_length = 120\n",
    "delay = sampling_rate * (sequence_length + 24 - 1)  ## I have a small question myself here, should we -1?\n",
    "batch_size = 256 * 16"
   ]
  },
  {
   "cell_type": "code",
   "execution_count": null,
   "id": "2ffe859a",
   "metadata": {},
   "outputs": [],
   "source": [
    "raw_data.shape"
   ]
  },
  {
   "cell_type": "code",
   "execution_count": null,
   "id": "3ac24cc2",
   "metadata": {},
   "outputs": [],
   "source": [
    "temperature.shape"
   ]
  },
  {
   "cell_type": "code",
   "execution_count": null,
   "id": "2bf27587-1c60-4999-afbc-aa7591082ca6",
   "metadata": {},
   "outputs": [],
   "source": [
    "train_dataset = keras.utils.timeseries_dataset_from_array(\n",
    "    raw_data[:-delay],\n",
    "    targets=temperature[delay:],\n",
    "    sampling_rate=sampling_rate,\n",
    "    sequence_length=sequence_length,\n",
    "    shuffle=True,\n",
    "    batch_size=batch_size,\n",
    "    start_index=0,\n",
    "    end_index=num_train_samples)\n",
    "\n",
    "val_dataset = keras.utils.timeseries_dataset_from_array(\n",
    "    raw_data[:-delay],\n",
    "    targets=temperature[delay:],\n",
    "    sampling_rate=sampling_rate,\n",
    "    sequence_length=sequence_length,\n",
    "    shuffle=True,\n",
    "    batch_size=batch_size,\n",
    "    start_index=num_train_samples,\n",
    "    end_index=num_train_samples + num_val_samples)\n",
    "\n",
    "test_dataset = keras.utils.timeseries_dataset_from_array(\n",
    "    raw_data[:-delay],\n",
    "    targets=temperature[delay:],\n",
    "    sampling_rate=sampling_rate,\n",
    "    sequence_length=sequence_length,\n",
    "    shuffle=True,\n",
    "    batch_size=batch_size,\n",
    "    start_index=num_train_samples + num_val_samples)"
   ]
  },
  {
   "cell_type": "code",
   "execution_count": null,
   "id": "ba1f527f-5c1c-454b-becb-1e87a91b6603",
   "metadata": {},
   "outputs": [],
   "source": [
    "for samples, targets in train_dataset:\n",
    "    print(\"samples shape:\", samples.shape)\n",
    "    print(\"targets shape:\", targets.shape)\n",
    "    break"
   ]
  },
  {
   "cell_type": "code",
   "execution_count": null,
   "id": "64f7892c-c5c0-407a-a00c-307b4455fa9d",
   "metadata": {},
   "outputs": [],
   "source": [
    "## Features: A batch contains 256 data points, each is a length-120 sequence, with 14 variables (including temperature)"
   ]
  },
  {
   "cell_type": "markdown",
   "id": "2b2a2aa9-adb9-4931-ab43-f52712868d19",
   "metadata": {},
   "source": [
    "### A common-sense, non-machine-learning baseline"
   ]
  },
  {
   "cell_type": "markdown",
   "id": "47bb643c-c2e3-4650-960b-82383d96af71",
   "metadata": {},
   "source": [
    "**Computing the common-sense baseline MAE**"
   ]
  },
  {
   "cell_type": "code",
   "execution_count": null,
   "id": "3de38eee-8816-4b8b-9cc5-b27e1360724a",
   "metadata": {},
   "outputs": [],
   "source": [
    "temperature[0:10]"
   ]
  },
  {
   "cell_type": "code",
   "execution_count": null,
   "id": "e687dac5-a517-4c53-96ec-25446a1897fa",
   "metadata": {},
   "outputs": [],
   "source": [
    "def evaluate_naive_method(dataset):\n",
    "    total_abs_err = 0.\n",
    "    samples_seen = 0\n",
    "    for samples, targets in dataset:\n",
    "        preds = samples[:, -1, 1] * std[1] + mean[1]  ## last one in the sequence *1 [1] is the temperature\n",
    "        total_abs_err += np.sum(np.abs(preds - targets))\n",
    "        samples_seen += samples.shape[0]\n",
    "    return total_abs_err / samples_seen\n",
    "\n",
    "print(f\"Validation MAE: {evaluate_naive_method(val_dataset):.2f}\")\n",
    "\n",
    "baseline_MAE = evaluate_naive_method(test_dataset)\n",
    "print(f\"Test MAE: {baseline_MAE:.2f}\")\n",
    "\n"
   ]
  },
  {
   "cell_type": "markdown",
   "id": "81b0eaa8-627f-4653-ac49-b66f11a84e1d",
   "metadata": {},
   "source": [
    "**Training and evaluating a densely connected model**"
   ]
  },
  {
   "cell_type": "code",
   "execution_count": null,
   "id": "b1024e92-fad6-4889-b9a5-b117e1f3c377",
   "metadata": {},
   "outputs": [],
   "source": [
    "raw_data.shape"
   ]
  },
  {
   "cell_type": "code",
   "execution_count": null,
   "id": "014be59c-d7fd-47a5-8d92-7d4188a2a92c",
   "metadata": {},
   "outputs": [],
   "source": [
    "(sequence_length, raw_data.shape[-1])"
   ]
  },
  {
   "cell_type": "code",
   "execution_count": null,
   "id": "346295d3-5d58-4759-9999-1260aa2b0879",
   "metadata": {},
   "outputs": [],
   "source": [
    "from tensorflow import keras\n",
    "from tensorflow.keras import layers\n",
    "\n",
    "inputs = keras.Input(shape=(sequence_length, raw_data.shape[-1]))\n",
    "x = layers.Flatten()(inputs)\n",
    "x = layers.Dense(16, activation=\"relu\")(x)\n",
    "outputs = layers.Dense(1)(x)\n",
    "model = keras.Model(inputs, outputs)\n",
    "\n",
    "callbacks = [\n",
    "    keras.callbacks.ModelCheckpoint(\"jena_dense.keras\",\n",
    "                                    save_best_only=True)\n",
    "]\n",
    "model.compile(optimizer=\"rmsprop\", loss=\"mse\", metrics=[\"mae\"])\n",
    "history = model.fit(train_dataset,\n",
    "                    epochs=10,\n",
    "                    validation_data=val_dataset,\n",
    "                    callbacks=callbacks)\n",
    "\n",
    "model = keras.models.load_model(\"jena_dense.keras\")\n",
    "print(f\"Test MAE: {model.evaluate(test_dataset)[1]:.2f}\")"
   ]
  },
  {
   "cell_type": "code",
   "execution_count": null,
   "id": "d4818311-4e37-47c3-acda-c49e110e6f5a",
   "metadata": {},
   "outputs": [],
   "source": [
    "import matplotlib.pyplot as plt\n",
    "loss = history.history[\"mae\"]\n",
    "val_loss = history.history[\"val_mae\"]\n",
    "epochs = range(1, len(loss) + 1)\n",
    "plt.figure()\n",
    "plt.plot(epochs, loss, \"bo\", label=\"Training MAE\")\n",
    "plt.plot(epochs, val_loss, \"b\", label=\"Validation MAE\")\n",
    "plt.plot(epochs, [baseline_MAE]*len(epochs), \"b--\",label=\"Baseline MAE\")\n",
    "plt.title(\"Training and validation MAE\")\n",
    "plt.legend()\n",
    "plt.show()"
   ]
  },
  {
   "cell_type": "markdown",
   "id": "cab9d423-efd6-4360-943a-139bb332316d",
   "metadata": {},
   "source": [
    "### Let's try a 1D convolutional model"
   ]
  },
  {
   "cell_type": "code",
   "execution_count": null,
   "id": "cf37f5a7-5d5e-4119-a093-ca2439477e73",
   "metadata": {},
   "outputs": [],
   "source": [
    "inputs = keras.Input(shape=(sequence_length, raw_data.shape[-1]))\n",
    "x = layers.Conv1D(8, 24, activation=\"relu\")(inputs)\n",
    "x = layers.MaxPooling1D(2)(x)\n",
    "x = layers.Conv1D(8, 12, activation=\"relu\")(x)\n",
    "x = layers.MaxPooling1D(2)(x)\n",
    "x = layers.Conv1D(8, 6, activation=\"relu\")(x)\n",
    "x = layers.GlobalAveragePooling1D()(x)  \n",
    "outputs = layers.Dense(1)(x)\n",
    "model = keras.Model(inputs, outputs)\n",
    "\n",
    "callbacks = [\n",
    "    keras.callbacks.ModelCheckpoint(\"jena_conv.keras\",\n",
    "                                    save_best_only=True)\n",
    "]\n",
    "model.compile(optimizer=\"rmsprop\", loss=\"mse\", metrics=[\"mae\"])"
   ]
  },
  {
   "cell_type": "code",
   "execution_count": null,
   "id": "6dec1dd9-8c07-4c7f-b914-41c0c11e2aa7",
   "metadata": {},
   "outputs": [],
   "source": [
    "model.summary()"
   ]
  },
  {
   "cell_type": "code",
   "execution_count": null,
   "id": "dce18eeb-4bf6-493c-a7ac-c2fca5fcd27c",
   "metadata": {},
   "outputs": [],
   "source": [
    "history = model.fit(train_dataset,\n",
    "                    epochs=10,\n",
    "                    validation_data=val_dataset,\n",
    "                    callbacks=callbacks)\n",
    "\n",
    "# model = keras.models.load_model(\"jena_conv.keras\")\n",
    "print(f\"Test MAE: {model.evaluate(test_dataset)[1]:.2f}\")"
   ]
  },
  {
   "cell_type": "code",
   "execution_count": null,
   "id": "42739472-d1b0-48f3-b0ac-b74fe78ea1f6",
   "metadata": {},
   "outputs": [],
   "source": [
    "import matplotlib.pyplot as plt\n",
    "loss = history.history[\"mae\"]\n",
    "val_loss = history.history[\"val_mae\"]\n",
    "epochs = range(1, len(loss) + 1)\n",
    "plt.figure()\n",
    "plt.plot(epochs, loss, \"bo\", label=\"Training MAE\")\n",
    "plt.plot(epochs, val_loss, \"b\", label=\"Validation MAE\")\n",
    "plt.plot(epochs, [baseline_MAE]*len(epochs), \"b--\",label=\"Baseline MAE\")\n",
    "plt.title(\"Training and validation MAE\")\n",
    "plt.legend()\n",
    "plt.show()"
   ]
  },
  {
   "cell_type": "markdown",
   "id": "632f2ddc-3da6-4288-b316-e25e765b0831",
   "metadata": {},
   "source": [
    "**Replace the last step by Flatten()**"
   ]
  },
  {
   "cell_type": "code",
   "execution_count": null,
   "id": "c2cf6f82-67a7-4032-a87f-81a22254a811",
   "metadata": {},
   "outputs": [],
   "source": [
    "inputs = keras.Input(shape=(sequence_length, raw_data.shape[-1]))\n",
    "x = layers.Conv1D(8, 24, activation=\"relu\")(inputs)\n",
    "x = layers.MaxPooling1D(2)(x)\n",
    "x = layers.Conv1D(8, 12, activation=\"relu\")(x)\n",
    "x = layers.MaxPooling1D(2)(x)\n",
    "x = layers.Conv1D(8, 6, activation=\"relu\")(x)\n",
    "x = layers.Flatten()(x)\n",
    "outputs = layers.Dense(1)(x)\n",
    "model = keras.Model(inputs, outputs)\n",
    "model.summary()"
   ]
  },
  {
   "cell_type": "code",
   "execution_count": null,
   "id": "7014bd45-b1be-4e97-9046-3dff9693786a",
   "metadata": {},
   "outputs": [],
   "source": [
    "\n",
    "callbacks = [\n",
    "    keras.callbacks.ModelCheckpoint(\"jena_conv.keras\",\n",
    "                                    save_best_only=True)\n",
    "]\n",
    "model.compile(optimizer=\"rmsprop\", loss=\"mse\", metrics=[\"mae\"])\n",
    "history = model.fit(train_dataset,\n",
    "                    epochs=10,\n",
    "                    validation_data=val_dataset,\n",
    "                    callbacks=callbacks)\n",
    "\n",
    "# model = keras.models.load_model(\"jena_conv.keras\")\n",
    "print(f\"Test MAE: {model.evaluate(test_dataset)[1]:.2f}\")"
   ]
  },
  {
   "cell_type": "markdown",
   "id": "1d6fd55c-069a-4870-8e5d-e5650458a3b4",
   "metadata": {},
   "source": [
    "## Understanding recurrent neural networks"
   ]
  },
  {
   "cell_type": "markdown",
   "id": "83fb95d1-d3ab-4b44-a9bf-954e14298b5e",
   "metadata": {},
   "source": [
    "### A recurrent layer in Keras"
   ]
  },
  {
   "cell_type": "code",
   "execution_count": null,
   "id": "8ae7ccd3-5021-4033-b1d3-5b765c7e35bf",
   "metadata": {},
   "outputs": [],
   "source": [
    "num_features = 14\n",
    "inputs = keras.Input(shape=(None, num_features))  ## didn't specify the length of the sequence \n",
    "outputs = layers.SimpleRNN(16)(inputs)\n",
    "model =  keras.Model(inputs, outputs)"
   ]
  },
  {
   "cell_type": "code",
   "execution_count": null,
   "id": "0380b8b6-eb2b-4474-9018-b6c5c59b6cda",
   "metadata": {},
   "outputs": [],
   "source": [
    "model.summary()"
   ]
  },
  {
   "cell_type": "markdown",
   "id": "aadf71d3-ceca-4740-92d1-e59ac56dc871",
   "metadata": {},
   "source": [
    "**An RNN layer that returns its full output sequence**"
   ]
  },
  {
   "cell_type": "code",
   "execution_count": null,
   "id": "1ce373c3-7c51-471f-bcd3-1d1d69b391f7",
   "metadata": {},
   "outputs": [],
   "source": [
    "num_features = 14\n",
    "inputs = keras.Input(shape=(None, num_features))\n",
    "outputs = layers.SimpleRNN(16, return_sequences=True)(inputs)\n",
    "model =  keras.Model(inputs, outputs)\n",
    "model.summary()"
   ]
  },
  {
   "cell_type": "markdown",
   "id": "47f8165b-dd2c-40d6-b955-b664191c0efa",
   "metadata": {},
   "source": [
    "### A first recurrent baseline"
   ]
  },
  {
   "cell_type": "markdown",
   "id": "12ef7e03-fcd0-4a74-bc82-790ea1c83d0f",
   "metadata": {},
   "source": [
    "**A simple LSTM-based model**"
   ]
  },
  {
   "cell_type": "code",
   "execution_count": null,
   "id": "99c80496-9d7e-47e2-a654-874cf748290d",
   "metadata": {},
   "outputs": [],
   "source": [
    "inputs = keras.Input(shape=(sequence_length, raw_data.shape[-1]))\n",
    "x = layers.LSTM(16)(inputs)\n",
    "outputs = layers.Dense(1)(x)\n",
    "model = keras.Model(inputs, outputs)"
   ]
  },
  {
   "cell_type": "code",
   "execution_count": null,
   "id": "108e1a40-5d53-403c-9571-03a73356fd8e",
   "metadata": {},
   "outputs": [],
   "source": [
    "model.summary()"
   ]
  },
  {
   "cell_type": "code",
   "execution_count": null,
   "id": "35822f8c-202c-4d03-8d8f-5412c3caac22",
   "metadata": {},
   "outputs": [],
   "source": [
    "callbacks = [\n",
    "    keras.callbacks.ModelCheckpoint(\"jena_lstm.keras\",\n",
    "                                    save_best_only=True)\n",
    "]\n",
    "model.compile(optimizer=\"rmsprop\", loss=\"mse\", metrics=[\"mae\"])\n",
    "history = model.fit(train_dataset,\n",
    "                    epochs=10,\n",
    "                    validation_data=val_dataset,\n",
    "                    callbacks=callbacks)\n",
    "\n",
    "# model = keras.models.load_model(\"jena_lstm.keras\")\n"
   ]
  },
  {
   "cell_type": "code",
   "execution_count": null,
   "id": "35499ef1",
   "metadata": {},
   "outputs": [],
   "source": [
    "print(f\"Test MAE: {model.evaluate(test_dataset)[1]:.2f}\")"
   ]
  },
  {
   "cell_type": "code",
   "execution_count": null,
   "id": "6aba5860",
   "metadata": {},
   "outputs": [],
   "source": [
    "for input1, output1 in test_dataset:\n",
    "    print(input1)\n",
    "    print(output1)\n",
    "    break"
   ]
  },
  {
   "cell_type": "code",
   "execution_count": null,
   "id": "82c6209f",
   "metadata": {},
   "outputs": [],
   "source": [
    "input1.shape"
   ]
  },
  {
   "cell_type": "code",
   "execution_count": null,
   "id": "93cd3127",
   "metadata": {},
   "outputs": [],
   "source": [
    "output1.shape"
   ]
  },
  {
   "cell_type": "code",
   "execution_count": null,
   "id": "2e66e153",
   "metadata": {},
   "outputs": [],
   "source": [
    "output1"
   ]
  },
  {
   "cell_type": "code",
   "execution_count": null,
   "id": "775070d0-e707-475f-ac6e-b8963d065fa8",
   "metadata": {},
   "outputs": [],
   "source": [
    "import matplotlib.pyplot as plt\n",
    "loss = history.history[\"mae\"]\n",
    "val_loss = history.history[\"val_mae\"]\n",
    "epochs = range(1, len(loss) + 1)\n",
    "plt.figure()\n",
    "plt.plot(epochs, loss, \"bo\", label=\"Training MAE\")\n",
    "plt.plot(epochs, val_loss, \"b\", label=\"Validation MAE\")\n",
    "plt.plot(epochs, [baseline_MAE]*len(epochs), \"b--\",label=\"Baseline MAE\")\n",
    "plt.title(\"Training and validation MAE\")\n",
    "plt.legend()\n",
    "plt.show()"
   ]
  },
  {
   "cell_type": "markdown",
   "id": "23960e93-1b77-4eef-b094-09d04fc470c8",
   "metadata": {},
   "source": [
    "**Stacking RNN layers**"
   ]
  },
  {
   "cell_type": "code",
   "execution_count": null,
   "id": "0fedb3e3-ff56-43d5-8bcb-cd78474d7186",
   "metadata": {},
   "outputs": [],
   "source": [
    "num_features = 14\n",
    "steps = 120\n",
    "inputs = keras.Input(shape=(steps, num_features))\n",
    "x = layers.SimpleRNN(16, return_sequences=True)(inputs)\n",
    "x = layers.SimpleRNN(16, return_sequences=True)(x)\n",
    "outputs = layers.SimpleRNN(16)(x)"
   ]
  },
  {
   "cell_type": "markdown",
   "id": "f71b6b4d-e586-4848-b390-593f45d8d913",
   "metadata": {},
   "source": [
    "## Advanced use of recurrent neural networks"
   ]
  },
  {
   "cell_type": "markdown",
   "id": "ffc0a440-cb95-4efb-84cf-e099f970dfeb",
   "metadata": {},
   "source": [
    "### Using recurrent dropout to fight overfitting"
   ]
  },
  {
   "cell_type": "code",
   "execution_count": null,
   "id": "76eece08-907d-4205-b75e-183244fe983f",
   "metadata": {},
   "outputs": [],
   "source": [
    "inputs = keras.Input(shape=(sequence_length, raw_data.shape[-1]))\n",
    "x = layers.LSTM(32, recurrent_dropout=0.25)(inputs)\n",
    "x = layers.Dropout(0.5)(x)\n",
    "outputs = layers.Dense(1)(x)\n",
    "model = keras.Model(inputs, outputs)\n",
    "\n",
    "callbacks = [\n",
    "    keras.callbacks.ModelCheckpoint(\"jena_lstm_dropout.keras\",\n",
    "                                    save_best_only=True)\n",
    "]\n",
    "model.compile(optimizer=\"rmsprop\", loss=\"mse\", metrics=[\"mae\"])\n",
    "history = model.fit(train_dataset,\n",
    "                    epochs=20,\n",
    "                    validation_data=val_dataset,\n",
    "                    callbacks=callbacks)"
   ]
  },
  {
   "cell_type": "code",
   "execution_count": null,
   "id": "40ba2af5-345a-4227-b869-6acaa67d37ce",
   "metadata": {},
   "outputs": [],
   "source": [
    "import matplotlib.pyplot as plt\n",
    "loss = history.history[\"mae\"]\n",
    "val_loss = history.history[\"val_mae\"]\n",
    "epochs = range(1, len(loss) + 1)\n",
    "plt.figure()\n",
    "plt.plot(epochs, loss, \"bo\", label=\"Training MAE\")\n",
    "plt.plot(epochs, val_loss, \"b\", label=\"Validation MAE\")\n",
    "plt.plot(epochs, [baseline_MAE]*len(epochs), \"b--\",label=\"Baseline MAE\")\n",
    "plt.title(\"Training and validation MAE\")\n",
    "plt.legend()\n",
    "plt.show()"
   ]
  },
  {
   "cell_type": "markdown",
   "id": "8137fa30-69c7-4a9b-be6c-bc4639cc2917",
   "metadata": {},
   "source": [
    "### Stacking recurrent layers"
   ]
  },
  {
   "cell_type": "markdown",
   "id": "c4299d2a-e689-4466-bc4b-b221a848cc37",
   "metadata": {},
   "source": [
    "**Training and evaluating a dropout-regularized, stacked GRU model**"
   ]
  },
  {
   "cell_type": "code",
   "execution_count": null,
   "id": "1804ef04-9857-44c5-ad58-7ce95684ef00",
   "metadata": {},
   "outputs": [],
   "source": [
    "inputs = keras.Input(shape=(sequence_length, raw_data.shape[-1]))\n",
    "x = layers.GRU(32, recurrent_dropout=0.5, return_sequences=True)(inputs)\n",
    "x = layers.GRU(32, recurrent_dropout=0.5)(x)\n",
    "x = layers.Dropout(0.5)(x)\n",
    "outputs = layers.Dense(1)(x)\n",
    "model = keras.Model(inputs, outputs)\n",
    "\n",
    "callbacks = [\n",
    "    keras.callbacks.ModelCheckpoint(\"jena_stacked_gru_dropout.keras\",\n",
    "                                    save_best_only=True)\n",
    "]\n",
    "model.compile(optimizer=\"rmsprop\", loss=\"mse\", metrics=[\"mae\"])\n",
    "history = model.fit(train_dataset,\n",
    "                    epochs=50,\n",
    "                    validation_data=val_dataset,\n",
    "                    callbacks=callbacks)\n",
    "model = keras.models.load_model(\"jena_stacked_gru_dropout.keras\")\n",
    "print(f\"Test MAE: {model.evaluate(test_dataset)[1]:.2f}\")"
   ]
  },
  {
   "cell_type": "code",
   "execution_count": null,
   "id": "95f18f36-aadd-4a62-aac5-9437005445c8",
   "metadata": {},
   "outputs": [],
   "source": [
    "import matplotlib.pyplot as plt\n",
    "loss = history.history[\"mae\"]\n",
    "val_loss = history.history[\"val_mae\"]\n",
    "epochs = range(1, len(loss) + 1)\n",
    "plt.figure()\n",
    "plt.plot(epochs, loss, \"bo\", label=\"Training MAE\")\n",
    "plt.plot(epochs, val_loss, \"b\", label=\"Validation MAE\")\n",
    "plt.plot(epochs, [baseline_MAE]*len(epochs), \"b--\",label=\"Baseline MAE\")\n",
    "plt.title(\"Training and validation MAE\")\n",
    "plt.legend()\n",
    "plt.show()"
   ]
  },
  {
   "cell_type": "code",
   "execution_count": null,
   "id": "290c6515-77f1-438c-b463-d4903438a4e5",
   "metadata": {},
   "outputs": [],
   "source": []
  }
 ],
 "metadata": {
  "kernelspec": {
   "display_name": "Python 3 (ipykernel)",
   "language": "python",
   "name": "python3"
  },
  "language_info": {
   "codemirror_mode": {
    "name": "ipython",
    "version": 3
   },
   "file_extension": ".py",
   "mimetype": "text/x-python",
   "name": "python",
   "nbconvert_exporter": "python",
   "pygments_lexer": "ipython3",
   "version": "3.12.0"
  }
 },
 "nbformat": 4,
 "nbformat_minor": 5
}
